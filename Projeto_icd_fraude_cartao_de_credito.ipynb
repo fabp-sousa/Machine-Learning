{
  "nbformat": 4,
  "nbformat_minor": 0,
  "metadata": {
    "colab": {
      "provenance": []
    },
    "kernelspec": {
      "name": "python3",
      "display_name": "Python 3"
    },
    "language_info": {
      "name": "python"
    }
  },
  "cells": [
    {
      "cell_type": "markdown",
      "source": [
        "Contexto: Este conjunto de dados é feito para obter as percepções dos inadimplentes de cartão de crédito com base em alguns atributos!\n",
        "\n",
        "Temos atributos como IncomeTotal, AMTAPPLICATION, AMT_CREDIT e cerca de 122 colunas no conjunto de dados de um aplicativo bancário..\n",
        "Tomamos esse conjunto de dados como nossa atribuição e tentamos executar um processo de análise que nos permite extraír insights de negócios da melhor maneira possível!\n",
        "Além disso, aplicamos formas de balancear os dados para testar a acurácia dos modelos que podem ser usados para a detecção de fraude em novos clientes que irão utilizar o aplicativo.\n",
        "\n",
        "Como o dataset tem 122 colunas, foi ponderado quais eram mais interessantes usar para o treinamento do modelo e fazer analises de modo que o processamento dos dados não demorasse.\n",
        "Para isso, as seguintes colunas foram dropadas restando apenas as colunas a seguir:\n",
        "\n",
        "**Important Columns**\n",
        "\n",
        "- AMT_CREDIT: Valor do crédito do empréstimo\n",
        "- SK_ID_CURR: ID do empréstimo em nossa amostra\n",
        "- TARGET: Variável alvo (1 - cliente com dificuldades de pagamento: atrasou mais de X dias em pelo menos uma das primeiras Y prestações do empréstimo da nossa amostra, 0 - todos os outros casos)\n",
        "- AMT_INCOME_TOTAL: Renda do cliente\n",
        "- AMT_ANNUITY: anuidade do empréstimo\n",
        "- AMT_GOODS_PRICE: Para empréstimos ao consumidor, é o preço dos bens para os quais o empréstimo é concedido\n",
        "- NAME_INCOME_TYPE: Tipo de renda do cliente (empresário, trabalho, licença maternidade,…)\n",
        "- HOUR_APPR_PROCESS_START: A que horas aproximadamente o cliente solicitou o empréstimo\n",
        "- ORGANIZATION_TYPE: Tipo de organização onde o cliente trabalha"
      ],
      "metadata": {
        "id": "Jb3Z2fWcSxGZ"
      }
    },
    {
      "cell_type": "markdown",
      "source": [
        "## Imports"
      ],
      "metadata": {
        "id": "Bl-DrzZplqjx"
      }
    },
    {
      "cell_type": "code",
      "source": [
        "# data analysis\n",
        "import pandas as pd\n",
        "import numpy as np\n",
        "import random as rnd\n",
        "\n",
        "# visualization\n",
        "import seaborn as sns\n",
        "import matplotlib.pyplot as plt\n",
        "%matplotlib inline\n",
        "from sklearn.model_selection import train_test_split\n",
        "from sklearn.preprocessing import LabelEncoder\n",
        "#machine learning\n",
        "\n",
        "from sklearn.model_selection import train_test_split\n",
        "from sklearn.linear_model import LogisticRegression\n",
        "from sklearn.ensemble import AdaBoostClassifier\n",
        "from sklearn.metrics import confusion_matrix,accuracy_score\n",
        "from sklearn.ensemble import RandomForestClassifier\n",
        "from sklearn.metrics import roc_auc_score\n",
        "from sklearn.preprocessing import MinMaxScaler, StandardScaler\n",
        "from sklearn import preprocessing\n",
        "import matplotlib.pyplot as plt\n",
        "import scipy.stats as scs\n"
      ],
      "metadata": {
        "id": "f08W677wlpp0"
      },
      "execution_count": null,
      "outputs": []
    },
    {
      "cell_type": "markdown",
      "source": [
        "# Leitura da base"
      ],
      "metadata": {
        "id": "PGhlXFR5zUWm"
      }
    },
    {
      "cell_type": "code",
      "source": [
        "data=pd.read_csv('/content/application_data.csv')\n",
        "data.head()"
      ],
      "metadata": {
        "colab": {
          "base_uri": "https://localhost:8080/",
          "height": 299
        },
        "id": "c7iJAG1ultpC",
        "outputId": "b98d5ab2-3b9f-4fe2-f239-0773ea43bd9b"
      },
      "execution_count": null,
      "outputs": [
        {
          "output_type": "execute_result",
          "data": {
            "text/plain": [
              "   SK_ID_CURR  TARGET NAME_CONTRACT_TYPE CODE_GENDER FLAG_OWN_CAR  \\\n",
              "0      100002       1         Cash loans           M            N   \n",
              "1      100003       0         Cash loans           F            N   \n",
              "2      100004       0    Revolving loans           M            Y   \n",
              "3      100006       0         Cash loans           F            N   \n",
              "4      100007       0         Cash loans           M            N   \n",
              "\n",
              "  FLAG_OWN_REALTY  CNT_CHILDREN  AMT_INCOME_TOTAL  AMT_CREDIT  AMT_ANNUITY  \\\n",
              "0               Y             0          202500.0    406597.5      24700.5   \n",
              "1               N             0          270000.0   1293502.5      35698.5   \n",
              "2               Y             0           67500.0    135000.0       6750.0   \n",
              "3               Y             0          135000.0    312682.5      29686.5   \n",
              "4               Y             0          121500.0    513000.0      21865.5   \n",
              "\n",
              "   ...  FLAG_DOCUMENT_18 FLAG_DOCUMENT_19 FLAG_DOCUMENT_20 FLAG_DOCUMENT_21  \\\n",
              "0  ...                 0                0                0                0   \n",
              "1  ...                 0                0                0                0   \n",
              "2  ...                 0                0                0                0   \n",
              "3  ...                 0                0                0                0   \n",
              "4  ...                 0                0                0                0   \n",
              "\n",
              "  AMT_REQ_CREDIT_BUREAU_HOUR AMT_REQ_CREDIT_BUREAU_DAY  \\\n",
              "0                        0.0                       0.0   \n",
              "1                        0.0                       0.0   \n",
              "2                        0.0                       0.0   \n",
              "3                        NaN                       NaN   \n",
              "4                        0.0                       0.0   \n",
              "\n",
              "   AMT_REQ_CREDIT_BUREAU_WEEK  AMT_REQ_CREDIT_BUREAU_MON  \\\n",
              "0                         0.0                        0.0   \n",
              "1                         0.0                        0.0   \n",
              "2                         0.0                        0.0   \n",
              "3                         NaN                        NaN   \n",
              "4                         0.0                        0.0   \n",
              "\n",
              "   AMT_REQ_CREDIT_BUREAU_QRT  AMT_REQ_CREDIT_BUREAU_YEAR  \n",
              "0                        0.0                         1.0  \n",
              "1                        0.0                         0.0  \n",
              "2                        0.0                         0.0  \n",
              "3                        NaN                         NaN  \n",
              "4                        0.0                         0.0  \n",
              "\n",
              "[5 rows x 122 columns]"
            ],
            "text/html": [
              "\n",
              "  <div id=\"df-54dba68b-a4d4-4d87-b0a8-c2977d445c06\">\n",
              "    <div class=\"colab-df-container\">\n",
              "      <div>\n",
              "<style scoped>\n",
              "    .dataframe tbody tr th:only-of-type {\n",
              "        vertical-align: middle;\n",
              "    }\n",
              "\n",
              "    .dataframe tbody tr th {\n",
              "        vertical-align: top;\n",
              "    }\n",
              "\n",
              "    .dataframe thead th {\n",
              "        text-align: right;\n",
              "    }\n",
              "</style>\n",
              "<table border=\"1\" class=\"dataframe\">\n",
              "  <thead>\n",
              "    <tr style=\"text-align: right;\">\n",
              "      <th></th>\n",
              "      <th>SK_ID_CURR</th>\n",
              "      <th>TARGET</th>\n",
              "      <th>NAME_CONTRACT_TYPE</th>\n",
              "      <th>CODE_GENDER</th>\n",
              "      <th>FLAG_OWN_CAR</th>\n",
              "      <th>FLAG_OWN_REALTY</th>\n",
              "      <th>CNT_CHILDREN</th>\n",
              "      <th>AMT_INCOME_TOTAL</th>\n",
              "      <th>AMT_CREDIT</th>\n",
              "      <th>AMT_ANNUITY</th>\n",
              "      <th>...</th>\n",
              "      <th>FLAG_DOCUMENT_18</th>\n",
              "      <th>FLAG_DOCUMENT_19</th>\n",
              "      <th>FLAG_DOCUMENT_20</th>\n",
              "      <th>FLAG_DOCUMENT_21</th>\n",
              "      <th>AMT_REQ_CREDIT_BUREAU_HOUR</th>\n",
              "      <th>AMT_REQ_CREDIT_BUREAU_DAY</th>\n",
              "      <th>AMT_REQ_CREDIT_BUREAU_WEEK</th>\n",
              "      <th>AMT_REQ_CREDIT_BUREAU_MON</th>\n",
              "      <th>AMT_REQ_CREDIT_BUREAU_QRT</th>\n",
              "      <th>AMT_REQ_CREDIT_BUREAU_YEAR</th>\n",
              "    </tr>\n",
              "  </thead>\n",
              "  <tbody>\n",
              "    <tr>\n",
              "      <th>0</th>\n",
              "      <td>100002</td>\n",
              "      <td>1</td>\n",
              "      <td>Cash loans</td>\n",
              "      <td>M</td>\n",
              "      <td>N</td>\n",
              "      <td>Y</td>\n",
              "      <td>0</td>\n",
              "      <td>202500.0</td>\n",
              "      <td>406597.5</td>\n",
              "      <td>24700.5</td>\n",
              "      <td>...</td>\n",
              "      <td>0</td>\n",
              "      <td>0</td>\n",
              "      <td>0</td>\n",
              "      <td>0</td>\n",
              "      <td>0.0</td>\n",
              "      <td>0.0</td>\n",
              "      <td>0.0</td>\n",
              "      <td>0.0</td>\n",
              "      <td>0.0</td>\n",
              "      <td>1.0</td>\n",
              "    </tr>\n",
              "    <tr>\n",
              "      <th>1</th>\n",
              "      <td>100003</td>\n",
              "      <td>0</td>\n",
              "      <td>Cash loans</td>\n",
              "      <td>F</td>\n",
              "      <td>N</td>\n",
              "      <td>N</td>\n",
              "      <td>0</td>\n",
              "      <td>270000.0</td>\n",
              "      <td>1293502.5</td>\n",
              "      <td>35698.5</td>\n",
              "      <td>...</td>\n",
              "      <td>0</td>\n",
              "      <td>0</td>\n",
              "      <td>0</td>\n",
              "      <td>0</td>\n",
              "      <td>0.0</td>\n",
              "      <td>0.0</td>\n",
              "      <td>0.0</td>\n",
              "      <td>0.0</td>\n",
              "      <td>0.0</td>\n",
              "      <td>0.0</td>\n",
              "    </tr>\n",
              "    <tr>\n",
              "      <th>2</th>\n",
              "      <td>100004</td>\n",
              "      <td>0</td>\n",
              "      <td>Revolving loans</td>\n",
              "      <td>M</td>\n",
              "      <td>Y</td>\n",
              "      <td>Y</td>\n",
              "      <td>0</td>\n",
              "      <td>67500.0</td>\n",
              "      <td>135000.0</td>\n",
              "      <td>6750.0</td>\n",
              "      <td>...</td>\n",
              "      <td>0</td>\n",
              "      <td>0</td>\n",
              "      <td>0</td>\n",
              "      <td>0</td>\n",
              "      <td>0.0</td>\n",
              "      <td>0.0</td>\n",
              "      <td>0.0</td>\n",
              "      <td>0.0</td>\n",
              "      <td>0.0</td>\n",
              "      <td>0.0</td>\n",
              "    </tr>\n",
              "    <tr>\n",
              "      <th>3</th>\n",
              "      <td>100006</td>\n",
              "      <td>0</td>\n",
              "      <td>Cash loans</td>\n",
              "      <td>F</td>\n",
              "      <td>N</td>\n",
              "      <td>Y</td>\n",
              "      <td>0</td>\n",
              "      <td>135000.0</td>\n",
              "      <td>312682.5</td>\n",
              "      <td>29686.5</td>\n",
              "      <td>...</td>\n",
              "      <td>0</td>\n",
              "      <td>0</td>\n",
              "      <td>0</td>\n",
              "      <td>0</td>\n",
              "      <td>NaN</td>\n",
              "      <td>NaN</td>\n",
              "      <td>NaN</td>\n",
              "      <td>NaN</td>\n",
              "      <td>NaN</td>\n",
              "      <td>NaN</td>\n",
              "    </tr>\n",
              "    <tr>\n",
              "      <th>4</th>\n",
              "      <td>100007</td>\n",
              "      <td>0</td>\n",
              "      <td>Cash loans</td>\n",
              "      <td>M</td>\n",
              "      <td>N</td>\n",
              "      <td>Y</td>\n",
              "      <td>0</td>\n",
              "      <td>121500.0</td>\n",
              "      <td>513000.0</td>\n",
              "      <td>21865.5</td>\n",
              "      <td>...</td>\n",
              "      <td>0</td>\n",
              "      <td>0</td>\n",
              "      <td>0</td>\n",
              "      <td>0</td>\n",
              "      <td>0.0</td>\n",
              "      <td>0.0</td>\n",
              "      <td>0.0</td>\n",
              "      <td>0.0</td>\n",
              "      <td>0.0</td>\n",
              "      <td>0.0</td>\n",
              "    </tr>\n",
              "  </tbody>\n",
              "</table>\n",
              "<p>5 rows × 122 columns</p>\n",
              "</div>\n",
              "      <button class=\"colab-df-convert\" onclick=\"convertToInteractive('df-54dba68b-a4d4-4d87-b0a8-c2977d445c06')\"\n",
              "              title=\"Convert this dataframe to an interactive table.\"\n",
              "              style=\"display:none;\">\n",
              "        \n",
              "  <svg xmlns=\"http://www.w3.org/2000/svg\" height=\"24px\"viewBox=\"0 0 24 24\"\n",
              "       width=\"24px\">\n",
              "    <path d=\"M0 0h24v24H0V0z\" fill=\"none\"/>\n",
              "    <path d=\"M18.56 5.44l.94 2.06.94-2.06 2.06-.94-2.06-.94-.94-2.06-.94 2.06-2.06.94zm-11 1L8.5 8.5l.94-2.06 2.06-.94-2.06-.94L8.5 2.5l-.94 2.06-2.06.94zm10 10l.94 2.06.94-2.06 2.06-.94-2.06-.94-.94-2.06-.94 2.06-2.06.94z\"/><path d=\"M17.41 7.96l-1.37-1.37c-.4-.4-.92-.59-1.43-.59-.52 0-1.04.2-1.43.59L10.3 9.45l-7.72 7.72c-.78.78-.78 2.05 0 2.83L4 21.41c.39.39.9.59 1.41.59.51 0 1.02-.2 1.41-.59l7.78-7.78 2.81-2.81c.8-.78.8-2.07 0-2.86zM5.41 20L4 18.59l7.72-7.72 1.47 1.35L5.41 20z\"/>\n",
              "  </svg>\n",
              "      </button>\n",
              "      \n",
              "  <style>\n",
              "    .colab-df-container {\n",
              "      display:flex;\n",
              "      flex-wrap:wrap;\n",
              "      gap: 12px;\n",
              "    }\n",
              "\n",
              "    .colab-df-convert {\n",
              "      background-color: #E8F0FE;\n",
              "      border: none;\n",
              "      border-radius: 50%;\n",
              "      cursor: pointer;\n",
              "      display: none;\n",
              "      fill: #1967D2;\n",
              "      height: 32px;\n",
              "      padding: 0 0 0 0;\n",
              "      width: 32px;\n",
              "    }\n",
              "\n",
              "    .colab-df-convert:hover {\n",
              "      background-color: #E2EBFA;\n",
              "      box-shadow: 0px 1px 2px rgba(60, 64, 67, 0.3), 0px 1px 3px 1px rgba(60, 64, 67, 0.15);\n",
              "      fill: #174EA6;\n",
              "    }\n",
              "\n",
              "    [theme=dark] .colab-df-convert {\n",
              "      background-color: #3B4455;\n",
              "      fill: #D2E3FC;\n",
              "    }\n",
              "\n",
              "    [theme=dark] .colab-df-convert:hover {\n",
              "      background-color: #434B5C;\n",
              "      box-shadow: 0px 1px 3px 1px rgba(0, 0, 0, 0.15);\n",
              "      filter: drop-shadow(0px 1px 2px rgba(0, 0, 0, 0.3));\n",
              "      fill: #FFFFFF;\n",
              "    }\n",
              "  </style>\n",
              "\n",
              "      <script>\n",
              "        const buttonEl =\n",
              "          document.querySelector('#df-54dba68b-a4d4-4d87-b0a8-c2977d445c06 button.colab-df-convert');\n",
              "        buttonEl.style.display =\n",
              "          google.colab.kernel.accessAllowed ? 'block' : 'none';\n",
              "\n",
              "        async function convertToInteractive(key) {\n",
              "          const element = document.querySelector('#df-54dba68b-a4d4-4d87-b0a8-c2977d445c06');\n",
              "          const dataTable =\n",
              "            await google.colab.kernel.invokeFunction('convertToInteractive',\n",
              "                                                     [key], {});\n",
              "          if (!dataTable) return;\n",
              "\n",
              "          const docLinkHtml = 'Like what you see? Visit the ' +\n",
              "            '<a target=\"_blank\" href=https://colab.research.google.com/notebooks/data_table.ipynb>data table notebook</a>'\n",
              "            + ' to learn more about interactive tables.';\n",
              "          element.innerHTML = '';\n",
              "          dataTable['output_type'] = 'display_data';\n",
              "          await google.colab.output.renderOutput(dataTable, element);\n",
              "          const docLink = document.createElement('div');\n",
              "          docLink.innerHTML = docLinkHtml;\n",
              "          element.appendChild(docLink);\n",
              "        }\n",
              "      </script>\n",
              "    </div>\n",
              "  </div>\n",
              "  "
            ]
          },
          "metadata": {},
          "execution_count": 3
        }
      ]
    },
    {
      "cell_type": "markdown",
      "source": [
        "# Data cleaning\n",
        "\n"
      ],
      "metadata": {
        "id": "Kke6tsjqbLs0"
      }
    },
    {
      "cell_type": "markdown",
      "source": [
        "Aqui retiramos algumas colunas, por notar que estão poluindo nossos dados."
      ],
      "metadata": {
        "id": "44ag8TJIzn9O"
      }
    },
    {
      "cell_type": "code",
      "source": [
        "data.drop([\"FLAG_OWN_CAR\",\"FLAG_OWN_REALTY\",\"CNT_CHILDREN\",\"NAME_EDUCATION_TYPE\",\"NAME_FAMILY_STATUS\",\n",
        "         \"NAME_HOUSING_TYPE\",\"REGION_POPULATION_RELATIVE\",\"DAYS_BIRTH\",\"DAYS_EMPLOYED\",\"DAYS_REGISTRATION\",\"DAYS_ID_PUBLISH\",\"OWN_CAR_AGE\",\"FLAG_MOBIL\",\n",
        "         \"FLAG_EMP_PHONE\",\"FLAG_WORK_PHONE\",\"FLAG_CONT_MOBILE\",\"FLAG_PHONE\",\"FLAG_EMAIL\",\"FLAG_EMAIL\",\"CNT_FAM_MEMBERS\",\"REGION_RATING_CLIENT\",\n",
        "         \"REGION_RATING_CLIENT_W_CITY\",\"REG_REGION_NOT_LIVE_REGION\",\"REG_REGION_NOT_WORK_REGION\",\"NAME_TYPE_SUITE\",\n",
        "         \"LIVE_REGION_NOT_WORK_REGION\",\"REG_CITY_NOT_LIVE_CITY\",\"REG_CITY_NOT_WORK_CITY\",\"LIVE_CITY_NOT_WORK_CITY\"],axis=1,inplace=True)\n",
        "\n",
        "data.drop(['FONDKAPREMONT_MODE', 'HOUSETYPE_MODE',\n",
        "       'WALLSMATERIAL_MODE', 'EMERGENCYSTATE_MODE', 'OBS_30_CNT_SOCIAL_CIRCLE',\n",
        "       'DEF_30_CNT_SOCIAL_CIRCLE', 'OBS_60_CNT_SOCIAL_CIRCLE',\n",
        "       'DEF_60_CNT_SOCIAL_CIRCLE', 'DAYS_LAST_PHONE_CHANGE', 'FLAG_DOCUMENT_2',\n",
        "       'FLAG_DOCUMENT_3', 'FLAG_DOCUMENT_4', 'FLAG_DOCUMENT_5',\n",
        "       'FLAG_DOCUMENT_6', 'FLAG_DOCUMENT_7', 'FLAG_DOCUMENT_8',\n",
        "       'FLAG_DOCUMENT_9', 'FLAG_DOCUMENT_10', 'FLAG_DOCUMENT_11',\n",
        "       'FLAG_DOCUMENT_12', 'FLAG_DOCUMENT_13', 'FLAG_DOCUMENT_14',\n",
        "       'FLAG_DOCUMENT_15', 'FLAG_DOCUMENT_16', 'FLAG_DOCUMENT_17',\n",
        "       'FLAG_DOCUMENT_18', 'FLAG_DOCUMENT_19', 'FLAG_DOCUMENT_20',\n",
        "       'FLAG_DOCUMENT_21', 'AMT_REQ_CREDIT_BUREAU_HOUR','AMT_REQ_CREDIT_BUREAU_DAY', 'AMT_REQ_CREDIT_BUREAU_WEEK',\n",
        "       'AMT_REQ_CREDIT_BUREAU_MON', 'AMT_REQ_CREDIT_BUREAU_QRT',\n",
        "'AMT_REQ_CREDIT_BUREAU_YEAR'],axis=1,inplace=True)\n",
        "\n",
        "data.drop(['EXT_SOURCE_1', 'EXT_SOURCE_2', 'EXT_SOURCE_3', 'APARTMENTS_AVG',\n",
        "       'BASEMENTAREA_AVG', 'YEARS_BEGINEXPLUATATION_AVG', 'YEARS_BUILD_AVG',\n",
        "       'COMMONAREA_AVG', 'ELEVATORS_AVG', 'ENTRANCES_AVG', 'FLOORSMAX_AVG',\n",
        "       'FLOORSMIN_AVG', 'LANDAREA_AVG', 'LIVINGAPARTMENTS_AVG','NAME_CONTRACT_TYPE',\n",
        "       'LIVINGAREA_AVG', 'NONLIVINGAPARTMENTS_AVG', 'NONLIVINGAREA_AVG',\n",
        "       'APARTMENTS_MODE', 'BASEMENTAREA_MODE', 'YEARS_BEGINEXPLUATATION_MODE',\n",
        "       'YEARS_BUILD_MODE', 'COMMONAREA_MODE', 'ELEVATORS_MODE','WEEKDAY_APPR_PROCESS_START',\n",
        "       'ENTRANCES_MODE', 'FLOORSMAX_MODE', 'FLOORSMIN_MODE', 'LANDAREA_MODE',\n",
        "       'LIVINGAPARTMENTS_MODE', 'LIVINGAREA_MODE', 'NONLIVINGAPARTMENTS_MODE',\n",
        "       'NONLIVINGAREA_MODE', 'APARTMENTS_MEDI', 'BASEMENTAREA_MEDI',\n",
        "       'YEARS_BEGINEXPLUATATION_MEDI', 'YEARS_BUILD_MEDI', 'COMMONAREA_MEDI',\n",
        "       'ELEVATORS_MEDI', 'ENTRANCES_MEDI', 'FLOORSMAX_MEDI', 'FLOORSMIN_MEDI',\n",
        "       'LANDAREA_MEDI', 'LIVINGAPARTMENTS_MEDI', 'LIVINGAREA_MEDI',\n",
        "       'NONLIVINGAPARTMENTS_MEDI', 'NONLIVINGAREA_MEDI', 'TOTALAREA_MODE'],axis=1,inplace=True)"
      ],
      "metadata": {
        "id": "e-HyyiGyueeR"
      },
      "execution_count": null,
      "outputs": []
    },
    {
      "cell_type": "code",
      "source": [
        "# Conferindo se há nulos na base\n",
        "data.isna().sum()"
      ],
      "metadata": {
        "colab": {
          "base_uri": "https://localhost:8080/"
        },
        "id": "6cSVL7mxl20K",
        "outputId": "249ac133-1410-49ef-f281-f3008e1aaebe"
      },
      "execution_count": null,
      "outputs": [
        {
          "output_type": "execute_result",
          "data": {
            "text/plain": [
              "SK_ID_CURR                     0\n",
              "TARGET                         0\n",
              "CODE_GENDER                    0\n",
              "AMT_INCOME_TOTAL               0\n",
              "AMT_CREDIT                     0\n",
              "AMT_ANNUITY                   12\n",
              "AMT_GOODS_PRICE              278\n",
              "NAME_INCOME_TYPE               0\n",
              "OCCUPATION_TYPE            96391\n",
              "HOUR_APPR_PROCESS_START        0\n",
              "ORGANIZATION_TYPE              0\n",
              "dtype: int64"
            ]
          },
          "metadata": {},
          "execution_count": 5
        }
      ]
    },
    {
      "cell_type": "code",
      "source": [
        "# Conferindo se o tipo de dados de cada coluna\n",
        "data.info()"
      ],
      "metadata": {
        "id": "zZuZunAbme6M",
        "colab": {
          "base_uri": "https://localhost:8080/"
        },
        "outputId": "9fd2172c-997f-44ed-8183-7ebd93041584"
      },
      "execution_count": null,
      "outputs": [
        {
          "output_type": "stream",
          "name": "stdout",
          "text": [
            "<class 'pandas.core.frame.DataFrame'>\n",
            "RangeIndex: 307511 entries, 0 to 307510\n",
            "Data columns (total 11 columns):\n",
            " #   Column                   Non-Null Count   Dtype  \n",
            "---  ------                   --------------   -----  \n",
            " 0   SK_ID_CURR               307511 non-null  int64  \n",
            " 1   TARGET                   307511 non-null  int64  \n",
            " 2   CODE_GENDER              307511 non-null  object \n",
            " 3   AMT_INCOME_TOTAL         307511 non-null  float64\n",
            " 4   AMT_CREDIT               307511 non-null  float64\n",
            " 5   AMT_ANNUITY              307499 non-null  float64\n",
            " 6   AMT_GOODS_PRICE          307233 non-null  float64\n",
            " 7   NAME_INCOME_TYPE         307511 non-null  object \n",
            " 8   OCCUPATION_TYPE          211120 non-null  object \n",
            " 9   HOUR_APPR_PROCESS_START  307511 non-null  int64  \n",
            " 10  ORGANIZATION_TYPE        307511 non-null  object \n",
            "dtypes: float64(4), int64(3), object(4)\n",
            "memory usage: 25.8+ MB\n"
          ]
        }
      ]
    },
    {
      "cell_type": "code",
      "source": [
        "data.head()"
      ],
      "metadata": {
        "colab": {
          "base_uri": "https://localhost:8080/",
          "height": 305
        },
        "id": "FmyKBytOvAvP",
        "outputId": "a584b13a-4cf6-4c3a-862f-0ac4247184b8"
      },
      "execution_count": null,
      "outputs": [
        {
          "output_type": "execute_result",
          "data": {
            "text/plain": [
              "   SK_ID_CURR  TARGET CODE_GENDER  AMT_INCOME_TOTAL  AMT_CREDIT  AMT_ANNUITY  \\\n",
              "0      100002       1           M          202500.0    406597.5      24700.5   \n",
              "1      100003       0           F          270000.0   1293502.5      35698.5   \n",
              "2      100004       0           M           67500.0    135000.0       6750.0   \n",
              "3      100006       0           F          135000.0    312682.5      29686.5   \n",
              "4      100007       0           M          121500.0    513000.0      21865.5   \n",
              "\n",
              "   AMT_GOODS_PRICE NAME_INCOME_TYPE OCCUPATION_TYPE  HOUR_APPR_PROCESS_START  \\\n",
              "0         351000.0          Working        Laborers                       10   \n",
              "1        1129500.0    State servant      Core staff                       11   \n",
              "2         135000.0          Working        Laborers                        9   \n",
              "3         297000.0          Working        Laborers                       17   \n",
              "4         513000.0          Working      Core staff                       11   \n",
              "\n",
              "        ORGANIZATION_TYPE  \n",
              "0  Business Entity Type 3  \n",
              "1                  School  \n",
              "2              Government  \n",
              "3  Business Entity Type 3  \n",
              "4                Religion  "
            ],
            "text/html": [
              "\n",
              "  <div id=\"df-4b51669a-8010-491e-a12e-53d6dee39d86\">\n",
              "    <div class=\"colab-df-container\">\n",
              "      <div>\n",
              "<style scoped>\n",
              "    .dataframe tbody tr th:only-of-type {\n",
              "        vertical-align: middle;\n",
              "    }\n",
              "\n",
              "    .dataframe tbody tr th {\n",
              "        vertical-align: top;\n",
              "    }\n",
              "\n",
              "    .dataframe thead th {\n",
              "        text-align: right;\n",
              "    }\n",
              "</style>\n",
              "<table border=\"1\" class=\"dataframe\">\n",
              "  <thead>\n",
              "    <tr style=\"text-align: right;\">\n",
              "      <th></th>\n",
              "      <th>SK_ID_CURR</th>\n",
              "      <th>TARGET</th>\n",
              "      <th>CODE_GENDER</th>\n",
              "      <th>AMT_INCOME_TOTAL</th>\n",
              "      <th>AMT_CREDIT</th>\n",
              "      <th>AMT_ANNUITY</th>\n",
              "      <th>AMT_GOODS_PRICE</th>\n",
              "      <th>NAME_INCOME_TYPE</th>\n",
              "      <th>OCCUPATION_TYPE</th>\n",
              "      <th>HOUR_APPR_PROCESS_START</th>\n",
              "      <th>ORGANIZATION_TYPE</th>\n",
              "    </tr>\n",
              "  </thead>\n",
              "  <tbody>\n",
              "    <tr>\n",
              "      <th>0</th>\n",
              "      <td>100002</td>\n",
              "      <td>1</td>\n",
              "      <td>M</td>\n",
              "      <td>202500.0</td>\n",
              "      <td>406597.5</td>\n",
              "      <td>24700.5</td>\n",
              "      <td>351000.0</td>\n",
              "      <td>Working</td>\n",
              "      <td>Laborers</td>\n",
              "      <td>10</td>\n",
              "      <td>Business Entity Type 3</td>\n",
              "    </tr>\n",
              "    <tr>\n",
              "      <th>1</th>\n",
              "      <td>100003</td>\n",
              "      <td>0</td>\n",
              "      <td>F</td>\n",
              "      <td>270000.0</td>\n",
              "      <td>1293502.5</td>\n",
              "      <td>35698.5</td>\n",
              "      <td>1129500.0</td>\n",
              "      <td>State servant</td>\n",
              "      <td>Core staff</td>\n",
              "      <td>11</td>\n",
              "      <td>School</td>\n",
              "    </tr>\n",
              "    <tr>\n",
              "      <th>2</th>\n",
              "      <td>100004</td>\n",
              "      <td>0</td>\n",
              "      <td>M</td>\n",
              "      <td>67500.0</td>\n",
              "      <td>135000.0</td>\n",
              "      <td>6750.0</td>\n",
              "      <td>135000.0</td>\n",
              "      <td>Working</td>\n",
              "      <td>Laborers</td>\n",
              "      <td>9</td>\n",
              "      <td>Government</td>\n",
              "    </tr>\n",
              "    <tr>\n",
              "      <th>3</th>\n",
              "      <td>100006</td>\n",
              "      <td>0</td>\n",
              "      <td>F</td>\n",
              "      <td>135000.0</td>\n",
              "      <td>312682.5</td>\n",
              "      <td>29686.5</td>\n",
              "      <td>297000.0</td>\n",
              "      <td>Working</td>\n",
              "      <td>Laborers</td>\n",
              "      <td>17</td>\n",
              "      <td>Business Entity Type 3</td>\n",
              "    </tr>\n",
              "    <tr>\n",
              "      <th>4</th>\n",
              "      <td>100007</td>\n",
              "      <td>0</td>\n",
              "      <td>M</td>\n",
              "      <td>121500.0</td>\n",
              "      <td>513000.0</td>\n",
              "      <td>21865.5</td>\n",
              "      <td>513000.0</td>\n",
              "      <td>Working</td>\n",
              "      <td>Core staff</td>\n",
              "      <td>11</td>\n",
              "      <td>Religion</td>\n",
              "    </tr>\n",
              "  </tbody>\n",
              "</table>\n",
              "</div>\n",
              "      <button class=\"colab-df-convert\" onclick=\"convertToInteractive('df-4b51669a-8010-491e-a12e-53d6dee39d86')\"\n",
              "              title=\"Convert this dataframe to an interactive table.\"\n",
              "              style=\"display:none;\">\n",
              "        \n",
              "  <svg xmlns=\"http://www.w3.org/2000/svg\" height=\"24px\"viewBox=\"0 0 24 24\"\n",
              "       width=\"24px\">\n",
              "    <path d=\"M0 0h24v24H0V0z\" fill=\"none\"/>\n",
              "    <path d=\"M18.56 5.44l.94 2.06.94-2.06 2.06-.94-2.06-.94-.94-2.06-.94 2.06-2.06.94zm-11 1L8.5 8.5l.94-2.06 2.06-.94-2.06-.94L8.5 2.5l-.94 2.06-2.06.94zm10 10l.94 2.06.94-2.06 2.06-.94-2.06-.94-.94-2.06-.94 2.06-2.06.94z\"/><path d=\"M17.41 7.96l-1.37-1.37c-.4-.4-.92-.59-1.43-.59-.52 0-1.04.2-1.43.59L10.3 9.45l-7.72 7.72c-.78.78-.78 2.05 0 2.83L4 21.41c.39.39.9.59 1.41.59.51 0 1.02-.2 1.41-.59l7.78-7.78 2.81-2.81c.8-.78.8-2.07 0-2.86zM5.41 20L4 18.59l7.72-7.72 1.47 1.35L5.41 20z\"/>\n",
              "  </svg>\n",
              "      </button>\n",
              "      \n",
              "  <style>\n",
              "    .colab-df-container {\n",
              "      display:flex;\n",
              "      flex-wrap:wrap;\n",
              "      gap: 12px;\n",
              "    }\n",
              "\n",
              "    .colab-df-convert {\n",
              "      background-color: #E8F0FE;\n",
              "      border: none;\n",
              "      border-radius: 50%;\n",
              "      cursor: pointer;\n",
              "      display: none;\n",
              "      fill: #1967D2;\n",
              "      height: 32px;\n",
              "      padding: 0 0 0 0;\n",
              "      width: 32px;\n",
              "    }\n",
              "\n",
              "    .colab-df-convert:hover {\n",
              "      background-color: #E2EBFA;\n",
              "      box-shadow: 0px 1px 2px rgba(60, 64, 67, 0.3), 0px 1px 3px 1px rgba(60, 64, 67, 0.15);\n",
              "      fill: #174EA6;\n",
              "    }\n",
              "\n",
              "    [theme=dark] .colab-df-convert {\n",
              "      background-color: #3B4455;\n",
              "      fill: #D2E3FC;\n",
              "    }\n",
              "\n",
              "    [theme=dark] .colab-df-convert:hover {\n",
              "      background-color: #434B5C;\n",
              "      box-shadow: 0px 1px 3px 1px rgba(0, 0, 0, 0.15);\n",
              "      filter: drop-shadow(0px 1px 2px rgba(0, 0, 0, 0.3));\n",
              "      fill: #FFFFFF;\n",
              "    }\n",
              "  </style>\n",
              "\n",
              "      <script>\n",
              "        const buttonEl =\n",
              "          document.querySelector('#df-4b51669a-8010-491e-a12e-53d6dee39d86 button.colab-df-convert');\n",
              "        buttonEl.style.display =\n",
              "          google.colab.kernel.accessAllowed ? 'block' : 'none';\n",
              "\n",
              "        async function convertToInteractive(key) {\n",
              "          const element = document.querySelector('#df-4b51669a-8010-491e-a12e-53d6dee39d86');\n",
              "          const dataTable =\n",
              "            await google.colab.kernel.invokeFunction('convertToInteractive',\n",
              "                                                     [key], {});\n",
              "          if (!dataTable) return;\n",
              "\n",
              "          const docLinkHtml = 'Like what you see? Visit the ' +\n",
              "            '<a target=\"_blank\" href=https://colab.research.google.com/notebooks/data_table.ipynb>data table notebook</a>'\n",
              "            + ' to learn more about interactive tables.';\n",
              "          element.innerHTML = '';\n",
              "          dataTable['output_type'] = 'display_data';\n",
              "          await google.colab.output.renderOutput(dataTable, element);\n",
              "          const docLink = document.createElement('div');\n",
              "          docLink.innerHTML = docLinkHtml;\n",
              "          element.appendChild(docLink);\n",
              "        }\n",
              "      </script>\n",
              "    </div>\n",
              "  </div>\n",
              "  "
            ]
          },
          "metadata": {},
          "execution_count": 7
        }
      ]
    },
    {
      "cell_type": "code",
      "source": [
        "data['CODE_GENDER'] = data['CODE_GENDER'].replace('XNA',None)"
      ],
      "metadata": {
        "id": "kH4r7NpqnrwU"
      },
      "execution_count": null,
      "outputs": []
    },
    {
      "cell_type": "code",
      "source": [
        "# preenchendo valores nulos com media, moda ou mediana\n",
        "for i in data.columns:\n",
        "    if data[i].dtypes == 'object':\n",
        "        data[i].fillna(data[i].mode()[0], inplace=True)\n",
        "    else:\n",
        "        data[i].fillna(data[i].median(), inplace=True)\n",
        "print(data)"
      ],
      "metadata": {
        "colab": {
          "base_uri": "https://localhost:8080/"
        },
        "id": "Wr3z2n9yyu7L",
        "outputId": "a3617b8d-d969-4de5-e3c6-f1d7bed0a6e5"
      },
      "execution_count": null,
      "outputs": [
        {
          "output_type": "stream",
          "name": "stdout",
          "text": [
            "        SK_ID_CURR  TARGET CODE_GENDER  AMT_INCOME_TOTAL  AMT_CREDIT  \\\n",
            "0           100002       1           M          202500.0    406597.5   \n",
            "1           100003       0           F          270000.0   1293502.5   \n",
            "2           100004       0           M           67500.0    135000.0   \n",
            "3           100006       0           F          135000.0    312682.5   \n",
            "4           100007       0           M          121500.0    513000.0   \n",
            "...            ...     ...         ...               ...         ...   \n",
            "307506      456251       0           M          157500.0    254700.0   \n",
            "307507      456252       0           F           72000.0    269550.0   \n",
            "307508      456253       0           F          153000.0    677664.0   \n",
            "307509      456254       1           F          171000.0    370107.0   \n",
            "307510      456255       0           F          157500.0    675000.0   \n",
            "\n",
            "        AMT_ANNUITY  AMT_GOODS_PRICE      NAME_INCOME_TYPE OCCUPATION_TYPE  \\\n",
            "0           24700.5         351000.0               Working        Laborers   \n",
            "1           35698.5        1129500.0         State servant      Core staff   \n",
            "2            6750.0         135000.0               Working        Laborers   \n",
            "3           29686.5         297000.0               Working        Laborers   \n",
            "4           21865.5         513000.0               Working      Core staff   \n",
            "...             ...              ...                   ...             ...   \n",
            "307506      27558.0         225000.0               Working     Sales staff   \n",
            "307507      12001.5         225000.0             Pensioner        Laborers   \n",
            "307508      29979.0         585000.0               Working        Managers   \n",
            "307509      20205.0         319500.0  Commercial associate        Laborers   \n",
            "307510      49117.5         675000.0  Commercial associate        Laborers   \n",
            "\n",
            "        HOUR_APPR_PROCESS_START       ORGANIZATION_TYPE  \n",
            "0                            10  Business Entity Type 3  \n",
            "1                            11                  School  \n",
            "2                             9              Government  \n",
            "3                            17  Business Entity Type 3  \n",
            "4                            11                Religion  \n",
            "...                         ...                     ...  \n",
            "307506                       15                Services  \n",
            "307507                        8                     XNA  \n",
            "307508                        9                  School  \n",
            "307509                        9  Business Entity Type 1  \n",
            "307510                       20  Business Entity Type 3  \n",
            "\n",
            "[307511 rows x 11 columns]\n"
          ]
        }
      ]
    },
    {
      "cell_type": "code",
      "source": [
        "data.isna().sum()"
      ],
      "metadata": {
        "colab": {
          "base_uri": "https://localhost:8080/"
        },
        "id": "KjS3wPnRy_FA",
        "outputId": "944c9fb3-fbd3-4ea3-b294-ab11fa9a5f3f"
      },
      "execution_count": null,
      "outputs": [
        {
          "output_type": "execute_result",
          "data": {
            "text/plain": [
              "SK_ID_CURR                 0\n",
              "TARGET                     0\n",
              "CODE_GENDER                0\n",
              "AMT_INCOME_TOTAL           0\n",
              "AMT_CREDIT                 0\n",
              "AMT_ANNUITY                0\n",
              "AMT_GOODS_PRICE            0\n",
              "NAME_INCOME_TYPE           0\n",
              "OCCUPATION_TYPE            0\n",
              "HOUR_APPR_PROCESS_START    0\n",
              "ORGANIZATION_TYPE          0\n",
              "dtype: int64"
            ]
          },
          "metadata": {},
          "execution_count": 10
        }
      ]
    },
    {
      "cell_type": "code",
      "source": [
        " # aqui podemos notar, ao contar nossa variavel alvo que os dados estão desbalanceados\n",
        "data['TARGET'].value_counts()/data['TARGET'].count()"
      ],
      "metadata": {
        "colab": {
          "base_uri": "https://localhost:8080/"
        },
        "id": "TP7FopQjmBR4",
        "outputId": "804308bf-40e5-4900-a1c8-356b3ecf6556"
      },
      "execution_count": null,
      "outputs": [
        {
          "output_type": "execute_result",
          "data": {
            "text/plain": [
              "0    0.919271\n",
              "1    0.080729\n",
              "Name: TARGET, dtype: float64"
            ]
          },
          "metadata": {},
          "execution_count": 11
        }
      ]
    },
    {
      "cell_type": "code",
      "source": [
        "data.describe()"
      ],
      "metadata": {
        "colab": {
          "base_uri": "https://localhost:8080/",
          "height": 300
        },
        "id": "W_P6Ka-Ummf6",
        "outputId": "4a264ae5-bc57-416c-a908-713ea81dc19b"
      },
      "execution_count": null,
      "outputs": [
        {
          "output_type": "execute_result",
          "data": {
            "text/plain": [
              "          SK_ID_CURR         TARGET  AMT_INCOME_TOTAL    AMT_CREDIT  \\\n",
              "count  307511.000000  307511.000000      3.075110e+05  3.075110e+05   \n",
              "mean   278180.518577       0.080729      1.687979e+05  5.990260e+05   \n",
              "std    102790.175348       0.272419      2.371231e+05  4.024908e+05   \n",
              "min    100002.000000       0.000000      2.565000e+04  4.500000e+04   \n",
              "25%    189145.500000       0.000000      1.125000e+05  2.700000e+05   \n",
              "50%    278202.000000       0.000000      1.471500e+05  5.135310e+05   \n",
              "75%    367142.500000       0.000000      2.025000e+05  8.086500e+05   \n",
              "max    456255.000000       1.000000      1.170000e+08  4.050000e+06   \n",
              "\n",
              "         AMT_ANNUITY  AMT_GOODS_PRICE  HOUR_APPR_PROCESS_START  \n",
              "count  307511.000000     3.075110e+05            307511.000000  \n",
              "mean    27108.487841     5.383163e+05                12.063419  \n",
              "std     14493.461065     3.692890e+05                 3.265832  \n",
              "min      1615.500000     4.050000e+04                 0.000000  \n",
              "25%     16524.000000     2.385000e+05                10.000000  \n",
              "50%     24903.000000     4.500000e+05                12.000000  \n",
              "75%     34596.000000     6.795000e+05                14.000000  \n",
              "max    258025.500000     4.050000e+06                23.000000  "
            ],
            "text/html": [
              "\n",
              "  <div id=\"df-240d7819-08a4-4a64-9bda-169c4716dc16\">\n",
              "    <div class=\"colab-df-container\">\n",
              "      <div>\n",
              "<style scoped>\n",
              "    .dataframe tbody tr th:only-of-type {\n",
              "        vertical-align: middle;\n",
              "    }\n",
              "\n",
              "    .dataframe tbody tr th {\n",
              "        vertical-align: top;\n",
              "    }\n",
              "\n",
              "    .dataframe thead th {\n",
              "        text-align: right;\n",
              "    }\n",
              "</style>\n",
              "<table border=\"1\" class=\"dataframe\">\n",
              "  <thead>\n",
              "    <tr style=\"text-align: right;\">\n",
              "      <th></th>\n",
              "      <th>SK_ID_CURR</th>\n",
              "      <th>TARGET</th>\n",
              "      <th>AMT_INCOME_TOTAL</th>\n",
              "      <th>AMT_CREDIT</th>\n",
              "      <th>AMT_ANNUITY</th>\n",
              "      <th>AMT_GOODS_PRICE</th>\n",
              "      <th>HOUR_APPR_PROCESS_START</th>\n",
              "    </tr>\n",
              "  </thead>\n",
              "  <tbody>\n",
              "    <tr>\n",
              "      <th>count</th>\n",
              "      <td>307511.000000</td>\n",
              "      <td>307511.000000</td>\n",
              "      <td>3.075110e+05</td>\n",
              "      <td>3.075110e+05</td>\n",
              "      <td>307511.000000</td>\n",
              "      <td>3.075110e+05</td>\n",
              "      <td>307511.000000</td>\n",
              "    </tr>\n",
              "    <tr>\n",
              "      <th>mean</th>\n",
              "      <td>278180.518577</td>\n",
              "      <td>0.080729</td>\n",
              "      <td>1.687979e+05</td>\n",
              "      <td>5.990260e+05</td>\n",
              "      <td>27108.487841</td>\n",
              "      <td>5.383163e+05</td>\n",
              "      <td>12.063419</td>\n",
              "    </tr>\n",
              "    <tr>\n",
              "      <th>std</th>\n",
              "      <td>102790.175348</td>\n",
              "      <td>0.272419</td>\n",
              "      <td>2.371231e+05</td>\n",
              "      <td>4.024908e+05</td>\n",
              "      <td>14493.461065</td>\n",
              "      <td>3.692890e+05</td>\n",
              "      <td>3.265832</td>\n",
              "    </tr>\n",
              "    <tr>\n",
              "      <th>min</th>\n",
              "      <td>100002.000000</td>\n",
              "      <td>0.000000</td>\n",
              "      <td>2.565000e+04</td>\n",
              "      <td>4.500000e+04</td>\n",
              "      <td>1615.500000</td>\n",
              "      <td>4.050000e+04</td>\n",
              "      <td>0.000000</td>\n",
              "    </tr>\n",
              "    <tr>\n",
              "      <th>25%</th>\n",
              "      <td>189145.500000</td>\n",
              "      <td>0.000000</td>\n",
              "      <td>1.125000e+05</td>\n",
              "      <td>2.700000e+05</td>\n",
              "      <td>16524.000000</td>\n",
              "      <td>2.385000e+05</td>\n",
              "      <td>10.000000</td>\n",
              "    </tr>\n",
              "    <tr>\n",
              "      <th>50%</th>\n",
              "      <td>278202.000000</td>\n",
              "      <td>0.000000</td>\n",
              "      <td>1.471500e+05</td>\n",
              "      <td>5.135310e+05</td>\n",
              "      <td>24903.000000</td>\n",
              "      <td>4.500000e+05</td>\n",
              "      <td>12.000000</td>\n",
              "    </tr>\n",
              "    <tr>\n",
              "      <th>75%</th>\n",
              "      <td>367142.500000</td>\n",
              "      <td>0.000000</td>\n",
              "      <td>2.025000e+05</td>\n",
              "      <td>8.086500e+05</td>\n",
              "      <td>34596.000000</td>\n",
              "      <td>6.795000e+05</td>\n",
              "      <td>14.000000</td>\n",
              "    </tr>\n",
              "    <tr>\n",
              "      <th>max</th>\n",
              "      <td>456255.000000</td>\n",
              "      <td>1.000000</td>\n",
              "      <td>1.170000e+08</td>\n",
              "      <td>4.050000e+06</td>\n",
              "      <td>258025.500000</td>\n",
              "      <td>4.050000e+06</td>\n",
              "      <td>23.000000</td>\n",
              "    </tr>\n",
              "  </tbody>\n",
              "</table>\n",
              "</div>\n",
              "      <button class=\"colab-df-convert\" onclick=\"convertToInteractive('df-240d7819-08a4-4a64-9bda-169c4716dc16')\"\n",
              "              title=\"Convert this dataframe to an interactive table.\"\n",
              "              style=\"display:none;\">\n",
              "        \n",
              "  <svg xmlns=\"http://www.w3.org/2000/svg\" height=\"24px\"viewBox=\"0 0 24 24\"\n",
              "       width=\"24px\">\n",
              "    <path d=\"M0 0h24v24H0V0z\" fill=\"none\"/>\n",
              "    <path d=\"M18.56 5.44l.94 2.06.94-2.06 2.06-.94-2.06-.94-.94-2.06-.94 2.06-2.06.94zm-11 1L8.5 8.5l.94-2.06 2.06-.94-2.06-.94L8.5 2.5l-.94 2.06-2.06.94zm10 10l.94 2.06.94-2.06 2.06-.94-2.06-.94-.94-2.06-.94 2.06-2.06.94z\"/><path d=\"M17.41 7.96l-1.37-1.37c-.4-.4-.92-.59-1.43-.59-.52 0-1.04.2-1.43.59L10.3 9.45l-7.72 7.72c-.78.78-.78 2.05 0 2.83L4 21.41c.39.39.9.59 1.41.59.51 0 1.02-.2 1.41-.59l7.78-7.78 2.81-2.81c.8-.78.8-2.07 0-2.86zM5.41 20L4 18.59l7.72-7.72 1.47 1.35L5.41 20z\"/>\n",
              "  </svg>\n",
              "      </button>\n",
              "      \n",
              "  <style>\n",
              "    .colab-df-container {\n",
              "      display:flex;\n",
              "      flex-wrap:wrap;\n",
              "      gap: 12px;\n",
              "    }\n",
              "\n",
              "    .colab-df-convert {\n",
              "      background-color: #E8F0FE;\n",
              "      border: none;\n",
              "      border-radius: 50%;\n",
              "      cursor: pointer;\n",
              "      display: none;\n",
              "      fill: #1967D2;\n",
              "      height: 32px;\n",
              "      padding: 0 0 0 0;\n",
              "      width: 32px;\n",
              "    }\n",
              "\n",
              "    .colab-df-convert:hover {\n",
              "      background-color: #E2EBFA;\n",
              "      box-shadow: 0px 1px 2px rgba(60, 64, 67, 0.3), 0px 1px 3px 1px rgba(60, 64, 67, 0.15);\n",
              "      fill: #174EA6;\n",
              "    }\n",
              "\n",
              "    [theme=dark] .colab-df-convert {\n",
              "      background-color: #3B4455;\n",
              "      fill: #D2E3FC;\n",
              "    }\n",
              "\n",
              "    [theme=dark] .colab-df-convert:hover {\n",
              "      background-color: #434B5C;\n",
              "      box-shadow: 0px 1px 3px 1px rgba(0, 0, 0, 0.15);\n",
              "      filter: drop-shadow(0px 1px 2px rgba(0, 0, 0, 0.3));\n",
              "      fill: #FFFFFF;\n",
              "    }\n",
              "  </style>\n",
              "\n",
              "      <script>\n",
              "        const buttonEl =\n",
              "          document.querySelector('#df-240d7819-08a4-4a64-9bda-169c4716dc16 button.colab-df-convert');\n",
              "        buttonEl.style.display =\n",
              "          google.colab.kernel.accessAllowed ? 'block' : 'none';\n",
              "\n",
              "        async function convertToInteractive(key) {\n",
              "          const element = document.querySelector('#df-240d7819-08a4-4a64-9bda-169c4716dc16');\n",
              "          const dataTable =\n",
              "            await google.colab.kernel.invokeFunction('convertToInteractive',\n",
              "                                                     [key], {});\n",
              "          if (!dataTable) return;\n",
              "\n",
              "          const docLinkHtml = 'Like what you see? Visit the ' +\n",
              "            '<a target=\"_blank\" href=https://colab.research.google.com/notebooks/data_table.ipynb>data table notebook</a>'\n",
              "            + ' to learn more about interactive tables.';\n",
              "          element.innerHTML = '';\n",
              "          dataTable['output_type'] = 'display_data';\n",
              "          await google.colab.output.renderOutput(dataTable, element);\n",
              "          const docLink = document.createElement('div');\n",
              "          docLink.innerHTML = docLinkHtml;\n",
              "          element.appendChild(docLink);\n",
              "        }\n",
              "      </script>\n",
              "    </div>\n",
              "  </div>\n",
              "  "
            ]
          },
          "metadata": {},
          "execution_count": 12
        }
      ]
    },
    {
      "cell_type": "code",
      "source": [
        "data.shape"
      ],
      "metadata": {
        "colab": {
          "base_uri": "https://localhost:8080/"
        },
        "id": "XCoO3oqumrDC",
        "outputId": "8fbb1538-1bc9-4a68-91c9-c63b54b1d9af"
      },
      "execution_count": null,
      "outputs": [
        {
          "output_type": "execute_result",
          "data": {
            "text/plain": [
              "(307511, 11)"
            ]
          },
          "metadata": {},
          "execution_count": 13
        }
      ]
    },
    {
      "cell_type": "code",
      "source": [
        "data.head()"
      ],
      "metadata": {
        "colab": {
          "base_uri": "https://localhost:8080/",
          "height": 305
        },
        "id": "-XwhN0dyc9Nf",
        "outputId": "fc839475-69c9-48d2-fc7f-7ae7a660531e"
      },
      "execution_count": null,
      "outputs": [
        {
          "output_type": "execute_result",
          "data": {
            "text/plain": [
              "   SK_ID_CURR  TARGET CODE_GENDER  AMT_INCOME_TOTAL  AMT_CREDIT  AMT_ANNUITY  \\\n",
              "0      100002       1           M          202500.0    406597.5      24700.5   \n",
              "1      100003       0           F          270000.0   1293502.5      35698.5   \n",
              "2      100004       0           M           67500.0    135000.0       6750.0   \n",
              "3      100006       0           F          135000.0    312682.5      29686.5   \n",
              "4      100007       0           M          121500.0    513000.0      21865.5   \n",
              "\n",
              "   AMT_GOODS_PRICE NAME_INCOME_TYPE OCCUPATION_TYPE  HOUR_APPR_PROCESS_START  \\\n",
              "0         351000.0          Working        Laborers                       10   \n",
              "1        1129500.0    State servant      Core staff                       11   \n",
              "2         135000.0          Working        Laborers                        9   \n",
              "3         297000.0          Working        Laborers                       17   \n",
              "4         513000.0          Working      Core staff                       11   \n",
              "\n",
              "        ORGANIZATION_TYPE  \n",
              "0  Business Entity Type 3  \n",
              "1                  School  \n",
              "2              Government  \n",
              "3  Business Entity Type 3  \n",
              "4                Religion  "
            ],
            "text/html": [
              "\n",
              "  <div id=\"df-f06998d5-529a-4bce-805a-614d2edcbcba\">\n",
              "    <div class=\"colab-df-container\">\n",
              "      <div>\n",
              "<style scoped>\n",
              "    .dataframe tbody tr th:only-of-type {\n",
              "        vertical-align: middle;\n",
              "    }\n",
              "\n",
              "    .dataframe tbody tr th {\n",
              "        vertical-align: top;\n",
              "    }\n",
              "\n",
              "    .dataframe thead th {\n",
              "        text-align: right;\n",
              "    }\n",
              "</style>\n",
              "<table border=\"1\" class=\"dataframe\">\n",
              "  <thead>\n",
              "    <tr style=\"text-align: right;\">\n",
              "      <th></th>\n",
              "      <th>SK_ID_CURR</th>\n",
              "      <th>TARGET</th>\n",
              "      <th>CODE_GENDER</th>\n",
              "      <th>AMT_INCOME_TOTAL</th>\n",
              "      <th>AMT_CREDIT</th>\n",
              "      <th>AMT_ANNUITY</th>\n",
              "      <th>AMT_GOODS_PRICE</th>\n",
              "      <th>NAME_INCOME_TYPE</th>\n",
              "      <th>OCCUPATION_TYPE</th>\n",
              "      <th>HOUR_APPR_PROCESS_START</th>\n",
              "      <th>ORGANIZATION_TYPE</th>\n",
              "    </tr>\n",
              "  </thead>\n",
              "  <tbody>\n",
              "    <tr>\n",
              "      <th>0</th>\n",
              "      <td>100002</td>\n",
              "      <td>1</td>\n",
              "      <td>M</td>\n",
              "      <td>202500.0</td>\n",
              "      <td>406597.5</td>\n",
              "      <td>24700.5</td>\n",
              "      <td>351000.0</td>\n",
              "      <td>Working</td>\n",
              "      <td>Laborers</td>\n",
              "      <td>10</td>\n",
              "      <td>Business Entity Type 3</td>\n",
              "    </tr>\n",
              "    <tr>\n",
              "      <th>1</th>\n",
              "      <td>100003</td>\n",
              "      <td>0</td>\n",
              "      <td>F</td>\n",
              "      <td>270000.0</td>\n",
              "      <td>1293502.5</td>\n",
              "      <td>35698.5</td>\n",
              "      <td>1129500.0</td>\n",
              "      <td>State servant</td>\n",
              "      <td>Core staff</td>\n",
              "      <td>11</td>\n",
              "      <td>School</td>\n",
              "    </tr>\n",
              "    <tr>\n",
              "      <th>2</th>\n",
              "      <td>100004</td>\n",
              "      <td>0</td>\n",
              "      <td>M</td>\n",
              "      <td>67500.0</td>\n",
              "      <td>135000.0</td>\n",
              "      <td>6750.0</td>\n",
              "      <td>135000.0</td>\n",
              "      <td>Working</td>\n",
              "      <td>Laborers</td>\n",
              "      <td>9</td>\n",
              "      <td>Government</td>\n",
              "    </tr>\n",
              "    <tr>\n",
              "      <th>3</th>\n",
              "      <td>100006</td>\n",
              "      <td>0</td>\n",
              "      <td>F</td>\n",
              "      <td>135000.0</td>\n",
              "      <td>312682.5</td>\n",
              "      <td>29686.5</td>\n",
              "      <td>297000.0</td>\n",
              "      <td>Working</td>\n",
              "      <td>Laborers</td>\n",
              "      <td>17</td>\n",
              "      <td>Business Entity Type 3</td>\n",
              "    </tr>\n",
              "    <tr>\n",
              "      <th>4</th>\n",
              "      <td>100007</td>\n",
              "      <td>0</td>\n",
              "      <td>M</td>\n",
              "      <td>121500.0</td>\n",
              "      <td>513000.0</td>\n",
              "      <td>21865.5</td>\n",
              "      <td>513000.0</td>\n",
              "      <td>Working</td>\n",
              "      <td>Core staff</td>\n",
              "      <td>11</td>\n",
              "      <td>Religion</td>\n",
              "    </tr>\n",
              "  </tbody>\n",
              "</table>\n",
              "</div>\n",
              "      <button class=\"colab-df-convert\" onclick=\"convertToInteractive('df-f06998d5-529a-4bce-805a-614d2edcbcba')\"\n",
              "              title=\"Convert this dataframe to an interactive table.\"\n",
              "              style=\"display:none;\">\n",
              "        \n",
              "  <svg xmlns=\"http://www.w3.org/2000/svg\" height=\"24px\"viewBox=\"0 0 24 24\"\n",
              "       width=\"24px\">\n",
              "    <path d=\"M0 0h24v24H0V0z\" fill=\"none\"/>\n",
              "    <path d=\"M18.56 5.44l.94 2.06.94-2.06 2.06-.94-2.06-.94-.94-2.06-.94 2.06-2.06.94zm-11 1L8.5 8.5l.94-2.06 2.06-.94-2.06-.94L8.5 2.5l-.94 2.06-2.06.94zm10 10l.94 2.06.94-2.06 2.06-.94-2.06-.94-.94-2.06-.94 2.06-2.06.94z\"/><path d=\"M17.41 7.96l-1.37-1.37c-.4-.4-.92-.59-1.43-.59-.52 0-1.04.2-1.43.59L10.3 9.45l-7.72 7.72c-.78.78-.78 2.05 0 2.83L4 21.41c.39.39.9.59 1.41.59.51 0 1.02-.2 1.41-.59l7.78-7.78 2.81-2.81c.8-.78.8-2.07 0-2.86zM5.41 20L4 18.59l7.72-7.72 1.47 1.35L5.41 20z\"/>\n",
              "  </svg>\n",
              "      </button>\n",
              "      \n",
              "  <style>\n",
              "    .colab-df-container {\n",
              "      display:flex;\n",
              "      flex-wrap:wrap;\n",
              "      gap: 12px;\n",
              "    }\n",
              "\n",
              "    .colab-df-convert {\n",
              "      background-color: #E8F0FE;\n",
              "      border: none;\n",
              "      border-radius: 50%;\n",
              "      cursor: pointer;\n",
              "      display: none;\n",
              "      fill: #1967D2;\n",
              "      height: 32px;\n",
              "      padding: 0 0 0 0;\n",
              "      width: 32px;\n",
              "    }\n",
              "\n",
              "    .colab-df-convert:hover {\n",
              "      background-color: #E2EBFA;\n",
              "      box-shadow: 0px 1px 2px rgba(60, 64, 67, 0.3), 0px 1px 3px 1px rgba(60, 64, 67, 0.15);\n",
              "      fill: #174EA6;\n",
              "    }\n",
              "\n",
              "    [theme=dark] .colab-df-convert {\n",
              "      background-color: #3B4455;\n",
              "      fill: #D2E3FC;\n",
              "    }\n",
              "\n",
              "    [theme=dark] .colab-df-convert:hover {\n",
              "      background-color: #434B5C;\n",
              "      box-shadow: 0px 1px 3px 1px rgba(0, 0, 0, 0.15);\n",
              "      filter: drop-shadow(0px 1px 2px rgba(0, 0, 0, 0.3));\n",
              "      fill: #FFFFFF;\n",
              "    }\n",
              "  </style>\n",
              "\n",
              "      <script>\n",
              "        const buttonEl =\n",
              "          document.querySelector('#df-f06998d5-529a-4bce-805a-614d2edcbcba button.colab-df-convert');\n",
              "        buttonEl.style.display =\n",
              "          google.colab.kernel.accessAllowed ? 'block' : 'none';\n",
              "\n",
              "        async function convertToInteractive(key) {\n",
              "          const element = document.querySelector('#df-f06998d5-529a-4bce-805a-614d2edcbcba');\n",
              "          const dataTable =\n",
              "            await google.colab.kernel.invokeFunction('convertToInteractive',\n",
              "                                                     [key], {});\n",
              "          if (!dataTable) return;\n",
              "\n",
              "          const docLinkHtml = 'Like what you see? Visit the ' +\n",
              "            '<a target=\"_blank\" href=https://colab.research.google.com/notebooks/data_table.ipynb>data table notebook</a>'\n",
              "            + ' to learn more about interactive tables.';\n",
              "          element.innerHTML = '';\n",
              "          dataTable['output_type'] = 'display_data';\n",
              "          await google.colab.output.renderOutput(dataTable, element);\n",
              "          const docLink = document.createElement('div');\n",
              "          docLink.innerHTML = docLinkHtml;\n",
              "          element.appendChild(docLink);\n",
              "        }\n",
              "      </script>\n",
              "    </div>\n",
              "  </div>\n",
              "  "
            ]
          },
          "metadata": {},
          "execution_count": 14
        }
      ]
    },
    {
      "cell_type": "code",
      "source": [
        "data['ORGANIZATION_TYPE'].value_counts()"
      ],
      "metadata": {
        "colab": {
          "base_uri": "https://localhost:8080/"
        },
        "id": "_dDOjEElzX3v",
        "outputId": "66c5af91-7733-4d32-a551-7bd1171b2b44"
      },
      "execution_count": null,
      "outputs": [
        {
          "output_type": "execute_result",
          "data": {
            "text/plain": [
              "Business Entity Type 3    67992\n",
              "XNA                       55374\n",
              "Self-employed             38412\n",
              "Other                     16683\n",
              "Medicine                  11193\n",
              "Business Entity Type 2    10553\n",
              "Government                10404\n",
              "School                     8893\n",
              "Trade: type 7              7831\n",
              "Kindergarten               6880\n",
              "Construction               6721\n",
              "Business Entity Type 1     5984\n",
              "Transport: type 4          5398\n",
              "Trade: type 3              3492\n",
              "Industry: type 9           3368\n",
              "Industry: type 3           3278\n",
              "Security                   3247\n",
              "Housing                    2958\n",
              "Industry: type 11          2704\n",
              "Military                   2634\n",
              "Bank                       2507\n",
              "Agriculture                2454\n",
              "Police                     2341\n",
              "Transport: type 2          2204\n",
              "Postal                     2157\n",
              "Security Ministries        1974\n",
              "Trade: type 2              1900\n",
              "Restaurant                 1811\n",
              "Services                   1575\n",
              "University                 1327\n",
              "Industry: type 7           1307\n",
              "Transport: type 3          1187\n",
              "Industry: type 1           1039\n",
              "Hotel                       966\n",
              "Electricity                 950\n",
              "Industry: type 4            877\n",
              "Trade: type 6               631\n",
              "Industry: type 5            599\n",
              "Insurance                   597\n",
              "Telecom                     577\n",
              "Emergency                   560\n",
              "Industry: type 2            458\n",
              "Advertising                 429\n",
              "Realtor                     396\n",
              "Culture                     379\n",
              "Industry: type 12           369\n",
              "Trade: type 1               348\n",
              "Mobile                      317\n",
              "Legal Services              305\n",
              "Cleaning                    260\n",
              "Transport: type 1           201\n",
              "Industry: type 6            112\n",
              "Industry: type 10           109\n",
              "Religion                     85\n",
              "Industry: type 13            67\n",
              "Trade: type 4                64\n",
              "Trade: type 5                49\n",
              "Industry: type 8             24\n",
              "Name: ORGANIZATION_TYPE, dtype: int64"
            ]
          },
          "metadata": {},
          "execution_count": 15
        }
      ]
    },
    {
      "cell_type": "code",
      "source": [
        "# deixando os valores da coluna ORGANIZATION_TYPE genéricos\n",
        "industry = ['Industry: type 9', 'Industry: type 8', 'Industry: type 10', 'Industry: type 6',\n",
        "            'Industry: type 13', 'Industry: type 5', 'Industry: type 2', 'Industry: type 4',\n",
        "            'Industry: type 7', 'Industry: type 11', 'Industry: type 3', 'Industry: type 12',\n",
        "            'Industry: type 1']\n",
        "trade = ['Trade: type 5', 'Trade: type 4', 'Trade: type 1', 'Trade: type 6', 'Trade: type 2',\n",
        "         'Trade: type 3', 'Trade: type 7']\n",
        "transport = ['Transport: type 4', 'Transport: type 1', 'Transport: type 2', 'Transport: type 3']\n",
        "\n",
        "business = ['Business Entity Type 2', 'Business Entity Type 1', 'Business Entity Type 3']"
      ],
      "metadata": {
        "id": "O-j8T16wzrCa"
      },
      "execution_count": null,
      "outputs": []
    },
    {
      "cell_type": "code",
      "source": [
        "for i in industry:\n",
        "  data.loc[data['ORGANIZATION_TYPE'] == i, 'ORGANIZATION_TYPE'] = 'industry'\n",
        "\n",
        "for i in business:\n",
        "  data.loc[data['ORGANIZATION_TYPE'] == i, 'ORGANIZATION_TYPE'] = 'business'\n",
        "\n",
        "\n",
        "for i in transport:\n",
        "  data.loc[data['ORGANIZATION_TYPE'] == i, 'ORGANIZATION_TYPE'] = 'transport'\n",
        "\n",
        "for i in transport:\n",
        "  data.loc[data['ORGANIZATION_TYPE'] == i, 'ORGANIZATION_TYPE'] = 'transport'\n",
        "\n",
        "for i in trade:\n",
        "  data.loc[data['ORGANIZATION_TYPE'] == i, 'ORGANIZATION_TYPE'] = 'trade'"
      ],
      "metadata": {
        "id": "jtRQncqFScEI"
      },
      "execution_count": null,
      "outputs": []
    },
    {
      "cell_type": "code",
      "source": [
        "data['ORGANIZATION_TYPE'].value_counts()"
      ],
      "metadata": {
        "colab": {
          "base_uri": "https://localhost:8080/"
        },
        "id": "pRqRJCJtYjlb",
        "outputId": "ee3cfdb2-c27b-4f3e-98fe-db99b4714221"
      },
      "execution_count": null,
      "outputs": [
        {
          "output_type": "execute_result",
          "data": {
            "text/plain": [
              "business               84529\n",
              "XNA                    55374\n",
              "Self-employed          38412\n",
              "Other                  16683\n",
              "trade                  14315\n",
              "industry               14311\n",
              "Medicine               11193\n",
              "Government             10404\n",
              "transport               8990\n",
              "School                  8893\n",
              "Kindergarten            6880\n",
              "Construction            6721\n",
              "Security                3247\n",
              "Housing                 2958\n",
              "Military                2634\n",
              "Bank                    2507\n",
              "Agriculture             2454\n",
              "Police                  2341\n",
              "Postal                  2157\n",
              "Security Ministries     1974\n",
              "Restaurant              1811\n",
              "Services                1575\n",
              "University              1327\n",
              "Hotel                    966\n",
              "Electricity              950\n",
              "Insurance                597\n",
              "Telecom                  577\n",
              "Emergency                560\n",
              "Advertising              429\n",
              "Realtor                  396\n",
              "Culture                  379\n",
              "Mobile                   317\n",
              "Legal Services           305\n",
              "Cleaning                 260\n",
              "Religion                  85\n",
              "Name: ORGANIZATION_TYPE, dtype: int64"
            ]
          },
          "metadata": {},
          "execution_count": 18
        }
      ]
    },
    {
      "cell_type": "code",
      "source": [
        "data.head()"
      ],
      "metadata": {
        "colab": {
          "base_uri": "https://localhost:8080/",
          "height": 270
        },
        "id": "6EXYxQEaTaZm",
        "outputId": "39f53b8a-c1f0-4337-e149-4b93fa364660"
      },
      "execution_count": null,
      "outputs": [
        {
          "output_type": "execute_result",
          "data": {
            "text/plain": [
              "   SK_ID_CURR  TARGET CODE_GENDER  AMT_INCOME_TOTAL  AMT_CREDIT  AMT_ANNUITY  \\\n",
              "0      100002       1           M          202500.0    406597.5      24700.5   \n",
              "1      100003       0           F          270000.0   1293502.5      35698.5   \n",
              "2      100004       0           M           67500.0    135000.0       6750.0   \n",
              "3      100006       0           F          135000.0    312682.5      29686.5   \n",
              "4      100007       0           M          121500.0    513000.0      21865.5   \n",
              "\n",
              "   AMT_GOODS_PRICE NAME_INCOME_TYPE OCCUPATION_TYPE  HOUR_APPR_PROCESS_START  \\\n",
              "0         351000.0          Working        Laborers                       10   \n",
              "1        1129500.0    State servant      Core staff                       11   \n",
              "2         135000.0          Working        Laborers                        9   \n",
              "3         297000.0          Working        Laborers                       17   \n",
              "4         513000.0          Working      Core staff                       11   \n",
              "\n",
              "  ORGANIZATION_TYPE  \n",
              "0          business  \n",
              "1            School  \n",
              "2        Government  \n",
              "3          business  \n",
              "4          Religion  "
            ],
            "text/html": [
              "\n",
              "  <div id=\"df-e8686cee-a74c-41fc-b5c6-18b0b9541016\">\n",
              "    <div class=\"colab-df-container\">\n",
              "      <div>\n",
              "<style scoped>\n",
              "    .dataframe tbody tr th:only-of-type {\n",
              "        vertical-align: middle;\n",
              "    }\n",
              "\n",
              "    .dataframe tbody tr th {\n",
              "        vertical-align: top;\n",
              "    }\n",
              "\n",
              "    .dataframe thead th {\n",
              "        text-align: right;\n",
              "    }\n",
              "</style>\n",
              "<table border=\"1\" class=\"dataframe\">\n",
              "  <thead>\n",
              "    <tr style=\"text-align: right;\">\n",
              "      <th></th>\n",
              "      <th>SK_ID_CURR</th>\n",
              "      <th>TARGET</th>\n",
              "      <th>CODE_GENDER</th>\n",
              "      <th>AMT_INCOME_TOTAL</th>\n",
              "      <th>AMT_CREDIT</th>\n",
              "      <th>AMT_ANNUITY</th>\n",
              "      <th>AMT_GOODS_PRICE</th>\n",
              "      <th>NAME_INCOME_TYPE</th>\n",
              "      <th>OCCUPATION_TYPE</th>\n",
              "      <th>HOUR_APPR_PROCESS_START</th>\n",
              "      <th>ORGANIZATION_TYPE</th>\n",
              "    </tr>\n",
              "  </thead>\n",
              "  <tbody>\n",
              "    <tr>\n",
              "      <th>0</th>\n",
              "      <td>100002</td>\n",
              "      <td>1</td>\n",
              "      <td>M</td>\n",
              "      <td>202500.0</td>\n",
              "      <td>406597.5</td>\n",
              "      <td>24700.5</td>\n",
              "      <td>351000.0</td>\n",
              "      <td>Working</td>\n",
              "      <td>Laborers</td>\n",
              "      <td>10</td>\n",
              "      <td>business</td>\n",
              "    </tr>\n",
              "    <tr>\n",
              "      <th>1</th>\n",
              "      <td>100003</td>\n",
              "      <td>0</td>\n",
              "      <td>F</td>\n",
              "      <td>270000.0</td>\n",
              "      <td>1293502.5</td>\n",
              "      <td>35698.5</td>\n",
              "      <td>1129500.0</td>\n",
              "      <td>State servant</td>\n",
              "      <td>Core staff</td>\n",
              "      <td>11</td>\n",
              "      <td>School</td>\n",
              "    </tr>\n",
              "    <tr>\n",
              "      <th>2</th>\n",
              "      <td>100004</td>\n",
              "      <td>0</td>\n",
              "      <td>M</td>\n",
              "      <td>67500.0</td>\n",
              "      <td>135000.0</td>\n",
              "      <td>6750.0</td>\n",
              "      <td>135000.0</td>\n",
              "      <td>Working</td>\n",
              "      <td>Laborers</td>\n",
              "      <td>9</td>\n",
              "      <td>Government</td>\n",
              "    </tr>\n",
              "    <tr>\n",
              "      <th>3</th>\n",
              "      <td>100006</td>\n",
              "      <td>0</td>\n",
              "      <td>F</td>\n",
              "      <td>135000.0</td>\n",
              "      <td>312682.5</td>\n",
              "      <td>29686.5</td>\n",
              "      <td>297000.0</td>\n",
              "      <td>Working</td>\n",
              "      <td>Laborers</td>\n",
              "      <td>17</td>\n",
              "      <td>business</td>\n",
              "    </tr>\n",
              "    <tr>\n",
              "      <th>4</th>\n",
              "      <td>100007</td>\n",
              "      <td>0</td>\n",
              "      <td>M</td>\n",
              "      <td>121500.0</td>\n",
              "      <td>513000.0</td>\n",
              "      <td>21865.5</td>\n",
              "      <td>513000.0</td>\n",
              "      <td>Working</td>\n",
              "      <td>Core staff</td>\n",
              "      <td>11</td>\n",
              "      <td>Religion</td>\n",
              "    </tr>\n",
              "  </tbody>\n",
              "</table>\n",
              "</div>\n",
              "      <button class=\"colab-df-convert\" onclick=\"convertToInteractive('df-e8686cee-a74c-41fc-b5c6-18b0b9541016')\"\n",
              "              title=\"Convert this dataframe to an interactive table.\"\n",
              "              style=\"display:none;\">\n",
              "        \n",
              "  <svg xmlns=\"http://www.w3.org/2000/svg\" height=\"24px\"viewBox=\"0 0 24 24\"\n",
              "       width=\"24px\">\n",
              "    <path d=\"M0 0h24v24H0V0z\" fill=\"none\"/>\n",
              "    <path d=\"M18.56 5.44l.94 2.06.94-2.06 2.06-.94-2.06-.94-.94-2.06-.94 2.06-2.06.94zm-11 1L8.5 8.5l.94-2.06 2.06-.94-2.06-.94L8.5 2.5l-.94 2.06-2.06.94zm10 10l.94 2.06.94-2.06 2.06-.94-2.06-.94-.94-2.06-.94 2.06-2.06.94z\"/><path d=\"M17.41 7.96l-1.37-1.37c-.4-.4-.92-.59-1.43-.59-.52 0-1.04.2-1.43.59L10.3 9.45l-7.72 7.72c-.78.78-.78 2.05 0 2.83L4 21.41c.39.39.9.59 1.41.59.51 0 1.02-.2 1.41-.59l7.78-7.78 2.81-2.81c.8-.78.8-2.07 0-2.86zM5.41 20L4 18.59l7.72-7.72 1.47 1.35L5.41 20z\"/>\n",
              "  </svg>\n",
              "      </button>\n",
              "      \n",
              "  <style>\n",
              "    .colab-df-container {\n",
              "      display:flex;\n",
              "      flex-wrap:wrap;\n",
              "      gap: 12px;\n",
              "    }\n",
              "\n",
              "    .colab-df-convert {\n",
              "      background-color: #E8F0FE;\n",
              "      border: none;\n",
              "      border-radius: 50%;\n",
              "      cursor: pointer;\n",
              "      display: none;\n",
              "      fill: #1967D2;\n",
              "      height: 32px;\n",
              "      padding: 0 0 0 0;\n",
              "      width: 32px;\n",
              "    }\n",
              "\n",
              "    .colab-df-convert:hover {\n",
              "      background-color: #E2EBFA;\n",
              "      box-shadow: 0px 1px 2px rgba(60, 64, 67, 0.3), 0px 1px 3px 1px rgba(60, 64, 67, 0.15);\n",
              "      fill: #174EA6;\n",
              "    }\n",
              "\n",
              "    [theme=dark] .colab-df-convert {\n",
              "      background-color: #3B4455;\n",
              "      fill: #D2E3FC;\n",
              "    }\n",
              "\n",
              "    [theme=dark] .colab-df-convert:hover {\n",
              "      background-color: #434B5C;\n",
              "      box-shadow: 0px 1px 3px 1px rgba(0, 0, 0, 0.15);\n",
              "      filter: drop-shadow(0px 1px 2px rgba(0, 0, 0, 0.3));\n",
              "      fill: #FFFFFF;\n",
              "    }\n",
              "  </style>\n",
              "\n",
              "      <script>\n",
              "        const buttonEl =\n",
              "          document.querySelector('#df-e8686cee-a74c-41fc-b5c6-18b0b9541016 button.colab-df-convert');\n",
              "        buttonEl.style.display =\n",
              "          google.colab.kernel.accessAllowed ? 'block' : 'none';\n",
              "\n",
              "        async function convertToInteractive(key) {\n",
              "          const element = document.querySelector('#df-e8686cee-a74c-41fc-b5c6-18b0b9541016');\n",
              "          const dataTable =\n",
              "            await google.colab.kernel.invokeFunction('convertToInteractive',\n",
              "                                                     [key], {});\n",
              "          if (!dataTable) return;\n",
              "\n",
              "          const docLinkHtml = 'Like what you see? Visit the ' +\n",
              "            '<a target=\"_blank\" href=https://colab.research.google.com/notebooks/data_table.ipynb>data table notebook</a>'\n",
              "            + ' to learn more about interactive tables.';\n",
              "          element.innerHTML = '';\n",
              "          dataTable['output_type'] = 'display_data';\n",
              "          await google.colab.output.renderOutput(dataTable, element);\n",
              "          const docLink = document.createElement('div');\n",
              "          docLink.innerHTML = docLinkHtml;\n",
              "          element.appendChild(docLink);\n",
              "        }\n",
              "      </script>\n",
              "    </div>\n",
              "  </div>\n",
              "  "
            ]
          },
          "metadata": {},
          "execution_count": 19
        }
      ]
    },
    {
      "cell_type": "markdown",
      "source": [
        "# Analise Exploratória"
      ],
      "metadata": {
        "id": "HgrLgSRAyKDP"
      }
    },
    {
      "cell_type": "markdown",
      "source": [
        "verificando os tipos das colunas, posteriormente iremos usar essa informação para retirar outliers das colunas numéricas\n"
      ],
      "metadata": {
        "id": "uXmX29CKdtKg"
      }
    },
    {
      "cell_type": "markdown",
      "source": [
        "## Descrição"
      ],
      "metadata": {
        "id": "mmQuYGVTwBHs"
      }
    },
    {
      "cell_type": "code",
      "source": [
        "numerical= data.drop(['TARGET'], axis=1).select_dtypes('number').columns\n",
        "\n",
        "categorical = data.select_dtypes('object').columns\n",
        "\n",
        "print(f'Colunas numéricas:  {data[numerical].columns}')\n",
        "print('\\n')\n",
        "print(f'Colunas categóricas: {data[categorical].columns}')"
      ],
      "metadata": {
        "colab": {
          "base_uri": "https://localhost:8080/"
        },
        "id": "uw_GLGQBcytk",
        "outputId": "a80fd0b0-9c2f-4b75-feeb-0871f667c8c8"
      },
      "execution_count": null,
      "outputs": [
        {
          "output_type": "stream",
          "name": "stdout",
          "text": [
            "Colunas numéricas:  Index(['SK_ID_CURR', 'AMT_INCOME_TOTAL', 'AMT_CREDIT', 'AMT_ANNUITY',\n",
            "       'AMT_GOODS_PRICE', 'HOUR_APPR_PROCESS_START'],\n",
            "      dtype='object')\n",
            "\n",
            "\n",
            "Colunas categóricas: Index(['CODE_GENDER', 'NAME_INCOME_TYPE', 'OCCUPATION_TYPE',\n",
            "       'ORGANIZATION_TYPE'],\n",
            "      dtype='object')\n"
          ]
        }
      ]
    },
    {
      "cell_type": "code",
      "source": [],
      "metadata": {
        "id": "mY-cYeV5mXAd"
      },
      "execution_count": null,
      "outputs": []
    },
    {
      "cell_type": "code",
      "source": [
        "# colocando como 'valor faltante' nos outliers, pois há algumas inconsistencias nos extremos\n",
        "# criando uma função que irá fazer isso:\n",
        "def exclui_outliers(data, col_name):\n",
        "  intervalo = 2*data[col_name].std()\n",
        "  media = data[col_name].mean()\n",
        "  data.loc[data[col_name] < (media - intervalo), col_name] = np.nan\n",
        "  data.loc[data[col_name] > (media + intervalo), col_name] = np.nan\n",
        "\n",
        "#executando a função nas colunas onde havia erros perceptiveis nos outiliers\n",
        "numerical_cols = ['SK_ID_CURR', 'AMT_INCOME_TOTAL', 'AMT_CREDIT', 'AMT_ANNUITY',\n",
        "       'AMT_GOODS_PRICE', 'HOUR_APPR_PROCESS_START']\n",
        "for col in numerical_cols:\n",
        "  exclui_outliers(data, col)"
      ],
      "metadata": {
        "id": "UuTkRhx8dTb7"
      },
      "execution_count": null,
      "outputs": []
    },
    {
      "cell_type": "code",
      "source": [
        "x=['NAME_INCOME_TYPE', 'ORGANIZATION_TYPE','OCCUPATION_TYPE','CODE_GENDER']\n",
        "k=2\n",
        "for i in x:\n",
        "    plt.xticks(rotation=90)\n",
        "    ax = sns.countplot(x=i,hue='TARGET', data=data, palette = 'RdPu')\n",
        "    plt.title(f'Frêquencia da variavel: {i}')\n",
        "    plt.ylabel('Frequência')\n",
        "    plt.figure(k)\n",
        "    plt.clf()\n",
        "    k=k+1"
      ],
      "metadata": {
        "colab": {
          "base_uri": "https://localhost:8080/",
          "height": 1000
        },
        "id": "SHUBb1fHyYFC",
        "outputId": "cbab19df-4744-46b5-ca16-a4b4e4805f29"
      },
      "execution_count": null,
      "outputs": [
        {
          "output_type": "display_data",
          "data": {
            "text/plain": [
              "<Figure size 432x288 with 1 Axes>"
            ],
            "image/png": "[encoded data removed]"
          },
          "metadata": {
            "needs_background": "light"
          }
        },
        {
          "output_type": "display_data",
          "data": {
            "text/plain": [
              "<Figure size 432x288 with 1 Axes>"
            ],
            "image/png": "[encoded data removed]"
          },
          "metadata": {
            "needs_background": "light"
          }
        },
        {
          "output_type": "display_data",
          "data": {
            "text/plain": [
              "<Figure size 432x288 with 1 Axes>"
            ],
            "image/png": "[encoded data removed]"
          },
          "metadata": {
            "needs_background": "light"
          }
        },
        {
          "output_type": "display_data",
          "data": {
            "text/plain": [
              "<Figure size 432x288 with 1 Axes>"
            ],
            "image/png": "[encoded data removed]"
          },
          "metadata": {
            "needs_background": "light"
          }
        },
        {
          "output_type": "display_data",
          "data": {
            "text/plain": [
              "<Figure size 432x288 with 0 Axes>"
            ]
          },
          "metadata": {}
        }
      ]
    },
    {
      "cell_type": "code",
      "source": [
        "def show_fraud_prop(df):\n",
        "    print(\"número de registros no dataframe:\", len(df))\n",
        "    print(\"número positivos de fraudes:\", df[\"TARGET\"].sum())\n",
        "    print(\"proporção de alvos positivos:\", df[\"TARGET\"].sum() / len(df))\n",
        "\n",
        "print(\"Fraude entre homens:\")\n",
        "show_fraud_prop(data[data[\"CODE_GENDER\"] == \"M\"])\n",
        "print(\"Fraude entre mulheres:\")\n",
        "show_fraud_prop(data[data[\"CODE_GENDER\"] == \"F\"])"
      ],
      "metadata": {
        "colab": {
          "base_uri": "https://localhost:8080/"
        },
        "id": "B3uY9PqmpJu0",
        "outputId": "f5463f30-f480-4844-b4db-9d380f322a75"
      },
      "execution_count": null,
      "outputs": [
        {
          "output_type": "stream",
          "name": "stdout",
          "text": [
            "Fraude entre homens:\n",
            "número de registros no dataframe: 105060\n",
            "número positivos de fraudes: 10655\n",
            "proporção de alvos positivos: 0.10141823719779174\n",
            "Fraude entre mulheres:\n",
            "número de registros no dataframe: 202451\n",
            "número positivos de fraudes: 14170\n",
            "proporção de alvos positivos: 0.0699922450370707\n"
          ]
        }
      ]
    },
    {
      "cell_type": "markdown",
      "source": [
        "Pelos gráficos acima podemos desenhar um peril dos clientes com fraude e clientes de verdade. Primeiramente, vemos que entre a classe de fraude temos que o tipo de renda é trabalho e o tipo de organização mais frequente entre as fraudes é o business. Além disso, mulheres possuem mais chances de serem fraudulentas nessa amostra.\n",
        "Como os dados são desbalanceados vemos poucas fraudes entre os perfis\n"
      ],
      "metadata": {
        "id": "ARZoj1mCfCY9"
      }
    },
    {
      "cell_type": "markdown",
      "source": [
        "Agora vamos comparar a fraude entre os que ganham mais com a fraude entre os que ganham menos."
      ],
      "metadata": {
        "id": "j9qU3vpFr5aS"
      }
    },
    {
      "cell_type": "code",
      "source": [
        "x=['AMT_CREDIT', 'AMT_INCOME_TOTAL', 'AMT_ANNUITY', 'AMT_GOODS_PRICE', 'HOUR_APPR_PROCESS_START']\n",
        "k=2\n",
        "for i in x:\n",
        "    plt.xticks(rotation=90)\n",
        "    ax = sns.boxplot(y=i,x='TARGET', data=data, palette = 'RdPu')\n",
        "    plt.title(f'Frêquencia da variavel: {i}')\n",
        "    plt.ylabel('Frequência')\n",
        "    plt.figure(k)\n",
        "    plt.clf()\n",
        "    k=k+1\n"
      ],
      "metadata": {
        "colab": {
          "base_uri": "https://localhost:8080/",
          "height": 1000
        },
        "id": "LHshJVuhzSRZ",
        "outputId": "d59a1f02-4424-4cc0-ee4e-8cd40dc609d9"
      },
      "execution_count": null,
      "outputs": [
        {
          "output_type": "display_data",
          "data": {
            "text/plain": [
              "<Figure size 432x288 with 1 Axes>"
            ],
            "image/png": "[encoded data removed]"
          },
          "metadata": {
            "needs_background": "light"
          }
        },
        {
          "output_type": "display_data",
          "data": {
            "text/plain": [
              "<Figure size 432x288 with 1 Axes>"
            ],
            "image/png": "[encoded data removed]"
          },
          "metadata": {
            "needs_background": "light"
          }
        },
        {
          "output_type": "display_data",
          "data": {
            "text/plain": [
              "<Figure size 432x288 with 1 Axes>"
            ],
            "image/png": "[encoded data removed]"
          },
          "metadata": {
            "needs_background": "light"
          }
        },
        {
          "output_type": "display_data",
          "data": {
            "text/plain": [
              "<Figure size 432x288 with 1 Axes>"
            ],
            "image/png": "[encoded data removed]"
          },
          "metadata": {
            "needs_background": "light"
          }
        },
        {
          "output_type": "display_data",
          "data": {
            "text/plain": [
              "<Figure size 432x288 with 1 Axes>"
            ],
            "image/png": "[encoded data removed]"
          },
          "metadata": {
            "needs_background": "light"
          }
        },
        {
          "output_type": "display_data",
          "data": {
            "text/plain": [
              "<Figure size 432x288 with 0 Axes>"
            ]
          },
          "metadata": {}
        }
      ]
    },
    {
      "cell_type": "code",
      "source": [
        "print(\"fraude de alto rendimento na renda do cliente\")\n",
        "show_fraud_prop(data[data[\"AMT_INCOME_TOTAL\"] > 2.025000e+05])\n",
        "\n",
        "print(\"fraude de baixo rendimento na renda do cliente\")\n",
        "show_fraud_prop(data[data[\"AMT_INCOME_TOTAL\"] < 1.125000e+05])"
      ],
      "metadata": {
        "colab": {
          "base_uri": "https://localhost:8080/"
        },
        "id": "_fy-8usarpxq",
        "outputId": "b9b09e6a-9fa6-4abd-c75f-19840295de76"
      },
      "execution_count": null,
      "outputs": [
        {
          "output_type": "stream",
          "name": "stdout",
          "text": [
            "fraude de alto rendimento na renda do cliente\n",
            "número de registros no dataframe: 70100\n",
            "número positivos de fraudes: 4870\n",
            "proporção de alvos positivos: 0.06947218259629101\n",
            "fraude de baixo rendimento na renda do cliente\n",
            "número de registros no dataframe: 69559\n",
            "número positivos de fraudes: 5723\n",
            "proporção de alvos positivos: 0.0822754783708794\n"
          ]
        }
      ]
    },
    {
      "cell_type": "markdown",
      "source": [
        "Para cada variável numérica fizemos um boxplot a fim de ver a distribuição dos dados.\n",
        "O valor do crédito do empréstimo de quem era fraude é um pouco menor apesar de a mediana ser semelhante entre os clientes de verdade e os fraudulentos."
      ],
      "metadata": {
        "id": "J5O01ir_hc-i"
      }
    },
    {
      "cell_type": "code",
      "source": [
        "data.columns"
      ],
      "metadata": {
        "colab": {
          "base_uri": "https://localhost:8080/"
        },
        "id": "bhPpojaLAaps",
        "outputId": "21ca4aa8-cd67-40a5-a6ad-9baa27ad625b"
      },
      "execution_count": null,
      "outputs": [
        {
          "output_type": "execute_result",
          "data": {
            "text/plain": [
              "Index(['SK_ID_CURR', 'TARGET', 'CODE_GENDER', 'AMT_INCOME_TOTAL', 'AMT_CREDIT',\n",
              "       'AMT_ANNUITY', 'AMT_GOODS_PRICE', 'NAME_INCOME_TYPE', 'OCCUPATION_TYPE',\n",
              "       'HOUR_APPR_PROCESS_START', 'ORGANIZATION_TYPE'],\n",
              "      dtype='object')"
            ]
          },
          "metadata": {},
          "execution_count": 26
        }
      ]
    },
    {
      "cell_type": "code",
      "source": [
        "grouped_data =  data.groupby([\"AMT_CREDIT\",\"NAME_INCOME_TYPE\"], as_index=False)[\"AMT_CREDIT\"].sum()\n",
        "grouped_data.head(10)"
      ],
      "metadata": {
        "colab": {
          "base_uri": "https://localhost:8080/",
          "height": 363
        },
        "id": "5jE9Eqv-dIYQ",
        "outputId": "c44b0619-1987-4925-d150-2a7c64058021"
      },
      "execution_count": null,
      "outputs": [
        {
          "output_type": "execute_result",
          "data": {
            "text/plain": [
              "       NAME_INCOME_TYPE  AMT_CREDIT\n",
              "0  Commercial associate   1620000.0\n",
              "1             Pensioner   2655000.0\n",
              "2         State servant    675000.0\n",
              "3               Working   5400000.0\n",
              "4  Commercial associate    863460.0\n",
              "5             Pensioner   4125420.0\n",
              "6         State servant    431730.0\n",
              "7               Working   5036850.0\n",
              "8               Working     48519.0\n",
              "9             Pensioner    445095.0"
            ],
            "text/html": [
              "\n",
              "  <div id=\"df-94aeab4d-88e9-4ab3-9678-922969f79c6a\">\n",
              "    <div class=\"colab-df-container\">\n",
              "      <div>\n",
              "<style scoped>\n",
              "    .dataframe tbody tr th:only-of-type {\n",
              "        vertical-align: middle;\n",
              "    }\n",
              "\n",
              "    .dataframe tbody tr th {\n",
              "        vertical-align: top;\n",
              "    }\n",
              "\n",
              "    .dataframe thead th {\n",
              "        text-align: right;\n",
              "    }\n",
              "</style>\n",
              "<table border=\"1\" class=\"dataframe\">\n",
              "  <thead>\n",
              "    <tr style=\"text-align: right;\">\n",
              "      <th></th>\n",
              "      <th>NAME_INCOME_TYPE</th>\n",
              "      <th>AMT_CREDIT</th>\n",
              "    </tr>\n",
              "  </thead>\n",
              "  <tbody>\n",
              "    <tr>\n",
              "      <th>0</th>\n",
              "      <td>Commercial associate</td>\n",
              "      <td>1620000.0</td>\n",
              "    </tr>\n",
              "    <tr>\n",
              "      <th>1</th>\n",
              "      <td>Pensioner</td>\n",
              "      <td>2655000.0</td>\n",
              "    </tr>\n",
              "    <tr>\n",
              "      <th>2</th>\n",
              "      <td>State servant</td>\n",
              "      <td>675000.0</td>\n",
              "    </tr>\n",
              "    <tr>\n",
              "      <th>3</th>\n",
              "      <td>Working</td>\n",
              "      <td>5400000.0</td>\n",
              "    </tr>\n",
              "    <tr>\n",
              "      <th>4</th>\n",
              "      <td>Commercial associate</td>\n",
              "      <td>863460.0</td>\n",
              "    </tr>\n",
              "    <tr>\n",
              "      <th>5</th>\n",
              "      <td>Pensioner</td>\n",
              "      <td>4125420.0</td>\n",
              "    </tr>\n",
              "    <tr>\n",
              "      <th>6</th>\n",
              "      <td>State servant</td>\n",
              "      <td>431730.0</td>\n",
              "    </tr>\n",
              "    <tr>\n",
              "      <th>7</th>\n",
              "      <td>Working</td>\n",
              "      <td>5036850.0</td>\n",
              "    </tr>\n",
              "    <tr>\n",
              "      <th>8</th>\n",
              "      <td>Working</td>\n",
              "      <td>48519.0</td>\n",
              "    </tr>\n",
              "    <tr>\n",
              "      <th>9</th>\n",
              "      <td>Pensioner</td>\n",
              "      <td>445095.0</td>\n",
              "    </tr>\n",
              "  </tbody>\n",
              "</table>\n",
              "</div>\n",
              "      <button class=\"colab-df-convert\" onclick=\"convertToInteractive('df-94aeab4d-88e9-4ab3-9678-922969f79c6a')\"\n",
              "              title=\"Convert this dataframe to an interactive table.\"\n",
              "              style=\"display:none;\">\n",
              "        \n",
              "  <svg xmlns=\"http://www.w3.org/2000/svg\" height=\"24px\"viewBox=\"0 0 24 24\"\n",
              "       width=\"24px\">\n",
              "    <path d=\"M0 0h24v24H0V0z\" fill=\"none\"/>\n",
              "    <path d=\"M18.56 5.44l.94 2.06.94-2.06 2.06-.94-2.06-.94-.94-2.06-.94 2.06-2.06.94zm-11 1L8.5 8.5l.94-2.06 2.06-.94-2.06-.94L8.5 2.5l-.94 2.06-2.06.94zm10 10l.94 2.06.94-2.06 2.06-.94-2.06-.94-.94-2.06-.94 2.06-2.06.94z\"/><path d=\"M17.41 7.96l-1.37-1.37c-.4-.4-.92-.59-1.43-.59-.52 0-1.04.2-1.43.59L10.3 9.45l-7.72 7.72c-.78.78-.78 2.05 0 2.83L4 21.41c.39.39.9.59 1.41.59.51 0 1.02-.2 1.41-.59l7.78-7.78 2.81-2.81c.8-.78.8-2.07 0-2.86zM5.41 20L4 18.59l7.72-7.72 1.47 1.35L5.41 20z\"/>\n",
              "  </svg>\n",
              "      </button>\n",
              "      \n",
              "  <style>\n",
              "    .colab-df-container {\n",
              "      display:flex;\n",
              "      flex-wrap:wrap;\n",
              "      gap: 12px;\n",
              "    }\n",
              "\n",
              "    .colab-df-convert {\n",
              "      background-color: #E8F0FE;\n",
              "      border: none;\n",
              "      border-radius: 50%;\n",
              "      cursor: pointer;\n",
              "      display: none;\n",
              "      fill: #1967D2;\n",
              "      height: 32px;\n",
              "      padding: 0 0 0 0;\n",
              "      width: 32px;\n",
              "    }\n",
              "\n",
              "    .colab-df-convert:hover {\n",
              "      background-color: #E2EBFA;\n",
              "      box-shadow: 0px 1px 2px rgba(60, 64, 67, 0.3), 0px 1px 3px 1px rgba(60, 64, 67, 0.15);\n",
              "      fill: #174EA6;\n",
              "    }\n",
              "\n",
              "    [theme=dark] .colab-df-convert {\n",
              "      background-color: #3B4455;\n",
              "      fill: #D2E3FC;\n",
              "    }\n",
              "\n",
              "    [theme=dark] .colab-df-convert:hover {\n",
              "      background-color: #434B5C;\n",
              "      box-shadow: 0px 1px 3px 1px rgba(0, 0, 0, 0.15);\n",
              "      filter: drop-shadow(0px 1px 2px rgba(0, 0, 0, 0.3));\n",
              "      fill: #FFFFFF;\n",
              "    }\n",
              "  </style>\n",
              "\n",
              "      <script>\n",
              "        const buttonEl =\n",
              "          document.querySelector('#df-94aeab4d-88e9-4ab3-9678-922969f79c6a button.colab-df-convert');\n",
              "        buttonEl.style.display =\n",
              "          google.colab.kernel.accessAllowed ? 'block' : 'none';\n",
              "\n",
              "        async function convertToInteractive(key) {\n",
              "          const element = document.querySelector('#df-94aeab4d-88e9-4ab3-9678-922969f79c6a');\n",
              "          const dataTable =\n",
              "            await google.colab.kernel.invokeFunction('convertToInteractive',\n",
              "                                                     [key], {});\n",
              "          if (!dataTable) return;\n",
              "\n",
              "          const docLinkHtml = 'Like what you see? Visit the ' +\n",
              "            '<a target=\"_blank\" href=https://colab.research.google.com/notebooks/data_table.ipynb>data table notebook</a>'\n",
              "            + ' to learn more about interactive tables.';\n",
              "          element.innerHTML = '';\n",
              "          dataTable['output_type'] = 'display_data';\n",
              "          await google.colab.output.renderOutput(dataTable, element);\n",
              "          const docLink = document.createElement('div');\n",
              "          docLink.innerHTML = docLinkHtml;\n",
              "          element.appendChild(docLink);\n",
              "        }\n",
              "      </script>\n",
              "    </div>\n",
              "  </div>\n",
              "  "
            ]
          },
          "metadata": {},
          "execution_count": 27
        }
      ]
    },
    {
      "cell_type": "code",
      "source": [
        "grouped_data['NAME_INCOME_TYPE'].value_counts()"
      ],
      "metadata": {
        "colab": {
          "base_uri": "https://localhost:8080/"
        },
        "id": "BoajSXRCqLhq",
        "outputId": "14c42439-cdc9-4ee4-893a-bff6770c5e0b"
      },
      "execution_count": null,
      "outputs": [
        {
          "output_type": "execute_result",
          "data": {
            "text/plain": [
              "Working                 3863\n",
              "Commercial associate    3399\n",
              "Pensioner               2917\n",
              "State servant           2263\n",
              "Student                   17\n",
              "Unemployed                17\n",
              "Businessman                6\n",
              "Maternity leave            4\n",
              "Name: NAME_INCOME_TYPE, dtype: int64"
            ]
          },
          "metadata": {},
          "execution_count": 28
        }
      ]
    },
    {
      "cell_type": "markdown",
      "source": [
        "## Estatísticas"
      ],
      "metadata": {
        "id": "GjMc2GSMwGoC"
      }
    },
    {
      "cell_type": "markdown",
      "source": [
        "Aqui iremos destacar algumas estatisticas dos nossos dados, que podem ser usadas para criar OKrs para uma empresa."
      ],
      "metadata": {
        "id": "qkQmqXWiyBpB"
      }
    },
    {
      "cell_type": "code",
      "source": [
        "def statitics_columns(df):\n",
        "  for col in df.columns:\n",
        "      if df[col].dtypes != object:\n",
        "          q1 = df[col].quantile(0.25)\n",
        "          q3 = df[col].quantile(0.75)\n",
        "          IQR = q3 - q1\n",
        "          llp = q1-1.5*IQR\n",
        "          ulp = q3+1.5*IQR\n",
        "          print('Nome da coluna:',col)\n",
        "          print('Média: ',df[col].mean())\n",
        "          print('Moda: ',df[col].mode()[0])\n",
        "          print('Mediana: ',df[col].median())\n",
        "          print('assimetria:',df[col].skew())\n",
        "          print('Medida de curtose:',df[col].kurtosis())\n",
        "          print('\\n')\n",
        "\n",
        "statitics_columns(data)"
      ],
      "metadata": {
        "colab": {
          "base_uri": "https://localhost:8080/"
        },
        "id": "QZ8PR7mMwRtx",
        "outputId": "43edff0a-1a9a-445e-c6f2-8019d77185d4"
      },
      "execution_count": null,
      "outputs": [
        {
          "output_type": "stream",
          "name": "stdout",
          "text": [
            "Nome da coluna: SK_ID_CURR\n",
            "Média:  278180.51857657125\n",
            "Moda:  100002.0\n",
            "Mediana:  278202.0\n",
            "assimetria: -0.0012002350768207104\n",
            "Medida de curtose: -1.1989877778996432\n",
            "\n",
            "\n",
            "Nome da coluna: TARGET\n",
            "Média:  0.08072881945686496\n",
            "Moda:  0\n",
            "Mediana:  0.0\n",
            "assimetria: 3.0781586659196685\n",
            "Medida de curtose: 7.475109389392569\n",
            "\n",
            "\n",
            "Nome da coluna: AMT_INCOME_TOTAL\n",
            "Média:  164961.90748100946\n",
            "Moda:  135000.0\n",
            "Mediana:  144000.0\n",
            "assimetria: 1.4513282075716223\n",
            "Medida de curtose: 3.048379657011286\n",
            "\n",
            "\n",
            "Nome da coluna: AMT_CREDIT\n",
            "Média:  549304.9643087548\n",
            "Moda:  450000.0\n",
            "Mediana:  495351.0\n",
            "assimetria: 0.6608735220983597\n",
            "Medida de curtose: -0.4628331780895647\n",
            "\n",
            "\n",
            "Nome da coluna: AMT_ANNUITY\n",
            "Média:  25489.713333851287\n",
            "Moda:  9000.0\n",
            "Mediana:  24331.5\n",
            "assimetria: 0.469634050061862\n",
            "Medida de curtose: -0.45601321010767526\n",
            "\n",
            "\n",
            "Nome da coluna: AMT_GOODS_PRICE\n",
            "Média:  483157.947239207\n",
            "Moda:  450000.0\n",
            "Mediana:  450000.0\n",
            "assimetria: 0.6784362909778151\n",
            "Medida de curtose: -0.41486691865897596\n",
            "\n",
            "\n",
            "Nome da coluna: HOUR_APPR_PROCESS_START\n",
            "Média:  12.119307801495507\n",
            "Moda:  10.0\n",
            "Mediana:  12.0\n",
            "assimetria: 0.09599215198264806\n",
            "Medida de curtose: -0.7298460716012638\n",
            "\n",
            "\n"
          ]
        }
      ]
    },
    {
      "cell_type": "code",
      "source": [
        "# correlação das variáveis quantitativas\n",
        "corrnum = data[['AMT_CREDIT', 'AMT_INCOME_TOTAL', 'AMT_ANNUITY', 'AMT_GOODS_PRICE', 'HOUR_APPR_PROCESS_START','TARGET']].corr()\n",
        "sns.heatmap(corrnum, annot=True)"
      ],
      "metadata": {
        "colab": {
          "base_uri": "https://localhost:8080/",
          "height": 423
        },
        "id": "BsjjY6NYxkAM",
        "outputId": "fae1d5ec-f0e3-4e11-e4da-a416f97613bb"
      },
      "execution_count": null,
      "outputs": [
        {
          "output_type": "execute_result",
          "data": {
            "text/plain": [
              "<matplotlib.axes._subplots.AxesSubplot at 0x7fe1dbf22310>"
            ]
          },
          "metadata": {},
          "execution_count": 30
        },
        {
          "output_type": "display_data",
          "data": {
            "text/plain": [
              "<Figure size 432x288 with 2 Axes>"
            ],
            "image/png": "[encoded data removed]"
          },
          "metadata": {
            "needs_background": "light"
          }
        }
      ]
    },
    {
      "cell_type": "markdown",
      "source": [
        "No geral, as variáveis apresentam pouca correlação entre a nossa variável alvo."
      ],
      "metadata": {
        "id": "IBPMcsxsyHzL"
      }
    },
    {
      "cell_type": "markdown",
      "source": [
        "# Separando em treino e teste\n"
      ],
      "metadata": {
        "id": "RhtT_56ZLqJd"
      }
    },
    {
      "cell_type": "code",
      "source": [
        "from sklearn.model_selection import train_test_split\n",
        "df_train,df_test=train_test_split(data,test_size=0.3,random_state=1)\n"
      ],
      "metadata": {
        "id": "KmBz6FyVzQbF"
      },
      "execution_count": null,
      "outputs": []
    },
    {
      "cell_type": "code",
      "source": [
        "df_train.head()"
      ],
      "metadata": {
        "colab": {
          "base_uri": "https://localhost:8080/",
          "height": 305
        },
        "id": "xGIbdSv80NCr",
        "outputId": "20fecfd5-c410-434f-badb-b3e8b5495e37"
      },
      "execution_count": null,
      "outputs": [
        {
          "output_type": "execute_result",
          "data": {
            "text/plain": [
              "        SK_ID_CURR  TARGET CODE_GENDER  AMT_INCOME_TOTAL  AMT_CREDIT  \\\n",
              "208983    342217.0       0           F          202500.0    585000.0   \n",
              "71687     183133.0       0           F          112500.0    656811.0   \n",
              "301340    449106.0       0           M          144000.0    450000.0   \n",
              "216927    351350.0       0           F          450000.0         NaN   \n",
              "109091    226525.0       0           M          202500.0    454500.0   \n",
              "\n",
              "        AMT_ANNUITY  AMT_GOODS_PRICE      NAME_INCOME_TYPE OCCUPATION_TYPE  \\\n",
              "208983      29250.0         585000.0         State servant        Managers   \n",
              "71687       30564.0         567000.0             Pensioner        Laborers   \n",
              "301340      22500.0         450000.0  Commercial associate        Laborers   \n",
              "216927      51687.0              NaN         State servant        Laborers   \n",
              "109091      19255.5         454500.0  Commercial associate         Drivers   \n",
              "\n",
              "        HOUR_APPR_PROCESS_START    ORGANIZATION_TYPE  \n",
              "208983                     10.0           Government  \n",
              "71687                      11.0                  XNA  \n",
              "301340                     10.0             business  \n",
              "216927                     18.0  Security Ministries  \n",
              "109091                      9.0             business  "
            ],
            "text/html": [
              "\n",
              "  <div id=\"df-978d3e25-757c-43be-b452-c029f9e63f5b\">\n",
              "    <div class=\"colab-df-container\">\n",
              "      <div>\n",
              "<style scoped>\n",
              "    .dataframe tbody tr th:only-of-type {\n",
              "        vertical-align: middle;\n",
              "    }\n",
              "\n",
              "    .dataframe tbody tr th {\n",
              "        vertical-align: top;\n",
              "    }\n",
              "\n",
              "    .dataframe thead th {\n",
              "        text-align: right;\n",
              "    }\n",
              "</style>\n",
              "<table border=\"1\" class=\"dataframe\">\n",
              "  <thead>\n",
              "    <tr style=\"text-align: right;\">\n",
              "      <th></th>\n",
              "      <th>SK_ID_CURR</th>\n",
              "      <th>TARGET</th>\n",
              "      <th>CODE_GENDER</th>\n",
              "      <th>AMT_INCOME_TOTAL</th>\n",
              "      <th>AMT_CREDIT</th>\n",
              "      <th>AMT_ANNUITY</th>\n",
              "      <th>AMT_GOODS_PRICE</th>\n",
              "      <th>NAME_INCOME_TYPE</th>\n",
              "      <th>OCCUPATION_TYPE</th>\n",
              "      <th>HOUR_APPR_PROCESS_START</th>\n",
              "      <th>ORGANIZATION_TYPE</th>\n",
              "    </tr>\n",
              "  </thead>\n",
              "  <tbody>\n",
              "    <tr>\n",
              "      <th>208983</th>\n",
              "      <td>342217.0</td>\n",
              "      <td>0</td>\n",
              "      <td>F</td>\n",
              "      <td>202500.0</td>\n",
              "      <td>585000.0</td>\n",
              "      <td>29250.0</td>\n",
              "      <td>585000.0</td>\n",
              "      <td>State servant</td>\n",
              "      <td>Managers</td>\n",
              "      <td>10.0</td>\n",
              "      <td>Government</td>\n",
              "    </tr>\n",
              "    <tr>\n",
              "      <th>71687</th>\n",
              "      <td>183133.0</td>\n",
              "      <td>0</td>\n",
              "      <td>F</td>\n",
              "      <td>112500.0</td>\n",
              "      <td>656811.0</td>\n",
              "      <td>30564.0</td>\n",
              "      <td>567000.0</td>\n",
              "      <td>Pensioner</td>\n",
              "      <td>Laborers</td>\n",
              "      <td>11.0</td>\n",
              "      <td>XNA</td>\n",
              "    </tr>\n",
              "    <tr>\n",
              "      <th>301340</th>\n",
              "      <td>449106.0</td>\n",
              "      <td>0</td>\n",
              "      <td>M</td>\n",
              "      <td>144000.0</td>\n",
              "      <td>450000.0</td>\n",
              "      <td>22500.0</td>\n",
              "      <td>450000.0</td>\n",
              "      <td>Commercial associate</td>\n",
              "      <td>Laborers</td>\n",
              "      <td>10.0</td>\n",
              "      <td>business</td>\n",
              "    </tr>\n",
              "    <tr>\n",
              "      <th>216927</th>\n",
              "      <td>351350.0</td>\n",
              "      <td>0</td>\n",
              "      <td>F</td>\n",
              "      <td>450000.0</td>\n",
              "      <td>NaN</td>\n",
              "      <td>51687.0</td>\n",
              "      <td>NaN</td>\n",
              "      <td>State servant</td>\n",
              "      <td>Laborers</td>\n",
              "      <td>18.0</td>\n",
              "      <td>Security Ministries</td>\n",
              "    </tr>\n",
              "    <tr>\n",
              "      <th>109091</th>\n",
              "      <td>226525.0</td>\n",
              "      <td>0</td>\n",
              "      <td>M</td>\n",
              "      <td>202500.0</td>\n",
              "      <td>454500.0</td>\n",
              "      <td>19255.5</td>\n",
              "      <td>454500.0</td>\n",
              "      <td>Commercial associate</td>\n",
              "      <td>Drivers</td>\n",
              "      <td>9.0</td>\n",
              "      <td>business</td>\n",
              "    </tr>\n",
              "  </tbody>\n",
              "</table>\n",
              "</div>\n",
              "      <button class=\"colab-df-convert\" onclick=\"convertToInteractive('df-978d3e25-757c-43be-b452-c029f9e63f5b')\"\n",
              "              title=\"Convert this dataframe to an interactive table.\"\n",
              "              style=\"display:none;\">\n",
              "        \n",
              "  <svg xmlns=\"http://www.w3.org/2000/svg\" height=\"24px\"viewBox=\"0 0 24 24\"\n",
              "       width=\"24px\">\n",
              "    <path d=\"M0 0h24v24H0V0z\" fill=\"none\"/>\n",
              "    <path d=\"M18.56 5.44l.94 2.06.94-2.06 2.06-.94-2.06-.94-.94-2.06-.94 2.06-2.06.94zm-11 1L8.5 8.5l.94-2.06 2.06-.94-2.06-.94L8.5 2.5l-.94 2.06-2.06.94zm10 10l.94 2.06.94-2.06 2.06-.94-2.06-.94-.94-2.06-.94 2.06-2.06.94z\"/><path d=\"M17.41 7.96l-1.37-1.37c-.4-.4-.92-.59-1.43-.59-.52 0-1.04.2-1.43.59L10.3 9.45l-7.72 7.72c-.78.78-.78 2.05 0 2.83L4 21.41c.39.39.9.59 1.41.59.51 0 1.02-.2 1.41-.59l7.78-7.78 2.81-2.81c.8-.78.8-2.07 0-2.86zM5.41 20L4 18.59l7.72-7.72 1.47 1.35L5.41 20z\"/>\n",
              "  </svg>\n",
              "      </button>\n",
              "      \n",
              "  <style>\n",
              "    .colab-df-container {\n",
              "      display:flex;\n",
              "      flex-wrap:wrap;\n",
              "      gap: 12px;\n",
              "    }\n",
              "\n",
              "    .colab-df-convert {\n",
              "      background-color: #E8F0FE;\n",
              "      border: none;\n",
              "      border-radius: 50%;\n",
              "      cursor: pointer;\n",
              "      display: none;\n",
              "      fill: #1967D2;\n",
              "      height: 32px;\n",
              "      padding: 0 0 0 0;\n",
              "      width: 32px;\n",
              "    }\n",
              "\n",
              "    .colab-df-convert:hover {\n",
              "      background-color: #E2EBFA;\n",
              "      box-shadow: 0px 1px 2px rgba(60, 64, 67, 0.3), 0px 1px 3px 1px rgba(60, 64, 67, 0.15);\n",
              "      fill: #174EA6;\n",
              "    }\n",
              "\n",
              "    [theme=dark] .colab-df-convert {\n",
              "      background-color: #3B4455;\n",
              "      fill: #D2E3FC;\n",
              "    }\n",
              "\n",
              "    [theme=dark] .colab-df-convert:hover {\n",
              "      background-color: #434B5C;\n",
              "      box-shadow: 0px 1px 3px 1px rgba(0, 0, 0, 0.15);\n",
              "      filter: drop-shadow(0px 1px 2px rgba(0, 0, 0, 0.3));\n",
              "      fill: #FFFFFF;\n",
              "    }\n",
              "  </style>\n",
              "\n",
              "      <script>\n",
              "        const buttonEl =\n",
              "          document.querySelector('#df-978d3e25-757c-43be-b452-c029f9e63f5b button.colab-df-convert');\n",
              "        buttonEl.style.display =\n",
              "          google.colab.kernel.accessAllowed ? 'block' : 'none';\n",
              "\n",
              "        async function convertToInteractive(key) {\n",
              "          const element = document.querySelector('#df-978d3e25-757c-43be-b452-c029f9e63f5b');\n",
              "          const dataTable =\n",
              "            await google.colab.kernel.invokeFunction('convertToInteractive',\n",
              "                                                     [key], {});\n",
              "          if (!dataTable) return;\n",
              "\n",
              "          const docLinkHtml = 'Like what you see? Visit the ' +\n",
              "            '<a target=\"_blank\" href=https://colab.research.google.com/notebooks/data_table.ipynb>data table notebook</a>'\n",
              "            + ' to learn more about interactive tables.';\n",
              "          element.innerHTML = '';\n",
              "          dataTable['output_type'] = 'display_data';\n",
              "          await google.colab.output.renderOutput(dataTable, element);\n",
              "          const docLink = document.createElement('div');\n",
              "          docLink.innerHTML = docLinkHtml;\n",
              "          element.appendChild(docLink);\n",
              "        }\n",
              "      </script>\n",
              "    </div>\n",
              "  </div>\n",
              "  "
            ]
          },
          "metadata": {},
          "execution_count": 32
        }
      ]
    },
    {
      "cell_type": "code",
      "source": [
        "df_test.head()"
      ],
      "metadata": {
        "colab": {
          "base_uri": "https://localhost:8080/",
          "height": 270
        },
        "id": "vagwgcoI1_DC",
        "outputId": "12a7dbfc-fc0f-45d6-c790-e915bdc2058e"
      },
      "execution_count": null,
      "outputs": [
        {
          "output_type": "execute_result",
          "data": {
            "text/plain": [
              "        SK_ID_CURR  TARGET CODE_GENDER  AMT_INCOME_TOTAL  AMT_CREDIT  \\\n",
              "64282     174545.0       1           F          135000.0    654498.0   \n",
              "94645     209898.0       0           M          135000.0    234576.0   \n",
              "306349    454938.0       0           M          112500.0    157914.0   \n",
              "258314    398930.0       0           M          247500.0   1125000.0   \n",
              "87597     201672.0       0           M          202500.0    900000.0   \n",
              "\n",
              "        AMT_ANNUITY  AMT_GOODS_PRICE NAME_INCOME_TYPE OCCUPATION_TYPE  \\\n",
              "64282       31617.0         585000.0        Pensioner        Laborers   \n",
              "94645       25393.5         202500.0          Working         Drivers   \n",
              "306349      16753.5         139500.0          Working        Laborers   \n",
              "258314      36292.5        1125000.0          Working  Security staff   \n",
              "87597       35158.5         900000.0          Working         Drivers   \n",
              "\n",
              "        HOUR_APPR_PROCESS_START ORGANIZATION_TYPE  \n",
              "64282                       9.0               XNA  \n",
              "94645                      17.0        Government  \n",
              "306349                     14.0             Other  \n",
              "258314                     16.0          Security  \n",
              "87597                       8.0     Self-employed  "
            ],
            "text/html": [
              "\n",
              "  <div id=\"df-0bd61b73-cba1-4458-9c57-ebb35e2d1536\">\n",
              "    <div class=\"colab-df-container\">\n",
              "      <div>\n",
              "<style scoped>\n",
              "    .dataframe tbody tr th:only-of-type {\n",
              "        vertical-align: middle;\n",
              "    }\n",
              "\n",
              "    .dataframe tbody tr th {\n",
              "        vertical-align: top;\n",
              "    }\n",
              "\n",
              "    .dataframe thead th {\n",
              "        text-align: right;\n",
              "    }\n",
              "</style>\n",
              "<table border=\"1\" class=\"dataframe\">\n",
              "  <thead>\n",
              "    <tr style=\"text-align: right;\">\n",
              "      <th></th>\n",
              "      <th>SK_ID_CURR</th>\n",
              "      <th>TARGET</th>\n",
              "      <th>CODE_GENDER</th>\n",
              "      <th>AMT_INCOME_TOTAL</th>\n",
              "      <th>AMT_CREDIT</th>\n",
              "      <th>AMT_ANNUITY</th>\n",
              "      <th>AMT_GOODS_PRICE</th>\n",
              "      <th>NAME_INCOME_TYPE</th>\n",
              "      <th>OCCUPATION_TYPE</th>\n",
              "      <th>HOUR_APPR_PROCESS_START</th>\n",
              "      <th>ORGANIZATION_TYPE</th>\n",
              "    </tr>\n",
              "  </thead>\n",
              "  <tbody>\n",
              "    <tr>\n",
              "      <th>64282</th>\n",
              "      <td>174545.0</td>\n",
              "      <td>1</td>\n",
              "      <td>F</td>\n",
              "      <td>135000.0</td>\n",
              "      <td>654498.0</td>\n",
              "      <td>31617.0</td>\n",
              "      <td>585000.0</td>\n",
              "      <td>Pensioner</td>\n",
              "      <td>Laborers</td>\n",
              "      <td>9.0</td>\n",
              "      <td>XNA</td>\n",
              "    </tr>\n",
              "    <tr>\n",
              "      <th>94645</th>\n",
              "      <td>209898.0</td>\n",
              "      <td>0</td>\n",
              "      <td>M</td>\n",
              "      <td>135000.0</td>\n",
              "      <td>234576.0</td>\n",
              "      <td>25393.5</td>\n",
              "      <td>202500.0</td>\n",
              "      <td>Working</td>\n",
              "      <td>Drivers</td>\n",
              "      <td>17.0</td>\n",
              "      <td>Government</td>\n",
              "    </tr>\n",
              "    <tr>\n",
              "      <th>306349</th>\n",
              "      <td>454938.0</td>\n",
              "      <td>0</td>\n",
              "      <td>M</td>\n",
              "      <td>112500.0</td>\n",
              "      <td>157914.0</td>\n",
              "      <td>16753.5</td>\n",
              "      <td>139500.0</td>\n",
              "      <td>Working</td>\n",
              "      <td>Laborers</td>\n",
              "      <td>14.0</td>\n",
              "      <td>Other</td>\n",
              "    </tr>\n",
              "    <tr>\n",
              "      <th>258314</th>\n",
              "      <td>398930.0</td>\n",
              "      <td>0</td>\n",
              "      <td>M</td>\n",
              "      <td>247500.0</td>\n",
              "      <td>1125000.0</td>\n",
              "      <td>36292.5</td>\n",
              "      <td>1125000.0</td>\n",
              "      <td>Working</td>\n",
              "      <td>Security staff</td>\n",
              "      <td>16.0</td>\n",
              "      <td>Security</td>\n",
              "    </tr>\n",
              "    <tr>\n",
              "      <th>87597</th>\n",
              "      <td>201672.0</td>\n",
              "      <td>0</td>\n",
              "      <td>M</td>\n",
              "      <td>202500.0</td>\n",
              "      <td>900000.0</td>\n",
              "      <td>35158.5</td>\n",
              "      <td>900000.0</td>\n",
              "      <td>Working</td>\n",
              "      <td>Drivers</td>\n",
              "      <td>8.0</td>\n",
              "      <td>Self-employed</td>\n",
              "    </tr>\n",
              "  </tbody>\n",
              "</table>\n",
              "</div>\n",
              "      <button class=\"colab-df-convert\" onclick=\"convertToInteractive('df-0bd61b73-cba1-4458-9c57-ebb35e2d1536')\"\n",
              "              title=\"Convert this dataframe to an interactive table.\"\n",
              "              style=\"display:none;\">\n",
              "        \n",
              "  <svg xmlns=\"http://www.w3.org/2000/svg\" height=\"24px\"viewBox=\"0 0 24 24\"\n",
              "       width=\"24px\">\n",
              "    <path d=\"M0 0h24v24H0V0z\" fill=\"none\"/>\n",
              "    <path d=\"M18.56 5.44l.94 2.06.94-2.06 2.06-.94-2.06-.94-.94-2.06-.94 2.06-2.06.94zm-11 1L8.5 8.5l.94-2.06 2.06-.94-2.06-.94L8.5 2.5l-.94 2.06-2.06.94zm10 10l.94 2.06.94-2.06 2.06-.94-2.06-.94-.94-2.06-.94 2.06-2.06.94z\"/><path d=\"M17.41 7.96l-1.37-1.37c-.4-.4-.92-.59-1.43-.59-.52 0-1.04.2-1.43.59L10.3 9.45l-7.72 7.72c-.78.78-.78 2.05 0 2.83L4 21.41c.39.39.9.59 1.41.59.51 0 1.02-.2 1.41-.59l7.78-7.78 2.81-2.81c.8-.78.8-2.07 0-2.86zM5.41 20L4 18.59l7.72-7.72 1.47 1.35L5.41 20z\"/>\n",
              "  </svg>\n",
              "      </button>\n",
              "      \n",
              "  <style>\n",
              "    .colab-df-container {\n",
              "      display:flex;\n",
              "      flex-wrap:wrap;\n",
              "      gap: 12px;\n",
              "    }\n",
              "\n",
              "    .colab-df-convert {\n",
              "      background-color: #E8F0FE;\n",
              "      border: none;\n",
              "      border-radius: 50%;\n",
              "      cursor: pointer;\n",
              "      display: none;\n",
              "      fill: #1967D2;\n",
              "      height: 32px;\n",
              "      padding: 0 0 0 0;\n",
              "      width: 32px;\n",
              "    }\n",
              "\n",
              "    .colab-df-convert:hover {\n",
              "      background-color: #E2EBFA;\n",
              "      box-shadow: 0px 1px 2px rgba(60, 64, 67, 0.3), 0px 1px 3px 1px rgba(60, 64, 67, 0.15);\n",
              "      fill: #174EA6;\n",
              "    }\n",
              "\n",
              "    [theme=dark] .colab-df-convert {\n",
              "      background-color: #3B4455;\n",
              "      fill: #D2E3FC;\n",
              "    }\n",
              "\n",
              "    [theme=dark] .colab-df-convert:hover {\n",
              "      background-color: #434B5C;\n",
              "      box-shadow: 0px 1px 3px 1px rgba(0, 0, 0, 0.15);\n",
              "      filter: drop-shadow(0px 1px 2px rgba(0, 0, 0, 0.3));\n",
              "      fill: #FFFFFF;\n",
              "    }\n",
              "  </style>\n",
              "\n",
              "      <script>\n",
              "        const buttonEl =\n",
              "          document.querySelector('#df-0bd61b73-cba1-4458-9c57-ebb35e2d1536 button.colab-df-convert');\n",
              "        buttonEl.style.display =\n",
              "          google.colab.kernel.accessAllowed ? 'block' : 'none';\n",
              "\n",
              "        async function convertToInteractive(key) {\n",
              "          const element = document.querySelector('#df-0bd61b73-cba1-4458-9c57-ebb35e2d1536');\n",
              "          const dataTable =\n",
              "            await google.colab.kernel.invokeFunction('convertToInteractive',\n",
              "                                                     [key], {});\n",
              "          if (!dataTable) return;\n",
              "\n",
              "          const docLinkHtml = 'Like what you see? Visit the ' +\n",
              "            '<a target=\"_blank\" href=https://colab.research.google.com/notebooks/data_table.ipynb>data table notebook</a>'\n",
              "            + ' to learn more about interactive tables.';\n",
              "          element.innerHTML = '';\n",
              "          dataTable['output_type'] = 'display_data';\n",
              "          await google.colab.output.renderOutput(dataTable, element);\n",
              "          const docLink = document.createElement('div');\n",
              "          docLink.innerHTML = docLinkHtml;\n",
              "          element.appendChild(docLink);\n",
              "        }\n",
              "      </script>\n",
              "    </div>\n",
              "  </div>\n",
              "  "
            ]
          },
          "metadata": {},
          "execution_count": 33
        }
      ]
    },
    {
      "cell_type": "code",
      "source": [
        "df_test.columns"
      ],
      "metadata": {
        "colab": {
          "base_uri": "https://localhost:8080/"
        },
        "id": "90jFdl8C2ofK",
        "outputId": "b3556894-396e-41f9-bf81-2dd320af5d35"
      },
      "execution_count": null,
      "outputs": [
        {
          "output_type": "execute_result",
          "data": {
            "text/plain": [
              "Index(['SK_ID_CURR', 'TARGET', 'CODE_GENDER', 'AMT_INCOME_TOTAL', 'AMT_CREDIT',\n",
              "       'AMT_ANNUITY', 'AMT_GOODS_PRICE', 'NAME_INCOME_TYPE', 'OCCUPATION_TYPE',\n",
              "       'HOUR_APPR_PROCESS_START', 'ORGANIZATION_TYPE'],\n",
              "      dtype='object')"
            ]
          },
          "metadata": {},
          "execution_count": 34
        }
      ]
    },
    {
      "cell_type": "markdown",
      "source": [
        "## Balanceamento de dados"
      ],
      "metadata": {
        "id": "4lHmvkL21n4i"
      }
    },
    {
      "cell_type": "code",
      "source": [
        "from xgboost import XGBClassifier\n",
        "from sklearn.model_selection import train_test_split\n",
        "from sklearn.metrics import accuracy_score\n",
        "from sklearn.metrics import confusion_matrix\n",
        "from matplotlib import pyplot as plt\n",
        "import imblearn\n",
        "from sklearn.datasets import make_classification\n",
        "from imblearn.under_sampling import ClusterCentroids\n",
        "from imblearn.combine import SMOTETomek\n",
        "from imblearn.over_sampling import SMOTE\n",
        "from imblearn.under_sampling import TomekLinks\n",
        "from imblearn.over_sampling import RandomOverSampler\n",
        "from imblearn.under_sampling import RandomUnderSampler\n",
        "from sklearn.datasets import make_classification\n",
        "\n",
        "sns.set_style('dark')"
      ],
      "metadata": {
        "id": "dZ6WADC3zz9U"
      },
      "execution_count": null,
      "outputs": []
    },
    {
      "cell_type": "markdown",
      "source": [
        "A pricipio fazemos 3 tipos de balanceamento de dados para testar as acurácias dos modelos e ver o que melhor se adequa para nossa solução"
      ],
      "metadata": {
        "id": "MRy8NxH7x1EQ"
      }
    },
    {
      "cell_type": "markdown",
      "source": [
        "### Under-sampling"
      ],
      "metadata": {
        "id": "RAhyRB0DzcjZ"
      }
    },
    {
      "cell_type": "markdown",
      "source": [
        "No Under-sampling reduzimos o numero de dados de uma classe que é maioria e assim diminuimos a diferença entre as categorias do nosso target\n"
      ],
      "metadata": {
        "id": "czElTLoO0v1M"
      }
    },
    {
      "cell_type": "code",
      "source": [
        "# CONTAR CLASSES train\n",
        "count_class_0, count_class_1 = df_train.TARGET.value_counts()\n",
        "# Divide by class\n",
        "df_class_0 = df_train[df_train['TARGET'] == 0]\n",
        "df_class_1 = df_train[df_train['TARGET'] == 1]\n",
        "\n",
        "df_class_0_under = df_class_0.sample(count_class_1)\n",
        "df_train_under = pd.concat([df_class_0_under, df_class_1], axis=0)\n",
        "print('Random under-sampling:')\n",
        "print(df_train_under.TARGET.value_counts())\n",
        "df_train_under.TARGET.value_counts().plot(kind='bar', title='Count (target)',color = ['#1F77B4', '#FF7F0E']);"
      ],
      "metadata": {
        "colab": {
          "base_uri": "https://localhost:8080/",
          "height": 347
        },
        "id": "o7elydKTP_FO",
        "outputId": "6aa355e2-1445-4f3b-9d9f-01c2a6fa4c5b"
      },
      "execution_count": null,
      "outputs": [
        {
          "output_type": "stream",
          "name": "stdout",
          "text": [
            "Random under-sampling:\n",
            "0    17358\n",
            "1    17358\n",
            "Name: TARGET, dtype: int64\n"
          ]
        },
        {
          "output_type": "display_data",
          "data": {
            "text/plain": [
              "<Figure size 432x288 with 1 Axes>"
            ],
            "image/png": "[encoded data removed]"
          },
          "metadata": {}
        }
      ]
    },
    {
      "cell_type": "code",
      "source": [
        "# CONTAR CLASSES Teste\n",
        "count_class_0_test, count_class_1_test = df_test.TARGET.value_counts()\n",
        "# Divide by class\n",
        "df_class_0_test = df_test[df_test['TARGET'] == 0]\n",
        "df_class_1_test = df_test[df_test['TARGET'] == 1]\n",
        "\n",
        "df_class_0_test = df_class_0_test.sample(count_class_1_test)\n",
        "df_test_under = pd.concat([df_class_0_test, df_class_1_test], axis=0)\n",
        "print('Random under-sampling:')\n",
        "print(df_test_under.TARGET.value_counts())\n",
        "df_test_under.TARGET.value_counts().plot(kind='bar', title='Count (target)',color = ['#1F77B4', '#FF7F0E']);"
      ],
      "metadata": {
        "colab": {
          "base_uri": "https://localhost:8080/",
          "height": 347
        },
        "id": "Gyh7ju1Na7b1",
        "outputId": "e854e283-3b9b-4845-ac98-21b0424ae682"
      },
      "execution_count": null,
      "outputs": [
        {
          "output_type": "stream",
          "name": "stdout",
          "text": [
            "Random under-sampling:\n",
            "0    7467\n",
            "1    7467\n",
            "Name: TARGET, dtype: int64\n"
          ]
        },
        {
          "output_type": "display_data",
          "data": {
            "text/plain": [
              "<Figure size 432x288 with 1 Axes>"
            ],
            "image/png": "[encoded data removed]"
          },
          "metadata": {}
        }
      ]
    },
    {
      "cell_type": "markdown",
      "source": [
        "### Over-samplig"
      ],
      "metadata": {
        "id": "cBBQcZ1_HGqO"
      }
    },
    {
      "cell_type": "markdown",
      "source": [
        "Ao contrário do Under-sampling. No Over-sampling aumentamos o numero de dados de uma classe que é maioria e assim diminuímos a diferença entre as categorias do nosso target."
      ],
      "metadata": {
        "id": "KtZkKUYt03m7"
      }
    },
    {
      "cell_type": "code",
      "source": [
        "from imblearn.over_sampling import RandomOverSampler, SMOTE\n",
        "# Random Oversampler\n",
        "# Balanceando treino\n",
        "X = df_train.drop('TARGET',axis=1)\n",
        "y = df_train.TARGET\n",
        "ros_train = RandomOverSampler(random_state = 32)\n",
        "X_train, y_train = ros_train.fit_resample(X, y)\n",
        "\n",
        "# Balanceando test\n",
        "X_t = df_test.drop('TARGET',axis=1)\n",
        "y_t = df_test.TARGET\n",
        "ros_test = RandomOverSampler(random_state = 32)\n",
        "X_test, y_test = ros_test.fit_resample(X_t, y_t)\n"
      ],
      "metadata": {
        "id": "b_EHpuwlHL6F"
      },
      "execution_count": null,
      "outputs": []
    },
    {
      "cell_type": "markdown",
      "source": [
        "### Smote"
      ],
      "metadata": {
        "id": "WCHr4TnOIOud"
      }
    },
    {
      "cell_type": "markdown",
      "source": [
        "No SMOTE tentamos simular os dados da classe que menos aparece como um todo, assim, criamos observações intermediarias para equilibrar as classes do nosso target."
      ],
      "metadata": {
        "id": "VXZAnFa11FTU"
      }
    },
    {
      "cell_type": "code",
      "source": [
        "#SMOTE\n",
        "# Balanceando treino\n",
        "\n",
        "smote = SMOTE(random_state = 32)\n",
        "X = data.drop('TARGET',axis=1)\n",
        "y = data.TARGET\n",
        "\n",
        "X = pd.get_dummies(X)\n",
        "X = (X - X.min())/(X.max()-X.min())\n",
        "X = X.fillna(0)\n",
        "\n",
        "X_smote_train, y_smote_train = smote.fit_resample(X, y)"
      ],
      "metadata": {
        "id": "a21-Y97FYYeL"
      },
      "execution_count": null,
      "outputs": []
    },
    {
      "cell_type": "markdown",
      "source": [
        "# Modelos"
      ],
      "metadata": {
        "id": "pH7Qrr3lNFLl"
      }
    },
    {
      "cell_type": "markdown",
      "source": [
        "Os modelos escolhidos para o projeto foram o Random Forest, por apresentar uma arvore de decisão baseando-se nas classes, onde podemos extrair as feature importances, e a Regressão Logistica para termos noções numéricas das probabiblidades de inadinplência."
      ],
      "metadata": {
        "id": "nrJfhRYT18Zl"
      }
    },
    {
      "cell_type": "markdown",
      "source": [
        "## Random Forest"
      ],
      "metadata": {
        "id": "j9w9BKmtLs5F"
      }
    },
    {
      "cell_type": "markdown",
      "source": [
        "### Usando Under-sampling"
      ],
      "metadata": {
        "id": "xiVgukS44Hjz"
      }
    },
    {
      "cell_type": "code",
      "source": [
        "df_test_under.head()"
      ],
      "metadata": {
        "colab": {
          "base_uri": "https://localhost:8080/",
          "height": 287
        },
        "id": "P-KVMnDLcOLq",
        "outputId": "2cd34dbb-3b90-4c53-e44b-64b4a3b38ee2"
      },
      "execution_count": null,
      "outputs": [
        {
          "output_type": "execute_result",
          "data": {
            "text/plain": [
              "        SK_ID_CURR  TARGET CODE_GENDER  AMT_INCOME_TOTAL  AMT_CREDIT  \\\n",
              "132566    253759.0       0           F          135000.0    797557.5   \n",
              "63429     173559.0       0           M          225000.0    904500.0   \n",
              "53922     162475.0       0           M           90000.0    659610.0   \n",
              "203286    335673.0       0           M          135000.0    269550.0   \n",
              "80759     193630.0       0           M          202500.0    454500.0   \n",
              "\n",
              "        AMT_ANNUITY  AMT_GOODS_PRICE      NAME_INCOME_TYPE OCCUPATION_TYPE  \\\n",
              "132566      44662.5         688500.0               Working        Laborers   \n",
              "63429       32616.0         904500.0               Working        Managers   \n",
              "53922       18265.5         472500.0               Working        Laborers   \n",
              "203286      21294.0         225000.0               Working        Laborers   \n",
              "80759       54067.5         454500.0  Commercial associate     Accountants   \n",
              "\n",
              "        HOUR_APPR_PROCESS_START ORGANIZATION_TYPE  \n",
              "132566                      8.0     Self-employed  \n",
              "63429                      12.0             trade  \n",
              "53922                      14.0          business  \n",
              "203286                     11.0          business  \n",
              "80759                      14.0           Realtor  "
            ],
            "text/html": [
              "\n",
              "  <div id=\"df-af2dbf07-ac71-4054-856c-6037e7059e83\">\n",
              "    <div class=\"colab-df-container\">\n",
              "      <div>\n",
              "<style scoped>\n",
              "    .dataframe tbody tr th:only-of-type {\n",
              "        vertical-align: middle;\n",
              "    }\n",
              "\n",
              "    .dataframe tbody tr th {\n",
              "        vertical-align: top;\n",
              "    }\n",
              "\n",
              "    .dataframe thead th {\n",
              "        text-align: right;\n",
              "    }\n",
              "</style>\n",
              "<table border=\"1\" class=\"dataframe\">\n",
              "  <thead>\n",
              "    <tr style=\"text-align: right;\">\n",
              "      <th></th>\n",
              "      <th>SK_ID_CURR</th>\n",
              "      <th>TARGET</th>\n",
              "      <th>CODE_GENDER</th>\n",
              "      <th>AMT_INCOME_TOTAL</th>\n",
              "      <th>AMT_CREDIT</th>\n",
              "      <th>AMT_ANNUITY</th>\n",
              "      <th>AMT_GOODS_PRICE</th>\n",
              "      <th>NAME_INCOME_TYPE</th>\n",
              "      <th>OCCUPATION_TYPE</th>\n",
              "      <th>HOUR_APPR_PROCESS_START</th>\n",
              "      <th>ORGANIZATION_TYPE</th>\n",
              "    </tr>\n",
              "  </thead>\n",
              "  <tbody>\n",
              "    <tr>\n",
              "      <th>132566</th>\n",
              "      <td>253759.0</td>\n",
              "      <td>0</td>\n",
              "      <td>F</td>\n",
              "      <td>135000.0</td>\n",
              "      <td>797557.5</td>\n",
              "      <td>44662.5</td>\n",
              "      <td>688500.0</td>\n",
              "      <td>Working</td>\n",
              "      <td>Laborers</td>\n",
              "      <td>8.0</td>\n",
              "      <td>Self-employed</td>\n",
              "    </tr>\n",
              "    <tr>\n",
              "      <th>63429</th>\n",
              "      <td>173559.0</td>\n",
              "      <td>0</td>\n",
              "      <td>M</td>\n",
              "      <td>225000.0</td>\n",
              "      <td>904500.0</td>\n",
              "      <td>32616.0</td>\n",
              "      <td>904500.0</td>\n",
              "      <td>Working</td>\n",
              "      <td>Managers</td>\n",
              "      <td>12.0</td>\n",
              "      <td>trade</td>\n",
              "    </tr>\n",
              "    <tr>\n",
              "      <th>53922</th>\n",
              "      <td>162475.0</td>\n",
              "      <td>0</td>\n",
              "      <td>M</td>\n",
              "      <td>90000.0</td>\n",
              "      <td>659610.0</td>\n",
              "      <td>18265.5</td>\n",
              "      <td>472500.0</td>\n",
              "      <td>Working</td>\n",
              "      <td>Laborers</td>\n",
              "      <td>14.0</td>\n",
              "      <td>business</td>\n",
              "    </tr>\n",
              "    <tr>\n",
              "      <th>203286</th>\n",
              "      <td>335673.0</td>\n",
              "      <td>0</td>\n",
              "      <td>M</td>\n",
              "      <td>135000.0</td>\n",
              "      <td>269550.0</td>\n",
              "      <td>21294.0</td>\n",
              "      <td>225000.0</td>\n",
              "      <td>Working</td>\n",
              "      <td>Laborers</td>\n",
              "      <td>11.0</td>\n",
              "      <td>business</td>\n",
              "    </tr>\n",
              "    <tr>\n",
              "      <th>80759</th>\n",
              "      <td>193630.0</td>\n",
              "      <td>0</td>\n",
              "      <td>M</td>\n",
              "      <td>202500.0</td>\n",
              "      <td>454500.0</td>\n",
              "      <td>54067.5</td>\n",
              "      <td>454500.0</td>\n",
              "      <td>Commercial associate</td>\n",
              "      <td>Accountants</td>\n",
              "      <td>14.0</td>\n",
              "      <td>Realtor</td>\n",
              "    </tr>\n",
              "  </tbody>\n",
              "</table>\n",
              "</div>\n",
              "      <button class=\"colab-df-convert\" onclick=\"convertToInteractive('df-af2dbf07-ac71-4054-856c-6037e7059e83')\"\n",
              "              title=\"Convert this dataframe to an interactive table.\"\n",
              "              style=\"display:none;\">\n",
              "        \n",
              "  <svg xmlns=\"http://www.w3.org/2000/svg\" height=\"24px\"viewBox=\"0 0 24 24\"\n",
              "       width=\"24px\">\n",
              "    <path d=\"M0 0h24v24H0V0z\" fill=\"none\"/>\n",
              "    <path d=\"M18.56 5.44l.94 2.06.94-2.06 2.06-.94-2.06-.94-.94-2.06-.94 2.06-2.06.94zm-11 1L8.5 8.5l.94-2.06 2.06-.94-2.06-.94L8.5 2.5l-.94 2.06-2.06.94zm10 10l.94 2.06.94-2.06 2.06-.94-2.06-.94-.94-2.06-.94 2.06-2.06.94z\"/><path d=\"M17.41 7.96l-1.37-1.37c-.4-.4-.92-.59-1.43-.59-.52 0-1.04.2-1.43.59L10.3 9.45l-7.72 7.72c-.78.78-.78 2.05 0 2.83L4 21.41c.39.39.9.59 1.41.59.51 0 1.02-.2 1.41-.59l7.78-7.78 2.81-2.81c.8-.78.8-2.07 0-2.86zM5.41 20L4 18.59l7.72-7.72 1.47 1.35L5.41 20z\"/>\n",
              "  </svg>\n",
              "      </button>\n",
              "      \n",
              "  <style>\n",
              "    .colab-df-container {\n",
              "      display:flex;\n",
              "      flex-wrap:wrap;\n",
              "      gap: 12px;\n",
              "    }\n",
              "\n",
              "    .colab-df-convert {\n",
              "      background-color: #E8F0FE;\n",
              "      border: none;\n",
              "      border-radius: 50%;\n",
              "      cursor: pointer;\n",
              "      display: none;\n",
              "      fill: #1967D2;\n",
              "      height: 32px;\n",
              "      padding: 0 0 0 0;\n",
              "      width: 32px;\n",
              "    }\n",
              "\n",
              "    .colab-df-convert:hover {\n",
              "      background-color: #E2EBFA;\n",
              "      box-shadow: 0px 1px 2px rgba(60, 64, 67, 0.3), 0px 1px 3px 1px rgba(60, 64, 67, 0.15);\n",
              "      fill: #174EA6;\n",
              "    }\n",
              "\n",
              "    [theme=dark] .colab-df-convert {\n",
              "      background-color: #3B4455;\n",
              "      fill: #D2E3FC;\n",
              "    }\n",
              "\n",
              "    [theme=dark] .colab-df-convert:hover {\n",
              "      background-color: #434B5C;\n",
              "      box-shadow: 0px 1px 3px 1px rgba(0, 0, 0, 0.15);\n",
              "      filter: drop-shadow(0px 1px 2px rgba(0, 0, 0, 0.3));\n",
              "      fill: #FFFFFF;\n",
              "    }\n",
              "  </style>\n",
              "\n",
              "      <script>\n",
              "        const buttonEl =\n",
              "          document.querySelector('#df-af2dbf07-ac71-4054-856c-6037e7059e83 button.colab-df-convert');\n",
              "        buttonEl.style.display =\n",
              "          google.colab.kernel.accessAllowed ? 'block' : 'none';\n",
              "\n",
              "        async function convertToInteractive(key) {\n",
              "          const element = document.querySelector('#df-af2dbf07-ac71-4054-856c-6037e7059e83');\n",
              "          const dataTable =\n",
              "            await google.colab.kernel.invokeFunction('convertToInteractive',\n",
              "                                                     [key], {});\n",
              "          if (!dataTable) return;\n",
              "\n",
              "          const docLinkHtml = 'Like what you see? Visit the ' +\n",
              "            '<a target=\"_blank\" href=https://colab.research.google.com/notebooks/data_table.ipynb>data table notebook</a>'\n",
              "            + ' to learn more about interactive tables.';\n",
              "          element.innerHTML = '';\n",
              "          dataTable['output_type'] = 'display_data';\n",
              "          await google.colab.output.renderOutput(dataTable, element);\n",
              "          const docLink = document.createElement('div');\n",
              "          docLink.innerHTML = docLinkHtml;\n",
              "          element.appendChild(docLink);\n",
              "        }\n",
              "      </script>\n",
              "    </div>\n",
              "  </div>\n",
              "  "
            ]
          },
          "metadata": {},
          "execution_count": 56
        }
      ]
    },
    {
      "cell_type": "code",
      "source": [
        "df_train_under"
      ],
      "metadata": {
        "colab": {
          "base_uri": "https://localhost:8080/",
          "height": 487
        },
        "id": "QU9QYQ3QcYvX",
        "outputId": "8ea24a24-0005-4667-cad0-2b9e421c68cd"
      },
      "execution_count": null,
      "outputs": [
        {
          "output_type": "execute_result",
          "data": {
            "text/plain": [
              "        SK_ID_CURR  TARGET CODE_GENDER  AMT_INCOME_TOTAL  AMT_CREDIT  \\\n",
              "24249     128206.0       0           F          405000.0         NaN   \n",
              "124285    244127.0       0           F          153000.0    450000.0   \n",
              "223065    358369.0       0           F          157500.0         NaN   \n",
              "30720     135654.0       0           F          112500.0    673875.0   \n",
              "83897     197303.0       0           M          157500.0    270000.0   \n",
              "...            ...     ...         ...               ...         ...   \n",
              "150503    274472.0       1           M          247500.0    720000.0   \n",
              "95529     210912.0       1           F          153000.0    225000.0   \n",
              "16277     118984.0       1           M          112500.0    270000.0   \n",
              "194769    325841.0       1           M          112500.0    247500.0   \n",
              "167302    293940.0       1           F          202500.0    845014.5   \n",
              "\n",
              "        AMT_ANNUITY  AMT_GOODS_PRICE NAME_INCOME_TYPE OCCUPATION_TYPE  \\\n",
              "24249           NaN              NaN          Working     Accountants   \n",
              "124285      21649.5         450000.0          Working        Laborers   \n",
              "223065      49905.0              NaN          Working        Laborers   \n",
              "30720       19701.0         562500.0        Pensioner        Laborers   \n",
              "83897       13500.0         270000.0          Working        Laborers   \n",
              "...             ...              ...              ...             ...   \n",
              "150503      36000.0         720000.0          Working        Laborers   \n",
              "95529       11250.0         225000.0          Working        Laborers   \n",
              "16277       18040.5         270000.0          Working        Laborers   \n",
              "194769      12375.0         247500.0          Working        Laborers   \n",
              "167302      46003.5         783000.0        Pensioner        Laborers   \n",
              "\n",
              "        HOUR_APPR_PROCESS_START ORGANIZATION_TYPE  \n",
              "24249                       9.0         transport  \n",
              "124285                     13.0            School  \n",
              "223065                     11.0          industry  \n",
              "30720                      15.0               XNA  \n",
              "83897                       8.0      Construction  \n",
              "...                         ...               ...  \n",
              "150503                     10.0             Other  \n",
              "95529                      14.0          business  \n",
              "16277                      10.0             Other  \n",
              "194769                     11.0             Other  \n",
              "167302                     16.0               XNA  \n",
              "\n",
              "[34716 rows x 11 columns]"
            ],
            "text/html": [
              "\n",
              "  <div id=\"df-5f2f0cd7-a673-44ea-942e-8660ade3ff26\">\n",
              "    <div class=\"colab-df-container\">\n",
              "      <div>\n",
              "<style scoped>\n",
              "    .dataframe tbody tr th:only-of-type {\n",
              "        vertical-align: middle;\n",
              "    }\n",
              "\n",
              "    .dataframe tbody tr th {\n",
              "        vertical-align: top;\n",
              "    }\n",
              "\n",
              "    .dataframe thead th {\n",
              "        text-align: right;\n",
              "    }\n",
              "</style>\n",
              "<table border=\"1\" class=\"dataframe\">\n",
              "  <thead>\n",
              "    <tr style=\"text-align: right;\">\n",
              "      <th></th>\n",
              "      <th>SK_ID_CURR</th>\n",
              "      <th>TARGET</th>\n",
              "      <th>CODE_GENDER</th>\n",
              "      <th>AMT_INCOME_TOTAL</th>\n",
              "      <th>AMT_CREDIT</th>\n",
              "      <th>AMT_ANNUITY</th>\n",
              "      <th>AMT_GOODS_PRICE</th>\n",
              "      <th>NAME_INCOME_TYPE</th>\n",
              "      <th>OCCUPATION_TYPE</th>\n",
              "      <th>HOUR_APPR_PROCESS_START</th>\n",
              "      <th>ORGANIZATION_TYPE</th>\n",
              "    </tr>\n",
              "  </thead>\n",
              "  <tbody>\n",
              "    <tr>\n",
              "      <th>24249</th>\n",
              "      <td>128206.0</td>\n",
              "      <td>0</td>\n",
              "      <td>F</td>\n",
              "      <td>405000.0</td>\n",
              "      <td>NaN</td>\n",
              "      <td>NaN</td>\n",
              "      <td>NaN</td>\n",
              "      <td>Working</td>\n",
              "      <td>Accountants</td>\n",
              "      <td>9.0</td>\n",
              "      <td>transport</td>\n",
              "    </tr>\n",
              "    <tr>\n",
              "      <th>124285</th>\n",
              "      <td>244127.0</td>\n",
              "      <td>0</td>\n",
              "      <td>F</td>\n",
              "      <td>153000.0</td>\n",
              "      <td>450000.0</td>\n",
              "      <td>21649.5</td>\n",
              "      <td>450000.0</td>\n",
              "      <td>Working</td>\n",
              "      <td>Laborers</td>\n",
              "      <td>13.0</td>\n",
              "      <td>School</td>\n",
              "    </tr>\n",
              "    <tr>\n",
              "      <th>223065</th>\n",
              "      <td>358369.0</td>\n",
              "      <td>0</td>\n",
              "      <td>F</td>\n",
              "      <td>157500.0</td>\n",
              "      <td>NaN</td>\n",
              "      <td>49905.0</td>\n",
              "      <td>NaN</td>\n",
              "      <td>Working</td>\n",
              "      <td>Laborers</td>\n",
              "      <td>11.0</td>\n",
              "      <td>industry</td>\n",
              "    </tr>\n",
              "    <tr>\n",
              "      <th>30720</th>\n",
              "      <td>135654.0</td>\n",
              "      <td>0</td>\n",
              "      <td>F</td>\n",
              "      <td>112500.0</td>\n",
              "      <td>673875.0</td>\n",
              "      <td>19701.0</td>\n",
              "      <td>562500.0</td>\n",
              "      <td>Pensioner</td>\n",
              "      <td>Laborers</td>\n",
              "      <td>15.0</td>\n",
              "      <td>XNA</td>\n",
              "    </tr>\n",
              "    <tr>\n",
              "      <th>83897</th>\n",
              "      <td>197303.0</td>\n",
              "      <td>0</td>\n",
              "      <td>M</td>\n",
              "      <td>157500.0</td>\n",
              "      <td>270000.0</td>\n",
              "      <td>13500.0</td>\n",
              "      <td>270000.0</td>\n",
              "      <td>Working</td>\n",
              "      <td>Laborers</td>\n",
              "      <td>8.0</td>\n",
              "      <td>Construction</td>\n",
              "    </tr>\n",
              "    <tr>\n",
              "      <th>...</th>\n",
              "      <td>...</td>\n",
              "      <td>...</td>\n",
              "      <td>...</td>\n",
              "      <td>...</td>\n",
              "      <td>...</td>\n",
              "      <td>...</td>\n",
              "      <td>...</td>\n",
              "      <td>...</td>\n",
              "      <td>...</td>\n",
              "      <td>...</td>\n",
              "      <td>...</td>\n",
              "    </tr>\n",
              "    <tr>\n",
              "      <th>150503</th>\n",
              "      <td>274472.0</td>\n",
              "      <td>1</td>\n",
              "      <td>M</td>\n",
              "      <td>247500.0</td>\n",
              "      <td>720000.0</td>\n",
              "      <td>36000.0</td>\n",
              "      <td>720000.0</td>\n",
              "      <td>Working</td>\n",
              "      <td>Laborers</td>\n",
              "      <td>10.0</td>\n",
              "      <td>Other</td>\n",
              "    </tr>\n",
              "    <tr>\n",
              "      <th>95529</th>\n",
              "      <td>210912.0</td>\n",
              "      <td>1</td>\n",
              "      <td>F</td>\n",
              "      <td>153000.0</td>\n",
              "      <td>225000.0</td>\n",
              "      <td>11250.0</td>\n",
              "      <td>225000.0</td>\n",
              "      <td>Working</td>\n",
              "      <td>Laborers</td>\n",
              "      <td>14.0</td>\n",
              "      <td>business</td>\n",
              "    </tr>\n",
              "    <tr>\n",
              "      <th>16277</th>\n",
              "      <td>118984.0</td>\n",
              "      <td>1</td>\n",
              "      <td>M</td>\n",
              "      <td>112500.0</td>\n",
              "      <td>270000.0</td>\n",
              "      <td>18040.5</td>\n",
              "      <td>270000.0</td>\n",
              "      <td>Working</td>\n",
              "      <td>Laborers</td>\n",
              "      <td>10.0</td>\n",
              "      <td>Other</td>\n",
              "    </tr>\n",
              "    <tr>\n",
              "      <th>194769</th>\n",
              "      <td>325841.0</td>\n",
              "      <td>1</td>\n",
              "      <td>M</td>\n",
              "      <td>112500.0</td>\n",
              "      <td>247500.0</td>\n",
              "      <td>12375.0</td>\n",
              "      <td>247500.0</td>\n",
              "      <td>Working</td>\n",
              "      <td>Laborers</td>\n",
              "      <td>11.0</td>\n",
              "      <td>Other</td>\n",
              "    </tr>\n",
              "    <tr>\n",
              "      <th>167302</th>\n",
              "      <td>293940.0</td>\n",
              "      <td>1</td>\n",
              "      <td>F</td>\n",
              "      <td>202500.0</td>\n",
              "      <td>845014.5</td>\n",
              "      <td>46003.5</td>\n",
              "      <td>783000.0</td>\n",
              "      <td>Pensioner</td>\n",
              "      <td>Laborers</td>\n",
              "      <td>16.0</td>\n",
              "      <td>XNA</td>\n",
              "    </tr>\n",
              "  </tbody>\n",
              "</table>\n",
              "<p>34716 rows × 11 columns</p>\n",
              "</div>\n",
              "      <button class=\"colab-df-convert\" onclick=\"convertToInteractive('df-5f2f0cd7-a673-44ea-942e-8660ade3ff26')\"\n",
              "              title=\"Convert this dataframe to an interactive table.\"\n",
              "              style=\"display:none;\">\n",
              "        \n",
              "  <svg xmlns=\"http://www.w3.org/2000/svg\" height=\"24px\"viewBox=\"0 0 24 24\"\n",
              "       width=\"24px\">\n",
              "    <path d=\"M0 0h24v24H0V0z\" fill=\"none\"/>\n",
              "    <path d=\"M18.56 5.44l.94 2.06.94-2.06 2.06-.94-2.06-.94-.94-2.06-.94 2.06-2.06.94zm-11 1L8.5 8.5l.94-2.06 2.06-.94-2.06-.94L8.5 2.5l-.94 2.06-2.06.94zm10 10l.94 2.06.94-2.06 2.06-.94-2.06-.94-.94-2.06-.94 2.06-2.06.94z\"/><path d=\"M17.41 7.96l-1.37-1.37c-.4-.4-.92-.59-1.43-.59-.52 0-1.04.2-1.43.59L10.3 9.45l-7.72 7.72c-.78.78-.78 2.05 0 2.83L4 21.41c.39.39.9.59 1.41.59.51 0 1.02-.2 1.41-.59l7.78-7.78 2.81-2.81c.8-.78.8-2.07 0-2.86zM5.41 20L4 18.59l7.72-7.72 1.47 1.35L5.41 20z\"/>\n",
              "  </svg>\n",
              "      </button>\n",
              "      \n",
              "  <style>\n",
              "    .colab-df-container {\n",
              "      display:flex;\n",
              "      flex-wrap:wrap;\n",
              "      gap: 12px;\n",
              "    }\n",
              "\n",
              "    .colab-df-convert {\n",
              "      background-color: #E8F0FE;\n",
              "      border: none;\n",
              "      border-radius: 50%;\n",
              "      cursor: pointer;\n",
              "      display: none;\n",
              "      fill: #1967D2;\n",
              "      height: 32px;\n",
              "      padding: 0 0 0 0;\n",
              "      width: 32px;\n",
              "    }\n",
              "\n",
              "    .colab-df-convert:hover {\n",
              "      background-color: #E2EBFA;\n",
              "      box-shadow: 0px 1px 2px rgba(60, 64, 67, 0.3), 0px 1px 3px 1px rgba(60, 64, 67, 0.15);\n",
              "      fill: #174EA6;\n",
              "    }\n",
              "\n",
              "    [theme=dark] .colab-df-convert {\n",
              "      background-color: #3B4455;\n",
              "      fill: #D2E3FC;\n",
              "    }\n",
              "\n",
              "    [theme=dark] .colab-df-convert:hover {\n",
              "      background-color: #434B5C;\n",
              "      box-shadow: 0px 1px 3px 1px rgba(0, 0, 0, 0.15);\n",
              "      filter: drop-shadow(0px 1px 2px rgba(0, 0, 0, 0.3));\n",
              "      fill: #FFFFFF;\n",
              "    }\n",
              "  </style>\n",
              "\n",
              "      <script>\n",
              "        const buttonEl =\n",
              "          document.querySelector('#df-5f2f0cd7-a673-44ea-942e-8660ade3ff26 button.colab-df-convert');\n",
              "        buttonEl.style.display =\n",
              "          google.colab.kernel.accessAllowed ? 'block' : 'none';\n",
              "\n",
              "        async function convertToInteractive(key) {\n",
              "          const element = document.querySelector('#df-5f2f0cd7-a673-44ea-942e-8660ade3ff26');\n",
              "          const dataTable =\n",
              "            await google.colab.kernel.invokeFunction('convertToInteractive',\n",
              "                                                     [key], {});\n",
              "          if (!dataTable) return;\n",
              "\n",
              "          const docLinkHtml = 'Like what you see? Visit the ' +\n",
              "            '<a target=\"_blank\" href=https://colab.research.google.com/notebooks/data_table.ipynb>data table notebook</a>'\n",
              "            + ' to learn more about interactive tables.';\n",
              "          element.innerHTML = '';\n",
              "          dataTable['output_type'] = 'display_data';\n",
              "          await google.colab.output.renderOutput(dataTable, element);\n",
              "          const docLink = document.createElement('div');\n",
              "          docLink.innerHTML = docLinkHtml;\n",
              "          element.appendChild(docLink);\n",
              "        }\n",
              "      </script>\n",
              "    </div>\n",
              "  </div>\n",
              "  "
            ]
          },
          "metadata": {},
          "execution_count": 57
        }
      ]
    },
    {
      "cell_type": "code",
      "source": [
        "X_train = df_train_under.drop('TARGET', axis=1)\n",
        "y_train = df_train_under.TARGET\n",
        "\n",
        "X_test = df_test_under.drop('TARGET',axis=1)\n",
        "y_test = df_test_under.TARGET"
      ],
      "metadata": {
        "id": "JSBJnYPscb4P"
      },
      "execution_count": null,
      "outputs": []
    },
    {
      "cell_type": "code",
      "source": [
        "# One-hot encode the data using pandas get_dummies\n",
        "X_train = pd.get_dummies(X_train)\n",
        "X_train = X_train.drop('CODE_GENDER_M', axis = 1)\n",
        "X_train = (X_train - X_train.min())/(X_train.max()-X_train.min())\n",
        "\n",
        "X_test = pd.get_dummies(X_test)\n",
        "X_test = (X_test - X_test.min())/(X_test.max()-X_test.min())"
      ],
      "metadata": {
        "id": "UBU7lykeeyQp"
      },
      "execution_count": null,
      "outputs": []
    },
    {
      "cell_type": "code",
      "source": [
        "X_train = X_train.fillna(0)\n",
        "X_test = X_test.fillna(0)"
      ],
      "metadata": {
        "id": "UuX5-Y8PdMnc"
      },
      "execution_count": null,
      "outputs": []
    },
    {
      "cell_type": "code",
      "source": [
        "# treinando o modelo\n",
        "from sklearn.ensemble import RandomForestClassifier\n",
        "rf_model = RandomForestClassifier(n_estimators=50, max_features=\"auto\", random_state=44)\n",
        "\n",
        "rf_model.fit(X_train, y_train)"
      ],
      "metadata": {
        "colab": {
          "base_uri": "https://localhost:8080/"
        },
        "id": "ZALmysH3c4I6",
        "outputId": "9197e496-2b8e-462c-e5e6-a445fbb30a46"
      },
      "execution_count": null,
      "outputs": [
        {
          "output_type": "execute_result",
          "data": {
            "text/plain": [
              "RandomForestClassifier(n_estimators=50, random_state=44)"
            ]
          },
          "metadata": {},
          "execution_count": 62
        }
      ]
    },
    {
      "cell_type": "code",
      "source": [
        "# testando\n",
        "y_predic=rf_model.predict(X_test)"
      ],
      "metadata": {
        "colab": {
          "base_uri": "https://localhost:8080/"
        },
        "id": "kPI23NuRdqJW",
        "outputId": "9dec78fb-2999-414c-c34d-a151a298610d"
      },
      "execution_count": null,
      "outputs": [
        {
          "output_type": "stream",
          "name": "stderr",
          "text": [
            "/usr/local/lib/python3.8/dist-packages/sklearn/base.py:493: FutureWarning: The feature names should match those that were passed during fit. Starting version 1.2, an error will be raised.\n",
            "Feature names unseen at fit time:\n",
            "- CODE_GENDER_M\n",
            "Feature names seen at fit time, yet now missing:\n",
            "- NAME_INCOME_TYPE_Businessman\n",
            "\n",
            "  warnings.warn(message, FutureWarning)\n"
          ]
        }
      ]
    },
    {
      "cell_type": "code",
      "source": [
        "print(accuracy_score(y_test,y_predic)*100)"
      ],
      "metadata": {
        "colab": {
          "base_uri": "https://localhost:8080/"
        },
        "id": "AjdZENS2ferh",
        "outputId": "59e6ce3f-64bd-4d4e-fb1a-d039beb6bdc2"
      },
      "execution_count": null,
      "outputs": [
        {
          "output_type": "stream",
          "name": "stdout",
          "text": [
            "57.874648453194055\n"
          ]
        }
      ]
    },
    {
      "cell_type": "code",
      "source": [
        "ax = sns.heatmap(confusion_matrix(y_test,y_predic)/100, annot=True, cmap=\"RdPu\")\n",
        "plt.ylabel('Previsto')\n",
        "plt.xlabel('Valor Real')\n",
        "plt.title('Matriz de confusão na ordem de 10² \\n')"
      ],
      "metadata": {
        "colab": {
          "base_uri": "https://localhost:8080/",
          "height": 327
        },
        "id": "wbFYwMOSsiZH",
        "outputId": "07c901fc-0d04-434b-f6eb-a54a0beab08f"
      },
      "execution_count": null,
      "outputs": [
        {
          "output_type": "execute_result",
          "data": {
            "text/plain": [
              "Text(0.5, 1.0, 'Matriz de confusão na ordem de 10² \\n')"
            ]
          },
          "metadata": {},
          "execution_count": 66
        },
        {
          "output_type": "display_data",
          "data": {
            "text/plain": [
              "<Figure size 432x288 with 2 Axes>"
            ],
            "image/png": "[encoded data removed]"
          },
          "metadata": {}
        }
      ]
    },
    {
      "cell_type": "markdown",
      "source": [
        "### Usando Over-sampling"
      ],
      "metadata": {
        "id": "k9ARDj07IV1O"
      }
    },
    {
      "cell_type": "code",
      "source": [
        "# One-hot encode the data using pandas get_dummies\n",
        "X_train = pd.get_dummies(X_train)\n",
        "X_train = X_train.drop('CODE_GENDER_M', axis = 1)\n",
        "\n",
        "X_test = pd.get_dummies(X_test)\n",
        "\n",
        "X_train = pd.get_dummies(X_train)\n",
        "X_train = (X_train - X_train.min())/(X_train.max()-X_train.min())\n",
        "\n",
        "X_test = pd.get_dummies(X_test)\n",
        "X_test = (X_test - X_test.min())/(X_test.max()-X_test.min())"
      ],
      "metadata": {
        "id": "KmrdUx80KZTn"
      },
      "execution_count": null,
      "outputs": []
    },
    {
      "cell_type": "code",
      "source": [
        "X_train = X_train.fillna(0)\n",
        "X_test = X_test.fillna(0)"
      ],
      "metadata": {
        "id": "olSejF-ciCZh"
      },
      "execution_count": null,
      "outputs": []
    },
    {
      "cell_type": "code",
      "source": [
        "from sklearn.metrics import accuracy_score"
      ],
      "metadata": {
        "id": "bxmK6tS7jFTx"
      },
      "execution_count": null,
      "outputs": []
    },
    {
      "cell_type": "code",
      "source": [
        "#Random Forest\n",
        "# treinando o modelo\n",
        "from sklearn.ensemble import RandomForestClassifier\n",
        "rf_model = RandomForestClassifier(n_estimators=50, max_features=\"auto\", random_state=44)\n",
        "rf_model.fit(X_train, y_train)\n",
        "\n",
        "# testando\n",
        "y_predic=rf_model.predict(X_test)\n",
        "\n"
      ],
      "metadata": {
        "colab": {
          "base_uri": "https://localhost:8080/"
        },
        "id": "x0nGO8m8Jxgq",
        "outputId": "ee9a4265-19a1-42c8-b037-f17c14b17493"
      },
      "execution_count": null,
      "outputs": [
        {
          "output_type": "stream",
          "name": "stderr",
          "text": [
            "/usr/local/lib/python3.8/dist-packages/sklearn/base.py:493: FutureWarning: The feature names should match those that were passed during fit. Starting version 1.2, an error will be raised.\n",
            "Feature names unseen at fit time:\n",
            "- CODE_GENDER_M\n",
            "Feature names seen at fit time, yet now missing:\n",
            "- NAME_INCOME_TYPE_Businessman\n",
            "\n",
            "  warnings.warn(message, FutureWarning)\n"
          ]
        }
      ]
    },
    {
      "cell_type": "code",
      "source": [
        "print(accuracy_score(y_test,y_predic)*100)"
      ],
      "metadata": {
        "colab": {
          "base_uri": "https://localhost:8080/"
        },
        "id": "ncUNuTHUiJUB",
        "outputId": "169ab721-c7b5-4a0a-b084-4b7fccb237a0"
      },
      "execution_count": null,
      "outputs": [
        {
          "output_type": "stream",
          "name": "stdout",
          "text": [
            "50.1509665396818\n"
          ]
        }
      ]
    },
    {
      "cell_type": "code",
      "source": [
        "ax = sns.heatmap(confusion_matrix(y_test,y_predic)/100, annot=True, cmap=\"RdPu\")\n",
        "plt.ylabel('Previsto')\n",
        "plt.xlabel('Valor Real')\n",
        "plt.title('Matriz de confusão na ordem de 10² \\n')"
      ],
      "metadata": {
        "colab": {
          "base_uri": "https://localhost:8080/",
          "height": 327
        },
        "id": "IDXYPKjPlCf_",
        "outputId": "d5b45ce4-81aa-46cf-cb03-5d368fe2bc11"
      },
      "execution_count": null,
      "outputs": [
        {
          "output_type": "execute_result",
          "data": {
            "text/plain": [
              "Text(0.5, 1.0, 'Matriz de confusão na ordem de 10² \\n')"
            ]
          },
          "metadata": {},
          "execution_count": 40
        },
        {
          "output_type": "display_data",
          "data": {
            "text/plain": [
              "<Figure size 432x288 with 2 Axes>"
            ],
            "image/png": "[encoded data removed]"
          },
          "metadata": {
            "needs_background": "light"
          }
        }
      ]
    },
    {
      "cell_type": "markdown",
      "source": [
        "### Usando Smote"
      ],
      "metadata": {
        "id": "jYwW-SdjlDNx"
      }
    },
    {
      "cell_type": "code",
      "source": [
        "from sklearn.metrics import confusion_matrix,accuracy_score\n",
        "from sklearn.model_selection import train_test_split\n",
        "X_train, X_test, y_train, y_test = train_test_split(X_smote_train, y_smote_train, test_size=0.3, random_state=5)"
      ],
      "metadata": {
        "id": "_0SljdAblFK6"
      },
      "execution_count": null,
      "outputs": []
    },
    {
      "cell_type": "code",
      "source": [
        "#Random Forest\n",
        "clf = RandomForestClassifier()\n",
        "clf.fit(X_train, y_train)\n",
        "y_predic=clf.predict(X_test)\n",
        "print(accuracy_score(y_test,y_predic)*100)"
      ],
      "metadata": {
        "colab": {
          "base_uri": "https://localhost:8080/"
        },
        "id": "fgTJCeLalRzc",
        "outputId": "1cac3a7e-bd95-42b7-8743-ffc40ca8a16c"
      },
      "execution_count": null,
      "outputs": [
        {
          "output_type": "stream",
          "name": "stdout",
          "text": [
            "93.57003042237577\n"
          ]
        }
      ]
    },
    {
      "cell_type": "code",
      "source": [
        "ax = sns.heatmap(confusion_matrix(y_test,y_predic)/1000, annot=True, cmap=\"YlGnBu\")\n",
        "plt.ylabel('Previsto')\n",
        "plt.xlabel('Valor Real')"
      ],
      "metadata": {
        "colab": {
          "base_uri": "https://localhost:8080/",
          "height": 296
        },
        "id": "epo1cWh9mL1j",
        "outputId": "79c4cf70-65b9-40b7-bb1b-b4772fe636ec"
      },
      "execution_count": null,
      "outputs": [
        {
          "output_type": "execute_result",
          "data": {
            "text/plain": [
              "Text(0.5, 15.0, 'Valor Real')"
            ]
          },
          "metadata": {},
          "execution_count": 52
        },
        {
          "output_type": "display_data",
          "data": {
            "text/plain": [
              "<Figure size 432x288 with 2 Axes>"
            ],
            "image/png": "[encoded data removed]"
          },
          "metadata": {
            "needs_background": "light"
          }
        }
      ]
    },
    {
      "cell_type": "code",
      "source": [
        "# Get numerical feature importances\n",
        "importances = list(clf.feature_importances_)\n",
        "# List of tuples with variable and importance\n",
        "feature_importances = [(feature, round(importance, 2)) for feature, importance in zip(feature_list, importances)]\n",
        "# Sort the feature importances by most important first\n",
        "feature_importances = sorted(feature_importances, key = lambda x: x[1], reverse = True)\n",
        "# Print out the feature and importances\n",
        "[print('Variable: {:20} Importance: {}'.format(*pair)) for pair in feature_importances];"
      ],
      "metadata": {
        "colab": {
          "base_uri": "https://localhost:8080/"
        },
        "id": "csevcugVnOKK",
        "outputId": "f76e23da-1f26-4c4a-9c81-a0aa3affa08c"
      },
      "execution_count": null,
      "outputs": [
        {
          "output_type": "stream",
          "name": "stdout",
          "text": [
            "Variable: AMT_INCOME_TOTAL     Importance: 0.18\n",
            "Variable: AMT_GOODS_PRICE      Importance: 0.15\n",
            "Variable: HOUR_APPR_PROCESS_START Importance: 0.14\n",
            "Variable: AMT_CREDIT           Importance: 0.13\n",
            "Variable: AMT_ANNUITY          Importance: 0.13\n",
            "Variable: SK_ID_CURR           Importance: 0.12\n",
            "Variable: CODE_GENDER_F        Importance: 0.01\n",
            "Variable: CODE_GENDER_M        Importance: 0.01\n",
            "Variable: NAME_INCOME_TYPE_Working Importance: 0.01\n",
            "Variable: OCCUPATION_TYPE_Laborers Importance: 0.01\n",
            "Variable: OCCUPATION_TYPE_Sales staff Importance: 0.01\n",
            "Variable: ORGANIZATION_TYPE_Other Importance: 0.01\n",
            "Variable: ORGANIZATION_TYPE_Self-employed Importance: 0.01\n",
            "Variable: ORGANIZATION_TYPE_business Importance: 0.01\n",
            "Variable: NAME_INCOME_TYPE_Businessman Importance: 0.0\n",
            "Variable: NAME_INCOME_TYPE_Commercial associate Importance: 0.0\n",
            "Variable: NAME_INCOME_TYPE_Maternity leave Importance: 0.0\n",
            "Variable: NAME_INCOME_TYPE_Pensioner Importance: 0.0\n",
            "Variable: NAME_INCOME_TYPE_State servant Importance: 0.0\n",
            "Variable: NAME_INCOME_TYPE_Student Importance: 0.0\n",
            "Variable: NAME_INCOME_TYPE_Unemployed Importance: 0.0\n",
            "Variable: OCCUPATION_TYPE_Accountants Importance: 0.0\n",
            "Variable: OCCUPATION_TYPE_Cleaning staff Importance: 0.0\n",
            "Variable: OCCUPATION_TYPE_Cooking staff Importance: 0.0\n",
            "Variable: OCCUPATION_TYPE_Core staff Importance: 0.0\n",
            "Variable: OCCUPATION_TYPE_Drivers Importance: 0.0\n",
            "Variable: OCCUPATION_TYPE_HR staff Importance: 0.0\n",
            "Variable: OCCUPATION_TYPE_High skill tech staff Importance: 0.0\n",
            "Variable: OCCUPATION_TYPE_IT staff Importance: 0.0\n",
            "Variable: OCCUPATION_TYPE_Low-skill Laborers Importance: 0.0\n",
            "Variable: OCCUPATION_TYPE_Managers Importance: 0.0\n",
            "Variable: OCCUPATION_TYPE_Medicine staff Importance: 0.0\n",
            "Variable: OCCUPATION_TYPE_Private service staff Importance: 0.0\n",
            "Variable: OCCUPATION_TYPE_Realty agents Importance: 0.0\n",
            "Variable: OCCUPATION_TYPE_Secretaries Importance: 0.0\n",
            "Variable: OCCUPATION_TYPE_Security staff Importance: 0.0\n",
            "Variable: OCCUPATION_TYPE_Waiters/barmen staff Importance: 0.0\n",
            "Variable: ORGANIZATION_TYPE_Advertising Importance: 0.0\n",
            "Variable: ORGANIZATION_TYPE_Agriculture Importance: 0.0\n",
            "Variable: ORGANIZATION_TYPE_Bank Importance: 0.0\n",
            "Variable: ORGANIZATION_TYPE_Cleaning Importance: 0.0\n",
            "Variable: ORGANIZATION_TYPE_Construction Importance: 0.0\n",
            "Variable: ORGANIZATION_TYPE_Culture Importance: 0.0\n",
            "Variable: ORGANIZATION_TYPE_Electricity Importance: 0.0\n",
            "Variable: ORGANIZATION_TYPE_Emergency Importance: 0.0\n",
            "Variable: ORGANIZATION_TYPE_Government Importance: 0.0\n",
            "Variable: ORGANIZATION_TYPE_Hotel Importance: 0.0\n",
            "Variable: ORGANIZATION_TYPE_Housing Importance: 0.0\n",
            "Variable: ORGANIZATION_TYPE_Insurance Importance: 0.0\n",
            "Variable: ORGANIZATION_TYPE_Kindergarten Importance: 0.0\n",
            "Variable: ORGANIZATION_TYPE_Legal Services Importance: 0.0\n",
            "Variable: ORGANIZATION_TYPE_Medicine Importance: 0.0\n",
            "Variable: ORGANIZATION_TYPE_Military Importance: 0.0\n",
            "Variable: ORGANIZATION_TYPE_Mobile Importance: 0.0\n",
            "Variable: ORGANIZATION_TYPE_Police Importance: 0.0\n",
            "Variable: ORGANIZATION_TYPE_Postal Importance: 0.0\n",
            "Variable: ORGANIZATION_TYPE_Realtor Importance: 0.0\n",
            "Variable: ORGANIZATION_TYPE_Religion Importance: 0.0\n",
            "Variable: ORGANIZATION_TYPE_Restaurant Importance: 0.0\n",
            "Variable: ORGANIZATION_TYPE_School Importance: 0.0\n",
            "Variable: ORGANIZATION_TYPE_Security Importance: 0.0\n",
            "Variable: ORGANIZATION_TYPE_Security Ministries Importance: 0.0\n",
            "Variable: ORGANIZATION_TYPE_Services Importance: 0.0\n",
            "Variable: ORGANIZATION_TYPE_Telecom Importance: 0.0\n",
            "Variable: ORGANIZATION_TYPE_University Importance: 0.0\n",
            "Variable: ORGANIZATION_TYPE_XNA Importance: 0.0\n",
            "Variable: ORGANIZATION_TYPE_industry Importance: 0.0\n",
            "Variable: ORGANIZATION_TYPE_trade Importance: 0.0\n",
            "Variable: ORGANIZATION_TYPE_transport Importance: 0.0\n"
          ]
        }
      ]
    },
    {
      "cell_type": "markdown",
      "source": [
        "## Regressão Logistica"
      ],
      "metadata": {
        "id": "vdCqjBab4-fG"
      }
    },
    {
      "cell_type": "markdown",
      "source": [
        "### Usando Under Sampling"
      ],
      "metadata": {
        "id": "buc8yzkZp2Ek"
      }
    },
    {
      "cell_type": "code",
      "source": [
        "X_train = df_train_under.drop('TARGET', axis=1)\n",
        "y_train = df_train_under.TARGET\n",
        "\n",
        "X_test = df_test_under.drop('TARGET',axis=1)\n",
        "y_test = df_test_under.TARGET"
      ],
      "metadata": {
        "id": "zbLJGj56rXxE"
      },
      "execution_count": null,
      "outputs": []
    },
    {
      "cell_type": "code",
      "source": [
        "# One-hot encode the data using pandas get_dummies\n",
        "X_train = pd.get_dummies(X_train)\n",
        "X_train = (X_train - X_train.min())/(X_train.max()-X_train.min())\n",
        "X_train = X_train.drop('CODE_GENDER_M', axis = 1)\n",
        "X_test = pd.get_dummies(X_test)\n",
        "X_test = (X_test - X_test.min())/(X_test.max()-X_test.min())"
      ],
      "metadata": {
        "id": "8WfxmMXVra98"
      },
      "execution_count": null,
      "outputs": []
    },
    {
      "cell_type": "code",
      "source": [
        "X_train = X_train.fillna(0)\n",
        "X_test = X_test.fillna(0)"
      ],
      "metadata": {
        "id": "81vH3payqCpN"
      },
      "execution_count": null,
      "outputs": []
    },
    {
      "cell_type": "code",
      "source": [
        "\n",
        "lr = LogisticRegression()\n",
        "lr.fit(X_train,y_train)\n",
        "y_pred = lr.predict(X_test)\n",
        "print(accuracy_score(y_test,y_pred)*100,'%')"
      ],
      "metadata": {
        "colab": {
          "base_uri": "https://localhost:8080/"
        },
        "id": "24WahRvZqZtc",
        "outputId": "a9f5722d-eccc-4da8-9f42-e91d502c6c96"
      },
      "execution_count": null,
      "outputs": [
        {
          "output_type": "stream",
          "name": "stdout",
          "text": [
            "57.96169813847596 %\n"
          ]
        },
        {
          "output_type": "stream",
          "name": "stderr",
          "text": [
            "/usr/local/lib/python3.8/dist-packages/sklearn/linear_model/_logistic.py:814: ConvergenceWarning: lbfgs failed to converge (status=1):\n",
            "STOP: TOTAL NO. of ITERATIONS REACHED LIMIT.\n",
            "\n",
            "Increase the number of iterations (max_iter) or scale the data as shown in:\n",
            "    https://scikit-learn.org/stable/modules/preprocessing.html\n",
            "Please also refer to the documentation for alternative solver options:\n",
            "    https://scikit-learn.org/stable/modules/linear_model.html#logistic-regression\n",
            "  n_iter_i = _check_optimize_result(\n",
            "/usr/local/lib/python3.8/dist-packages/sklearn/base.py:493: FutureWarning: The feature names should match those that were passed during fit. Starting version 1.2, an error will be raised.\n",
            "Feature names unseen at fit time:\n",
            "- CODE_GENDER_M\n",
            "Feature names seen at fit time, yet now missing:\n",
            "- NAME_INCOME_TYPE_Businessman\n",
            "\n",
            "  warnings.warn(message, FutureWarning)\n"
          ]
        }
      ]
    },
    {
      "cell_type": "code",
      "source": [
        "ax = sns.heatmap(confusion_matrix(y_test,y_pred)/100, annot=True, cmap=\"RdPu\")\n",
        "plt.ylabel('Previsto')\n",
        "plt.xlabel('Valor Real')\n",
        "plt.title('Matriz de confusão na ordem de 10² \\n')"
      ],
      "metadata": {
        "colab": {
          "base_uri": "https://localhost:8080/",
          "height": 327
        },
        "id": "WDkJVECKsMFq",
        "outputId": "d39ac264-9b41-4c27-9a5e-6c412cb6c315"
      },
      "execution_count": null,
      "outputs": [
        {
          "output_type": "execute_result",
          "data": {
            "text/plain": [
              "Text(0.5, 1.0, 'Matriz de confusão na ordem de 10² \\n')"
            ]
          },
          "metadata": {},
          "execution_count": 58
        },
        {
          "output_type": "display_data",
          "data": {
            "text/plain": [
              "<Figure size 432x288 with 2 Axes>"
            ],
            "image/png": "[encoded data removed]"
          },
          "metadata": {}
        }
      ]
    },
    {
      "cell_type": "markdown",
      "source": [
        "### Usando Over-Sampling"
      ],
      "metadata": {
        "id": "C8Z7omsap9w6"
      }
    },
    {
      "cell_type": "code",
      "source": [
        "# One-hot encode the data using pandas get_dummies\n",
        "X_train = pd.get_dummies(X_train)\n",
        "X_train = X_train.drop('CODE_GENDER_M', axis = 1)\n",
        "\n",
        "X_test = pd.get_dummies(X_test)\n",
        "\n",
        "X_train = pd.get_dummies(X_train)\n",
        "X_train = (X_train - X_train.min())/(X_train.max()-X_train.min())\n",
        "\n",
        "X_test = pd.get_dummies(X_test)\n",
        "X_test = (X_test - X_test.min())/(X_test.max()-X_test.min())\n",
        "\n"
      ],
      "metadata": {
        "id": "77YVWdNiqCF0"
      },
      "execution_count": null,
      "outputs": []
    },
    {
      "cell_type": "code",
      "source": [
        "X_train = X_train.fillna(0)\n",
        "X_test = X_test.fillna(0)"
      ],
      "metadata": {
        "id": "CilP27Haqlen"
      },
      "execution_count": null,
      "outputs": []
    },
    {
      "cell_type": "code",
      "source": [
        "from sklearn.linear_model import LogisticRegression\n",
        "model = LogisticRegression()\n",
        "model.fit(X_train,y_train)\n",
        "y_pred = model.predict(X_test)\n",
        "print(accuracy_score(y_test,y_pred)*100,'%')"
      ],
      "metadata": {
        "colab": {
          "base_uri": "https://localhost:8080/"
        },
        "id": "7Gl1ZODzquPR",
        "outputId": "11e7e8ba-10a3-4d08-eeef-e4e25384f1b2"
      },
      "execution_count": null,
      "outputs": [
        {
          "output_type": "stream",
          "name": "stdout",
          "text": [
            "57.13847641737531 %\n"
          ]
        },
        {
          "output_type": "stream",
          "name": "stderr",
          "text": [
            "/usr/local/lib/python3.8/dist-packages/sklearn/linear_model/_logistic.py:814: ConvergenceWarning: lbfgs failed to converge (status=1):\n",
            "STOP: TOTAL NO. of ITERATIONS REACHED LIMIT.\n",
            "\n",
            "Increase the number of iterations (max_iter) or scale the data as shown in:\n",
            "    https://scikit-learn.org/stable/modules/preprocessing.html\n",
            "Please also refer to the documentation for alternative solver options:\n",
            "    https://scikit-learn.org/stable/modules/linear_model.html#logistic-regression\n",
            "  n_iter_i = _check_optimize_result(\n",
            "/usr/local/lib/python3.8/dist-packages/sklearn/base.py:493: FutureWarning: The feature names should match those that were passed during fit. Starting version 1.2, an error will be raised.\n",
            "Feature names unseen at fit time:\n",
            "- CODE_GENDER_M\n",
            "Feature names seen at fit time, yet now missing:\n",
            "- NAME_INCOME_TYPE_Businessman\n",
            "\n",
            "  warnings.warn(message, FutureWarning)\n"
          ]
        }
      ]
    },
    {
      "cell_type": "code",
      "source": [
        "ax = sns.heatmap(confusion_matrix(y_test,y_pred)/1000, annot=True, cmap=\"RdPu\")\n",
        "plt.ylabel('Previsto')\n",
        "plt.xlabel('Valor Real')\n",
        "plt.title('Matriz de confusão na ordem de 10³ \\n')"
      ],
      "metadata": {
        "colab": {
          "base_uri": "https://localhost:8080/",
          "height": 327
        },
        "id": "SO8EErqGt6ZZ",
        "outputId": "94fbee79-0940-4327-8476-5e5c64bf7aff"
      },
      "execution_count": null,
      "outputs": [
        {
          "output_type": "execute_result",
          "data": {
            "text/plain": [
              "Text(0.5, 1.0, 'Matriz de confusão na ordem de 10³ \\n')"
            ]
          },
          "metadata": {},
          "execution_count": 39
        },
        {
          "output_type": "display_data",
          "data": {
            "text/plain": [
              "<Figure size 432x288 with 2 Axes>"
            ],
            "image/png": "[encoded data removed]"
          },
          "metadata": {
            "needs_background": "light"
          }
        }
      ]
    },
    {
      "cell_type": "markdown",
      "source": [
        "### Usando SMOTE"
      ],
      "metadata": {
        "id": "hjkxbdXQ5ght"
      }
    },
    {
      "cell_type": "code",
      "source": [
        "from sklearn.linear_model import LogisticRegression\n",
        "lr = LogisticRegression()\n",
        "lr.fit(X_train,y_train)"
      ],
      "metadata": {
        "colab": {
          "base_uri": "https://localhost:8080/"
        },
        "id": "advMBHCO5DWs",
        "outputId": "47003f72-6f03-43f4-ea32-934655edd51e"
      },
      "execution_count": null,
      "outputs": [
        {
          "output_type": "stream",
          "name": "stderr",
          "text": [
            "/usr/local/lib/python3.8/dist-packages/sklearn/linear_model/_logistic.py:814: ConvergenceWarning: lbfgs failed to converge (status=1):\n",
            "STOP: TOTAL NO. of ITERATIONS REACHED LIMIT.\n",
            "\n",
            "Increase the number of iterations (max_iter) or scale the data as shown in:\n",
            "    https://scikit-learn.org/stable/modules/preprocessing.html\n",
            "Please also refer to the documentation for alternative solver options:\n",
            "    https://scikit-learn.org/stable/modules/linear_model.html#logistic-regression\n",
            "  n_iter_i = _check_optimize_result(\n"
          ]
        },
        {
          "output_type": "execute_result",
          "data": {
            "text/plain": [
              "LogisticRegression()"
            ]
          },
          "metadata": {},
          "execution_count": 60
        }
      ]
    },
    {
      "cell_type": "code",
      "source": [
        "y_pred = lr.predict(X_test)\n",
        "\n",
        "lr.predict_proba(X_test)"
      ],
      "metadata": {
        "colab": {
          "base_uri": "https://localhost:8080/"
        },
        "id": "RFj-CfQd5JGP",
        "outputId": "e87b8ab1-a68b-4012-e58d-062cb1b0ef70"
      },
      "execution_count": null,
      "outputs": [
        {
          "output_type": "execute_result",
          "data": {
            "text/plain": [
              "array([[0.40350176, 0.59649824],\n",
              "       [0.39380108, 0.60619892],\n",
              "       [0.41473148, 0.58526852],\n",
              "       ...,\n",
              "       [0.53819282, 0.46180718],\n",
              "       [0.53855034, 0.46144966],\n",
              "       [0.79838595, 0.20161405]])"
            ]
          },
          "metadata": {},
          "execution_count": 61
        }
      ]
    },
    {
      "cell_type": "code",
      "source": [
        "print(accuracy_score(y_test,y_pred)*100,'%')"
      ],
      "metadata": {
        "colab": {
          "base_uri": "https://localhost:8080/"
        },
        "id": "nPO5qBY25PLU",
        "outputId": "a27a4c06-617f-401b-c8d9-9aeab602af3c"
      },
      "execution_count": null,
      "outputs": [
        {
          "output_type": "stream",
          "name": "stdout",
          "text": [
            "58.5076527604179 %\n"
          ]
        }
      ]
    },
    {
      "cell_type": "code",
      "source": [
        "ax = sns.heatmap(confusion_matrix(y_test,y_pred)/1000, annot=True, cmap=\"RdPu\")\n",
        "plt.ylabel('Previsto')\n",
        "plt.xlabel('Valor Real')\n",
        "plt.title('Matriz de confusão na ordem de 10³ \\n')"
      ],
      "metadata": {
        "colab": {
          "base_uri": "https://localhost:8080/",
          "height": 327
        },
        "id": "jC94H9tY5R-Z",
        "outputId": "d410aa6b-94d4-4698-903a-78845690c2bb"
      },
      "execution_count": null,
      "outputs": [
        {
          "output_type": "execute_result",
          "data": {
            "text/plain": [
              "Text(0.5, 1.0, 'Matriz de confusão na ordem de 10³ \\n')"
            ]
          },
          "metadata": {},
          "execution_count": 64
        },
        {
          "output_type": "display_data",
          "data": {
            "text/plain": [
              "<Figure size 432x288 with 2 Axes>"
            ],
            "image/png": "[encoded data removed]"
          },
          "metadata": {
            "needs_background": "light"
          }
        }
      ]
    },
    {
      "cell_type": "markdown",
      "source": [
        "## Conclusão dos modelos"
      ],
      "metadata": {
        "id": "zLhFH7xd3c3W"
      }
    },
    {
      "cell_type": "markdown",
      "source": [
        "Pelo quadro abaixo que resume os modelos, podemos notar que o SMOTE combinado com uma Random Forest apresentou melhores resultados, podendo ser usado para nosso aplicativo de detecção de fraude. Ademais, ao vericar as feature importances vimos que a renda do cliente, o preço dos bens para os quais o empréstimo é concedido e a hora que o cliente solicitou o empréstimo, foram as três features mais importantes para tomada de decisão do modelo. Dessa forma, podemos usa-las como sinal de alerta para o banco a fim de monitorar essas transações.\n"
      ],
      "metadata": {
        "id": "jRxM0bhf3kNX"
      }
    },
    {
      "cell_type": "markdown",
      "source": [
        "![image.png](data:image/png;base64,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)"
      ],
      "metadata": {
        "id": "Ycd-Dti13gUP"
      }
    },
    {
      "cell_type": "markdown",
      "source": [
        "# Algumas Referências:\n",
        "\n",
        "**DADOS**: https://www.kaggle.com/datasets/mishra5001/credit-card\n",
        "\n",
        "https://towardsdatascience.com/bert-for-dummies-step-by-step-tutorial-fb90890ffe03\n",
        "\n",
        "https://machinelearningmastery.com/smote-oversampling-for-imbalanced-classification/\n",
        "\n",
        "https://medium.com/turing-talks/dados-desbalanceados-o-que-s%C3%A3o-e-como-evit%C3%A1-los-43df4f49732b\n",
        "\n",
        "https://gist.github.com/gukgurgel/c21d8a84ae8984800b399b94f15d82b9#file-score_metrics-py\n",
        "\n",
        "https://medium.com/data-hackers/como-lidar-com-dados-desbalanceados-em-problemas-de-classifica%C3%A7%C3%A3o-17c4d4357ef9#:~:text=SOLU%C3%87%C3%95ES,Learning%20e%20Recognition%2Dbased%20learning.\n",
        "\n",
        "https://towardsdatascience.com/random-forest-in-python-24d0893d51c0\n"
      ],
      "metadata": {
        "id": "EbkFEno3vZJr"
      }
    },
    {
      "cell_type": "code",
      "source": [],
      "metadata": {
        "id": "MNAu0QGX6ZJo"
      },
      "execution_count": null,
      "outputs": []
    }
  ]
}