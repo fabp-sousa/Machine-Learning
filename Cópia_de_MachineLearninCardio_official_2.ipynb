{
  "nbformat": 4,
  "nbformat_minor": 0,
  "metadata": {
    "colab": {
      "provenance": [],
      "toc_visible": true
    },
    "kernelspec": {
      "name": "python3",
      "display_name": "Python 3"
    },
    "language_info": {
      "name": "python"
    }
  },
  "cells": [
    {
      "cell_type": "markdown",
      "metadata": {
        "id": "GL3NsKZMH85l"
      },
      "source": [
        "##carregando bibliotecas"
      ]
    },
    {
      "cell_type": "code",
      "metadata": {
        "id": "77RAKvGdNXlD"
      },
      "source": [
        "import pandas as pd\n",
        "import numpy as np\n",
        "import seaborn as sns\n",
        "import re\n",
        "from sklearn.model_selection import train_test_split\n",
        "from sklearn.linear_model import LogisticRegression\n",
        "from sklearn.ensemble import AdaBoostClassifier\n",
        "from sklearn.metrics import confusion_matrix,accuracy_score\n",
        "from sklearn.ensemble import RandomForestClassifier\n",
        "from sklearn.metrics import roc_auc_score\n",
        "from sklearn.preprocessing import MinMaxScaler, StandardScaler\n",
        "from sklearn import preprocessing\n",
        "import matplotlib.pyplot as plt\n",
        "import scipy.stats as scs"
      ],
      "execution_count": null,
      "outputs": []
    },
    {
      "cell_type": "code",
      "metadata": {
        "colab": {
          "base_uri": "https://localhost:8080/",
          "height": 422
        },
        "id": "L70J5yk-NdlP",
        "outputId": "7dd8f5ff-ab47-42ba-9aab-ef8d274cec7e"
      },
      "source": [
        "#importando/lendo o arquivo a ser trabalhado com o pandas\n",
        "mlcardio = pd.read_csv('/content/cardio_train.csv',sep=';')\n",
        "mlcardio"
      ],
      "execution_count": null,
      "outputs": [
        {
          "output_type": "execute_result",
          "data": {
            "text/html": [
              "<div>\n",
              "<style scoped>\n",
              "    .dataframe tbody tr th:only-of-type {\n",
              "        vertical-align: middle;\n",
              "    }\n",
              "\n",
              "    .dataframe tbody tr th {\n",
              "        vertical-align: top;\n",
              "    }\n",
              "\n",
              "    .dataframe thead th {\n",
              "        text-align: right;\n",
              "    }\n",
              "</style>\n",
              "<table border=\"1\" class=\"dataframe\">\n",
              "  <thead>\n",
              "    <tr style=\"text-align: right;\">\n",
              "      <th></th>\n",
              "      <th>id</th>\n",
              "      <th>age</th>\n",
              "      <th>gender</th>\n",
              "      <th>height</th>\n",
              "      <th>weight</th>\n",
              "      <th>ap_hi</th>\n",
              "      <th>ap_lo</th>\n",
              "      <th>cholesterol</th>\n",
              "      <th>gluc</th>\n",
              "      <th>smoke</th>\n",
              "      <th>alco</th>\n",
              "      <th>active</th>\n",
              "      <th>cardio</th>\n",
              "    </tr>\n",
              "  </thead>\n",
              "  <tbody>\n",
              "    <tr>\n",
              "      <th>0</th>\n",
              "      <td>0</td>\n",
              "      <td>18393</td>\n",
              "      <td>2</td>\n",
              "      <td>168</td>\n",
              "      <td>62.0</td>\n",
              "      <td>110</td>\n",
              "      <td>80</td>\n",
              "      <td>1</td>\n",
              "      <td>1</td>\n",
              "      <td>0</td>\n",
              "      <td>0</td>\n",
              "      <td>1</td>\n",
              "      <td>0</td>\n",
              "    </tr>\n",
              "    <tr>\n",
              "      <th>1</th>\n",
              "      <td>1</td>\n",
              "      <td>20228</td>\n",
              "      <td>1</td>\n",
              "      <td>156</td>\n",
              "      <td>85.0</td>\n",
              "      <td>140</td>\n",
              "      <td>90</td>\n",
              "      <td>3</td>\n",
              "      <td>1</td>\n",
              "      <td>0</td>\n",
              "      <td>0</td>\n",
              "      <td>1</td>\n",
              "      <td>1</td>\n",
              "    </tr>\n",
              "    <tr>\n",
              "      <th>2</th>\n",
              "      <td>2</td>\n",
              "      <td>18857</td>\n",
              "      <td>1</td>\n",
              "      <td>165</td>\n",
              "      <td>64.0</td>\n",
              "      <td>130</td>\n",
              "      <td>70</td>\n",
              "      <td>3</td>\n",
              "      <td>1</td>\n",
              "      <td>0</td>\n",
              "      <td>0</td>\n",
              "      <td>0</td>\n",
              "      <td>1</td>\n",
              "    </tr>\n",
              "    <tr>\n",
              "      <th>3</th>\n",
              "      <td>3</td>\n",
              "      <td>17623</td>\n",
              "      <td>2</td>\n",
              "      <td>169</td>\n",
              "      <td>82.0</td>\n",
              "      <td>150</td>\n",
              "      <td>100</td>\n",
              "      <td>1</td>\n",
              "      <td>1</td>\n",
              "      <td>0</td>\n",
              "      <td>0</td>\n",
              "      <td>1</td>\n",
              "      <td>1</td>\n",
              "    </tr>\n",
              "    <tr>\n",
              "      <th>4</th>\n",
              "      <td>4</td>\n",
              "      <td>17474</td>\n",
              "      <td>1</td>\n",
              "      <td>156</td>\n",
              "      <td>56.0</td>\n",
              "      <td>100</td>\n",
              "      <td>60</td>\n",
              "      <td>1</td>\n",
              "      <td>1</td>\n",
              "      <td>0</td>\n",
              "      <td>0</td>\n",
              "      <td>0</td>\n",
              "      <td>0</td>\n",
              "    </tr>\n",
              "    <tr>\n",
              "      <th>...</th>\n",
              "      <td>...</td>\n",
              "      <td>...</td>\n",
              "      <td>...</td>\n",
              "      <td>...</td>\n",
              "      <td>...</td>\n",
              "      <td>...</td>\n",
              "      <td>...</td>\n",
              "      <td>...</td>\n",
              "      <td>...</td>\n",
              "      <td>...</td>\n",
              "      <td>...</td>\n",
              "      <td>...</td>\n",
              "      <td>...</td>\n",
              "    </tr>\n",
              "    <tr>\n",
              "      <th>69995</th>\n",
              "      <td>99993</td>\n",
              "      <td>19240</td>\n",
              "      <td>2</td>\n",
              "      <td>168</td>\n",
              "      <td>76.0</td>\n",
              "      <td>120</td>\n",
              "      <td>80</td>\n",
              "      <td>1</td>\n",
              "      <td>1</td>\n",
              "      <td>1</td>\n",
              "      <td>0</td>\n",
              "      <td>1</td>\n",
              "      <td>0</td>\n",
              "    </tr>\n",
              "    <tr>\n",
              "      <th>69996</th>\n",
              "      <td>99995</td>\n",
              "      <td>22601</td>\n",
              "      <td>1</td>\n",
              "      <td>158</td>\n",
              "      <td>126.0</td>\n",
              "      <td>140</td>\n",
              "      <td>90</td>\n",
              "      <td>2</td>\n",
              "      <td>2</td>\n",
              "      <td>0</td>\n",
              "      <td>0</td>\n",
              "      <td>1</td>\n",
              "      <td>1</td>\n",
              "    </tr>\n",
              "    <tr>\n",
              "      <th>69997</th>\n",
              "      <td>99996</td>\n",
              "      <td>19066</td>\n",
              "      <td>2</td>\n",
              "      <td>183</td>\n",
              "      <td>105.0</td>\n",
              "      <td>180</td>\n",
              "      <td>90</td>\n",
              "      <td>3</td>\n",
              "      <td>1</td>\n",
              "      <td>0</td>\n",
              "      <td>1</td>\n",
              "      <td>0</td>\n",
              "      <td>1</td>\n",
              "    </tr>\n",
              "    <tr>\n",
              "      <th>69998</th>\n",
              "      <td>99998</td>\n",
              "      <td>22431</td>\n",
              "      <td>1</td>\n",
              "      <td>163</td>\n",
              "      <td>72.0</td>\n",
              "      <td>135</td>\n",
              "      <td>80</td>\n",
              "      <td>1</td>\n",
              "      <td>2</td>\n",
              "      <td>0</td>\n",
              "      <td>0</td>\n",
              "      <td>0</td>\n",
              "      <td>1</td>\n",
              "    </tr>\n",
              "    <tr>\n",
              "      <th>69999</th>\n",
              "      <td>99999</td>\n",
              "      <td>20540</td>\n",
              "      <td>1</td>\n",
              "      <td>170</td>\n",
              "      <td>72.0</td>\n",
              "      <td>120</td>\n",
              "      <td>80</td>\n",
              "      <td>2</td>\n",
              "      <td>1</td>\n",
              "      <td>0</td>\n",
              "      <td>0</td>\n",
              "      <td>1</td>\n",
              "      <td>0</td>\n",
              "    </tr>\n",
              "  </tbody>\n",
              "</table>\n",
              "<p>70000 rows × 13 columns</p>\n",
              "</div>"
            ],
            "text/plain": [
              "          id    age  gender  height  weight  ...  gluc  smoke  alco  active  cardio\n",
              "0          0  18393       2     168    62.0  ...     1      0     0       1       0\n",
              "1          1  20228       1     156    85.0  ...     1      0     0       1       1\n",
              "2          2  18857       1     165    64.0  ...     1      0     0       0       1\n",
              "3          3  17623       2     169    82.0  ...     1      0     0       1       1\n",
              "4          4  17474       1     156    56.0  ...     1      0     0       0       0\n",
              "...      ...    ...     ...     ...     ...  ...   ...    ...   ...     ...     ...\n",
              "69995  99993  19240       2     168    76.0  ...     1      1     0       1       0\n",
              "69996  99995  22601       1     158   126.0  ...     2      0     0       1       1\n",
              "69997  99996  19066       2     183   105.0  ...     1      0     1       0       1\n",
              "69998  99998  22431       1     163    72.0  ...     2      0     0       0       1\n",
              "69999  99999  20540       1     170    72.0  ...     1      0     0       1       0\n",
              "\n",
              "[70000 rows x 13 columns]"
            ]
          },
          "metadata": {},
          "execution_count": 2
        }
      ]
    },
    {
      "cell_type": "code",
      "metadata": {
        "colab": {
          "base_uri": "https://localhost:8080/",
          "height": 319
        },
        "id": "r4P0qZfRUdYs",
        "outputId": "c97b6261-8f6b-4825-dd7e-70345d645e40"
      },
      "source": [
        "#excluindo a coluna id\n",
        "mlcardio = mlcardio.drop(['id'],axis = 1)\n",
        "#verificando algumas informações\n",
        "mlcardio.describe()"
      ],
      "execution_count": null,
      "outputs": [
        {
          "output_type": "execute_result",
          "data": {
            "text/html": [
              "<div>\n",
              "<style scoped>\n",
              "    .dataframe tbody tr th:only-of-type {\n",
              "        vertical-align: middle;\n",
              "    }\n",
              "\n",
              "    .dataframe tbody tr th {\n",
              "        vertical-align: top;\n",
              "    }\n",
              "\n",
              "    .dataframe thead th {\n",
              "        text-align: right;\n",
              "    }\n",
              "</style>\n",
              "<table border=\"1\" class=\"dataframe\">\n",
              "  <thead>\n",
              "    <tr style=\"text-align: right;\">\n",
              "      <th></th>\n",
              "      <th>age</th>\n",
              "      <th>gender</th>\n",
              "      <th>height</th>\n",
              "      <th>weight</th>\n",
              "      <th>ap_hi</th>\n",
              "      <th>ap_lo</th>\n",
              "      <th>cholesterol</th>\n",
              "      <th>gluc</th>\n",
              "      <th>smoke</th>\n",
              "      <th>alco</th>\n",
              "      <th>active</th>\n",
              "      <th>cardio</th>\n",
              "    </tr>\n",
              "  </thead>\n",
              "  <tbody>\n",
              "    <tr>\n",
              "      <th>count</th>\n",
              "      <td>70000.000000</td>\n",
              "      <td>70000.000000</td>\n",
              "      <td>70000.000000</td>\n",
              "      <td>70000.000000</td>\n",
              "      <td>70000.000000</td>\n",
              "      <td>70000.000000</td>\n",
              "      <td>70000.000000</td>\n",
              "      <td>70000.000000</td>\n",
              "      <td>70000.000000</td>\n",
              "      <td>70000.000000</td>\n",
              "      <td>70000.000000</td>\n",
              "      <td>70000.000000</td>\n",
              "    </tr>\n",
              "    <tr>\n",
              "      <th>mean</th>\n",
              "      <td>19468.865814</td>\n",
              "      <td>1.349571</td>\n",
              "      <td>164.359229</td>\n",
              "      <td>74.205690</td>\n",
              "      <td>128.817286</td>\n",
              "      <td>96.630414</td>\n",
              "      <td>1.366871</td>\n",
              "      <td>1.226457</td>\n",
              "      <td>0.088129</td>\n",
              "      <td>0.053771</td>\n",
              "      <td>0.803729</td>\n",
              "      <td>0.499700</td>\n",
              "    </tr>\n",
              "    <tr>\n",
              "      <th>std</th>\n",
              "      <td>2467.251667</td>\n",
              "      <td>0.476838</td>\n",
              "      <td>8.210126</td>\n",
              "      <td>14.395757</td>\n",
              "      <td>154.011419</td>\n",
              "      <td>188.472530</td>\n",
              "      <td>0.680250</td>\n",
              "      <td>0.572270</td>\n",
              "      <td>0.283484</td>\n",
              "      <td>0.225568</td>\n",
              "      <td>0.397179</td>\n",
              "      <td>0.500003</td>\n",
              "    </tr>\n",
              "    <tr>\n",
              "      <th>min</th>\n",
              "      <td>10798.000000</td>\n",
              "      <td>1.000000</td>\n",
              "      <td>55.000000</td>\n",
              "      <td>10.000000</td>\n",
              "      <td>-150.000000</td>\n",
              "      <td>-70.000000</td>\n",
              "      <td>1.000000</td>\n",
              "      <td>1.000000</td>\n",
              "      <td>0.000000</td>\n",
              "      <td>0.000000</td>\n",
              "      <td>0.000000</td>\n",
              "      <td>0.000000</td>\n",
              "    </tr>\n",
              "    <tr>\n",
              "      <th>25%</th>\n",
              "      <td>17664.000000</td>\n",
              "      <td>1.000000</td>\n",
              "      <td>159.000000</td>\n",
              "      <td>65.000000</td>\n",
              "      <td>120.000000</td>\n",
              "      <td>80.000000</td>\n",
              "      <td>1.000000</td>\n",
              "      <td>1.000000</td>\n",
              "      <td>0.000000</td>\n",
              "      <td>0.000000</td>\n",
              "      <td>1.000000</td>\n",
              "      <td>0.000000</td>\n",
              "    </tr>\n",
              "    <tr>\n",
              "      <th>50%</th>\n",
              "      <td>19703.000000</td>\n",
              "      <td>1.000000</td>\n",
              "      <td>165.000000</td>\n",
              "      <td>72.000000</td>\n",
              "      <td>120.000000</td>\n",
              "      <td>80.000000</td>\n",
              "      <td>1.000000</td>\n",
              "      <td>1.000000</td>\n",
              "      <td>0.000000</td>\n",
              "      <td>0.000000</td>\n",
              "      <td>1.000000</td>\n",
              "      <td>0.000000</td>\n",
              "    </tr>\n",
              "    <tr>\n",
              "      <th>75%</th>\n",
              "      <td>21327.000000</td>\n",
              "      <td>2.000000</td>\n",
              "      <td>170.000000</td>\n",
              "      <td>82.000000</td>\n",
              "      <td>140.000000</td>\n",
              "      <td>90.000000</td>\n",
              "      <td>2.000000</td>\n",
              "      <td>1.000000</td>\n",
              "      <td>0.000000</td>\n",
              "      <td>0.000000</td>\n",
              "      <td>1.000000</td>\n",
              "      <td>1.000000</td>\n",
              "    </tr>\n",
              "    <tr>\n",
              "      <th>max</th>\n",
              "      <td>23713.000000</td>\n",
              "      <td>2.000000</td>\n",
              "      <td>250.000000</td>\n",
              "      <td>200.000000</td>\n",
              "      <td>16020.000000</td>\n",
              "      <td>11000.000000</td>\n",
              "      <td>3.000000</td>\n",
              "      <td>3.000000</td>\n",
              "      <td>1.000000</td>\n",
              "      <td>1.000000</td>\n",
              "      <td>1.000000</td>\n",
              "      <td>1.000000</td>\n",
              "    </tr>\n",
              "  </tbody>\n",
              "</table>\n",
              "</div>"
            ],
            "text/plain": [
              "                age        gender  ...        active        cardio\n",
              "count  70000.000000  70000.000000  ...  70000.000000  70000.000000\n",
              "mean   19468.865814      1.349571  ...      0.803729      0.499700\n",
              "std     2467.251667      0.476838  ...      0.397179      0.500003\n",
              "min    10798.000000      1.000000  ...      0.000000      0.000000\n",
              "25%    17664.000000      1.000000  ...      1.000000      0.000000\n",
              "50%    19703.000000      1.000000  ...      1.000000      0.000000\n",
              "75%    21327.000000      2.000000  ...      1.000000      1.000000\n",
              "max    23713.000000      2.000000  ...      1.000000      1.000000\n",
              "\n",
              "[8 rows x 12 columns]"
            ]
          },
          "metadata": {},
          "execution_count": 3
        }
      ]
    },
    {
      "cell_type": "code",
      "metadata": {
        "colab": {
          "base_uri": "https://localhost:8080/",
          "height": 205
        },
        "id": "uqis6_d2UvPf",
        "outputId": "54ec3d7b-406e-4c18-fc60-9d10591ec876"
      },
      "source": [
        "#alterando as idades de dias para anos aproximadamente\n",
        "idade = mlcardio['age']\n",
        "anos = (idade/365).round()\n",
        "anos = anos.astype('int64')\n",
        "mlcardio['age'] = anos\n",
        "mlcardio.head()"
      ],
      "execution_count": null,
      "outputs": [
        {
          "output_type": "execute_result",
          "data": {
            "text/html": [
              "<div>\n",
              "<style scoped>\n",
              "    .dataframe tbody tr th:only-of-type {\n",
              "        vertical-align: middle;\n",
              "    }\n",
              "\n",
              "    .dataframe tbody tr th {\n",
              "        vertical-align: top;\n",
              "    }\n",
              "\n",
              "    .dataframe thead th {\n",
              "        text-align: right;\n",
              "    }\n",
              "</style>\n",
              "<table border=\"1\" class=\"dataframe\">\n",
              "  <thead>\n",
              "    <tr style=\"text-align: right;\">\n",
              "      <th></th>\n",
              "      <th>age</th>\n",
              "      <th>gender</th>\n",
              "      <th>height</th>\n",
              "      <th>weight</th>\n",
              "      <th>ap_hi</th>\n",
              "      <th>ap_lo</th>\n",
              "      <th>cholesterol</th>\n",
              "      <th>gluc</th>\n",
              "      <th>smoke</th>\n",
              "      <th>alco</th>\n",
              "      <th>active</th>\n",
              "      <th>cardio</th>\n",
              "    </tr>\n",
              "  </thead>\n",
              "  <tbody>\n",
              "    <tr>\n",
              "      <th>0</th>\n",
              "      <td>50</td>\n",
              "      <td>2</td>\n",
              "      <td>168</td>\n",
              "      <td>62.0</td>\n",
              "      <td>110</td>\n",
              "      <td>80</td>\n",
              "      <td>1</td>\n",
              "      <td>1</td>\n",
              "      <td>0</td>\n",
              "      <td>0</td>\n",
              "      <td>1</td>\n",
              "      <td>0</td>\n",
              "    </tr>\n",
              "    <tr>\n",
              "      <th>1</th>\n",
              "      <td>55</td>\n",
              "      <td>1</td>\n",
              "      <td>156</td>\n",
              "      <td>85.0</td>\n",
              "      <td>140</td>\n",
              "      <td>90</td>\n",
              "      <td>3</td>\n",
              "      <td>1</td>\n",
              "      <td>0</td>\n",
              "      <td>0</td>\n",
              "      <td>1</td>\n",
              "      <td>1</td>\n",
              "    </tr>\n",
              "    <tr>\n",
              "      <th>2</th>\n",
              "      <td>52</td>\n",
              "      <td>1</td>\n",
              "      <td>165</td>\n",
              "      <td>64.0</td>\n",
              "      <td>130</td>\n",
              "      <td>70</td>\n",
              "      <td>3</td>\n",
              "      <td>1</td>\n",
              "      <td>0</td>\n",
              "      <td>0</td>\n",
              "      <td>0</td>\n",
              "      <td>1</td>\n",
              "    </tr>\n",
              "    <tr>\n",
              "      <th>3</th>\n",
              "      <td>48</td>\n",
              "      <td>2</td>\n",
              "      <td>169</td>\n",
              "      <td>82.0</td>\n",
              "      <td>150</td>\n",
              "      <td>100</td>\n",
              "      <td>1</td>\n",
              "      <td>1</td>\n",
              "      <td>0</td>\n",
              "      <td>0</td>\n",
              "      <td>1</td>\n",
              "      <td>1</td>\n",
              "    </tr>\n",
              "    <tr>\n",
              "      <th>4</th>\n",
              "      <td>48</td>\n",
              "      <td>1</td>\n",
              "      <td>156</td>\n",
              "      <td>56.0</td>\n",
              "      <td>100</td>\n",
              "      <td>60</td>\n",
              "      <td>1</td>\n",
              "      <td>1</td>\n",
              "      <td>0</td>\n",
              "      <td>0</td>\n",
              "      <td>0</td>\n",
              "      <td>0</td>\n",
              "    </tr>\n",
              "  </tbody>\n",
              "</table>\n",
              "</div>"
            ],
            "text/plain": [
              "   age  gender  height  weight  ap_hi  ...  gluc  smoke  alco  active  cardio\n",
              "0   50       2     168    62.0    110  ...     1      0     0       1       0\n",
              "1   55       1     156    85.0    140  ...     1      0     0       1       1\n",
              "2   52       1     165    64.0    130  ...     1      0     0       0       1\n",
              "3   48       2     169    82.0    150  ...     1      0     0       1       1\n",
              "4   48       1     156    56.0    100  ...     1      0     0       0       0\n",
              "\n",
              "[5 rows x 12 columns]"
            ]
          },
          "metadata": {},
          "execution_count": 4
        }
      ]
    },
    {
      "cell_type": "code",
      "metadata": {
        "colab": {
          "base_uri": "https://localhost:8080/",
          "height": 205
        },
        "id": "fheZJ26cNM7L",
        "outputId": "eed713cc-4d30-43f4-df61-03a4412d6434"
      },
      "source": [
        "#calculando o IMC e adicionando ele a base\n",
        "IMC = (mlcardio['weight']/(mlcardio['height']/100)**2)\n",
        "IMC = pd.DataFrame(IMC)\n",
        "mlcardio['IMC'] = IMC.round()\n",
        "mlcardio.head()"
      ],
      "execution_count": null,
      "outputs": [
        {
          "output_type": "execute_result",
          "data": {
            "text/html": [
              "<div>\n",
              "<style scoped>\n",
              "    .dataframe tbody tr th:only-of-type {\n",
              "        vertical-align: middle;\n",
              "    }\n",
              "\n",
              "    .dataframe tbody tr th {\n",
              "        vertical-align: top;\n",
              "    }\n",
              "\n",
              "    .dataframe thead th {\n",
              "        text-align: right;\n",
              "    }\n",
              "</style>\n",
              "<table border=\"1\" class=\"dataframe\">\n",
              "  <thead>\n",
              "    <tr style=\"text-align: right;\">\n",
              "      <th></th>\n",
              "      <th>age</th>\n",
              "      <th>gender</th>\n",
              "      <th>height</th>\n",
              "      <th>weight</th>\n",
              "      <th>ap_hi</th>\n",
              "      <th>ap_lo</th>\n",
              "      <th>cholesterol</th>\n",
              "      <th>gluc</th>\n",
              "      <th>smoke</th>\n",
              "      <th>alco</th>\n",
              "      <th>active</th>\n",
              "      <th>cardio</th>\n",
              "      <th>IMC</th>\n",
              "    </tr>\n",
              "  </thead>\n",
              "  <tbody>\n",
              "    <tr>\n",
              "      <th>0</th>\n",
              "      <td>50</td>\n",
              "      <td>2</td>\n",
              "      <td>168</td>\n",
              "      <td>62.0</td>\n",
              "      <td>110</td>\n",
              "      <td>80</td>\n",
              "      <td>1</td>\n",
              "      <td>1</td>\n",
              "      <td>0</td>\n",
              "      <td>0</td>\n",
              "      <td>1</td>\n",
              "      <td>0</td>\n",
              "      <td>22.0</td>\n",
              "    </tr>\n",
              "    <tr>\n",
              "      <th>1</th>\n",
              "      <td>55</td>\n",
              "      <td>1</td>\n",
              "      <td>156</td>\n",
              "      <td>85.0</td>\n",
              "      <td>140</td>\n",
              "      <td>90</td>\n",
              "      <td>3</td>\n",
              "      <td>1</td>\n",
              "      <td>0</td>\n",
              "      <td>0</td>\n",
              "      <td>1</td>\n",
              "      <td>1</td>\n",
              "      <td>35.0</td>\n",
              "    </tr>\n",
              "    <tr>\n",
              "      <th>2</th>\n",
              "      <td>52</td>\n",
              "      <td>1</td>\n",
              "      <td>165</td>\n",
              "      <td>64.0</td>\n",
              "      <td>130</td>\n",
              "      <td>70</td>\n",
              "      <td>3</td>\n",
              "      <td>1</td>\n",
              "      <td>0</td>\n",
              "      <td>0</td>\n",
              "      <td>0</td>\n",
              "      <td>1</td>\n",
              "      <td>24.0</td>\n",
              "    </tr>\n",
              "    <tr>\n",
              "      <th>3</th>\n",
              "      <td>48</td>\n",
              "      <td>2</td>\n",
              "      <td>169</td>\n",
              "      <td>82.0</td>\n",
              "      <td>150</td>\n",
              "      <td>100</td>\n",
              "      <td>1</td>\n",
              "      <td>1</td>\n",
              "      <td>0</td>\n",
              "      <td>0</td>\n",
              "      <td>1</td>\n",
              "      <td>1</td>\n",
              "      <td>29.0</td>\n",
              "    </tr>\n",
              "    <tr>\n",
              "      <th>4</th>\n",
              "      <td>48</td>\n",
              "      <td>1</td>\n",
              "      <td>156</td>\n",
              "      <td>56.0</td>\n",
              "      <td>100</td>\n",
              "      <td>60</td>\n",
              "      <td>1</td>\n",
              "      <td>1</td>\n",
              "      <td>0</td>\n",
              "      <td>0</td>\n",
              "      <td>0</td>\n",
              "      <td>0</td>\n",
              "      <td>23.0</td>\n",
              "    </tr>\n",
              "  </tbody>\n",
              "</table>\n",
              "</div>"
            ],
            "text/plain": [
              "   age  gender  height  weight  ap_hi  ...  smoke  alco  active  cardio   IMC\n",
              "0   50       2     168    62.0    110  ...      0     0       1       0  22.0\n",
              "1   55       1     156    85.0    140  ...      0     0       1       1  35.0\n",
              "2   52       1     165    64.0    130  ...      0     0       0       1  24.0\n",
              "3   48       2     169    82.0    150  ...      0     0       1       1  29.0\n",
              "4   48       1     156    56.0    100  ...      0     0       0       0  23.0\n",
              "\n",
              "[5 rows x 13 columns]"
            ]
          },
          "metadata": {},
          "execution_count": 5
        }
      ]
    },
    {
      "cell_type": "code",
      "metadata": {
        "id": "D7KV5QhNU8mI"
      },
      "source": [
        "#colocando como 'valor faltante' nos outliers, pois há algumas inconsistencias nos extremos\n",
        "#criando uma função que irá fazer isso:\n",
        "def exclui_outliers(mlcardio, col_name):\n",
        "  intervalo = 2*mlcardio[col_name].std()\n",
        "  media = mlcardio[col_name].mean()\n",
        "  mlcardio.loc[mlcardio[col_name] < (media - intervalo), col_name] = np.nan\n",
        "  mlcardio.loc[mlcardio[col_name] > (media + intervalo), col_name] = np.nan"
      ],
      "execution_count": null,
      "outputs": []
    },
    {
      "cell_type": "code",
      "metadata": {
        "id": "Serdv0CtVOKo"
      },
      "source": [
        "#executando a função nas colunas onde havia erros perceptiveis nos outiliers\n",
        "numerical_cols = ['height','weight','ap_hi','ap_lo','IMC']\n",
        "for col in numerical_cols:\n",
        "  exclui_outliers(mlcardio, col)"
      ],
      "execution_count": null,
      "outputs": []
    },
    {
      "cell_type": "code",
      "metadata": {
        "colab": {
          "base_uri": "https://localhost:8080/",
          "height": 319
        },
        "id": "IixSh4NbVi-K",
        "outputId": "06759cf7-ea0c-405d-ae73-ce86285a28e2"
      },
      "source": [
        "#como é possível notar valores negativos foram retirados e valores extremamente altos também\n",
        "mlcardio.describe()"
      ],
      "execution_count": null,
      "outputs": [
        {
          "output_type": "execute_result",
          "data": {
            "text/html": [
              "<div>\n",
              "<style scoped>\n",
              "    .dataframe tbody tr th:only-of-type {\n",
              "        vertical-align: middle;\n",
              "    }\n",
              "\n",
              "    .dataframe tbody tr th {\n",
              "        vertical-align: top;\n",
              "    }\n",
              "\n",
              "    .dataframe thead th {\n",
              "        text-align: right;\n",
              "    }\n",
              "</style>\n",
              "<table border=\"1\" class=\"dataframe\">\n",
              "  <thead>\n",
              "    <tr style=\"text-align: right;\">\n",
              "      <th></th>\n",
              "      <th>age</th>\n",
              "      <th>gender</th>\n",
              "      <th>height</th>\n",
              "      <th>weight</th>\n",
              "      <th>ap_hi</th>\n",
              "      <th>ap_lo</th>\n",
              "      <th>cholesterol</th>\n",
              "      <th>gluc</th>\n",
              "      <th>smoke</th>\n",
              "      <th>alco</th>\n",
              "      <th>active</th>\n",
              "      <th>cardio</th>\n",
              "      <th>IMC</th>\n",
              "    </tr>\n",
              "  </thead>\n",
              "  <tbody>\n",
              "    <tr>\n",
              "      <th>count</th>\n",
              "      <td>70000.000000</td>\n",
              "      <td>70000.000000</td>\n",
              "      <td>67665.000000</td>\n",
              "      <td>66765.000000</td>\n",
              "      <td>69962.000000</td>\n",
              "      <td>69047.000000</td>\n",
              "      <td>70000.000000</td>\n",
              "      <td>70000.000000</td>\n",
              "      <td>70000.000000</td>\n",
              "      <td>70000.000000</td>\n",
              "      <td>70000.000000</td>\n",
              "      <td>70000.000000</td>\n",
              "      <td>67868.000000</td>\n",
              "    </tr>\n",
              "    <tr>\n",
              "      <th>mean</th>\n",
              "      <td>53.338686</td>\n",
              "      <td>1.349571</td>\n",
              "      <td>164.254253</td>\n",
              "      <td>72.753454</td>\n",
              "      <td>126.687616</td>\n",
              "      <td>81.322910</td>\n",
              "      <td>1.366871</td>\n",
              "      <td>1.226457</td>\n",
              "      <td>0.088129</td>\n",
              "      <td>0.053771</td>\n",
              "      <td>0.803729</td>\n",
              "      <td>0.499700</td>\n",
              "      <td>26.992721</td>\n",
              "    </tr>\n",
              "    <tr>\n",
              "      <th>std</th>\n",
              "      <td>6.765294</td>\n",
              "      <td>0.476838</td>\n",
              "      <td>7.078554</td>\n",
              "      <td>11.711464</td>\n",
              "      <td>18.247836</td>\n",
              "      <td>9.923572</td>\n",
              "      <td>0.680250</td>\n",
              "      <td>0.572270</td>\n",
              "      <td>0.283484</td>\n",
              "      <td>0.225568</td>\n",
              "      <td>0.397179</td>\n",
              "      <td>0.500003</td>\n",
              "      <td>4.419406</td>\n",
              "    </tr>\n",
              "    <tr>\n",
              "      <th>min</th>\n",
              "      <td>30.000000</td>\n",
              "      <td>1.000000</td>\n",
              "      <td>148.000000</td>\n",
              "      <td>45.800000</td>\n",
              "      <td>-150.000000</td>\n",
              "      <td>-70.000000</td>\n",
              "      <td>1.000000</td>\n",
              "      <td>1.000000</td>\n",
              "      <td>0.000000</td>\n",
              "      <td>0.000000</td>\n",
              "      <td>0.000000</td>\n",
              "      <td>0.000000</td>\n",
              "      <td>16.000000</td>\n",
              "    </tr>\n",
              "    <tr>\n",
              "      <th>25%</th>\n",
              "      <td>48.000000</td>\n",
              "      <td>1.000000</td>\n",
              "      <td>159.000000</td>\n",
              "      <td>65.000000</td>\n",
              "      <td>120.000000</td>\n",
              "      <td>80.000000</td>\n",
              "      <td>1.000000</td>\n",
              "      <td>1.000000</td>\n",
              "      <td>0.000000</td>\n",
              "      <td>0.000000</td>\n",
              "      <td>1.000000</td>\n",
              "      <td>0.000000</td>\n",
              "      <td>24.000000</td>\n",
              "    </tr>\n",
              "    <tr>\n",
              "      <th>50%</th>\n",
              "      <td>54.000000</td>\n",
              "      <td>1.000000</td>\n",
              "      <td>165.000000</td>\n",
              "      <td>71.000000</td>\n",
              "      <td>120.000000</td>\n",
              "      <td>80.000000</td>\n",
              "      <td>1.000000</td>\n",
              "      <td>1.000000</td>\n",
              "      <td>0.000000</td>\n",
              "      <td>0.000000</td>\n",
              "      <td>1.000000</td>\n",
              "      <td>0.000000</td>\n",
              "      <td>26.000000</td>\n",
              "    </tr>\n",
              "    <tr>\n",
              "      <th>75%</th>\n",
              "      <td>58.000000</td>\n",
              "      <td>2.000000</td>\n",
              "      <td>169.000000</td>\n",
              "      <td>80.000000</td>\n",
              "      <td>140.000000</td>\n",
              "      <td>90.000000</td>\n",
              "      <td>2.000000</td>\n",
              "      <td>1.000000</td>\n",
              "      <td>0.000000</td>\n",
              "      <td>0.000000</td>\n",
              "      <td>1.000000</td>\n",
              "      <td>1.000000</td>\n",
              "      <td>30.000000</td>\n",
              "    </tr>\n",
              "    <tr>\n",
              "      <th>max</th>\n",
              "      <td>65.000000</td>\n",
              "      <td>2.000000</td>\n",
              "      <td>180.000000</td>\n",
              "      <td>102.000000</td>\n",
              "      <td>401.000000</td>\n",
              "      <td>190.000000</td>\n",
              "      <td>3.000000</td>\n",
              "      <td>3.000000</td>\n",
              "      <td>1.000000</td>\n",
              "      <td>1.000000</td>\n",
              "      <td>1.000000</td>\n",
              "      <td>1.000000</td>\n",
              "      <td>39.000000</td>\n",
              "    </tr>\n",
              "  </tbody>\n",
              "</table>\n",
              "</div>"
            ],
            "text/plain": [
              "                age        gender  ...        cardio           IMC\n",
              "count  70000.000000  70000.000000  ...  70000.000000  67868.000000\n",
              "mean      53.338686      1.349571  ...      0.499700     26.992721\n",
              "std        6.765294      0.476838  ...      0.500003      4.419406\n",
              "min       30.000000      1.000000  ...      0.000000     16.000000\n",
              "25%       48.000000      1.000000  ...      0.000000     24.000000\n",
              "50%       54.000000      1.000000  ...      0.000000     26.000000\n",
              "75%       58.000000      2.000000  ...      1.000000     30.000000\n",
              "max       65.000000      2.000000  ...      1.000000     39.000000\n",
              "\n",
              "[8 rows x 13 columns]"
            ]
          },
          "metadata": {},
          "execution_count": 8
        }
      ]
    },
    {
      "cell_type": "code",
      "metadata": {
        "colab": {
          "base_uri": "https://localhost:8080/"
        },
        "id": "z6p5qiexVw4Y",
        "outputId": "95c85285-14be-4bce-9287-9305e95ca976"
      },
      "source": [
        "#porém como a função substitui esses utilier por valores faltantes é possível ver que agora eles aparecem na nossa base\n",
        "\n",
        "mlcardio.isna().sum()\n"
      ],
      "execution_count": null,
      "outputs": [
        {
          "output_type": "execute_result",
          "data": {
            "text/plain": [
              "age               0\n",
              "gender            0\n",
              "height         2335\n",
              "weight         3235\n",
              "ap_hi            38\n",
              "ap_lo           953\n",
              "cholesterol       0\n",
              "gluc              0\n",
              "smoke             0\n",
              "alco              0\n",
              "active            0\n",
              "cardio            0\n",
              "IMC            2132\n",
              "dtype: int64"
            ]
          },
          "metadata": {},
          "execution_count": 9
        }
      ]
    },
    {
      "cell_type": "code",
      "metadata": {
        "colab": {
          "base_uri": "https://localhost:8080/"
        },
        "id": "InHVWQDogoJc",
        "outputId": "d2949dcf-f681-4594-e776-e89dfebdab92"
      },
      "source": [
        "mlcardio.shape"
      ],
      "execution_count": null,
      "outputs": [
        {
          "output_type": "execute_result",
          "data": {
            "text/plain": [
              "(63433, 16)"
            ]
          },
          "metadata": {},
          "execution_count": 42
        }
      ]
    },
    {
      "cell_type": "code",
      "metadata": {
        "id": "u9lLQd_qWLVU"
      },
      "source": [
        "# e para trabalhar com os algoritmos de machine learning temos que retira-los\n",
        "mlcardio.dropna(axis = 0, inplace = True)"
      ],
      "execution_count": null,
      "outputs": []
    },
    {
      "cell_type": "code",
      "metadata": {
        "colab": {
          "base_uri": "https://localhost:8080/"
        },
        "id": "SKOMbmJ_WQjr",
        "outputId": "4ba68e5a-2651-41d8-9e4e-3cce8a6de5f7"
      },
      "source": [
        "mlcardio.info()"
      ],
      "execution_count": null,
      "outputs": [
        {
          "output_type": "stream",
          "text": [
            "<class 'pandas.core.frame.DataFrame'>\n",
            "Int64Index: 63433 entries, 0 to 69999\n",
            "Data columns (total 13 columns):\n",
            " #   Column       Non-Null Count  Dtype  \n",
            "---  ------       --------------  -----  \n",
            " 0   age          63433 non-null  int64  \n",
            " 1   gender       63433 non-null  int64  \n",
            " 2   height       63433 non-null  float64\n",
            " 3   weight       63433 non-null  float64\n",
            " 4   ap_hi        63433 non-null  float64\n",
            " 5   ap_lo        63433 non-null  float64\n",
            " 6   cholesterol  63433 non-null  int64  \n",
            " 7   gluc         63433 non-null  int64  \n",
            " 8   smoke        63433 non-null  int64  \n",
            " 9   alco         63433 non-null  int64  \n",
            " 10  active       63433 non-null  int64  \n",
            " 11  cardio       63433 non-null  int64  \n",
            " 12  IMC          63433 non-null  float64\n",
            "dtypes: float64(5), int64(8)\n",
            "memory usage: 6.8 MB\n"
          ],
          "name": "stdout"
        }
      ]
    },
    {
      "cell_type": "code",
      "metadata": {
        "colab": {
          "base_uri": "https://localhost:8080/"
        },
        "id": "tUH9GxAfWVUa",
        "outputId": "a67d9786-f2ae-4b97-c1b8-a240e319f02a"
      },
      "source": [
        "#há variáveis qe são categóricas e estão aparecendo como inteiras,logo mudaremos os tipos delas para string\n",
        "mlcardio[['gender','cholesterol',\t'gluc',\t'smoke',\t'alco',\t'active'\t]] = mlcardio[['gender','cholesterol',\t'gluc',\t'smoke',\t'alco',\t'active'\t]].astype(str)\n",
        "mlcardio.info()"
      ],
      "execution_count": null,
      "outputs": [
        {
          "output_type": "stream",
          "text": [
            "<class 'pandas.core.frame.DataFrame'>\n",
            "Int64Index: 63433 entries, 0 to 69999\n",
            "Data columns (total 13 columns):\n",
            " #   Column       Non-Null Count  Dtype  \n",
            "---  ------       --------------  -----  \n",
            " 0   age          63433 non-null  int64  \n",
            " 1   gender       63433 non-null  object \n",
            " 2   height       63433 non-null  float64\n",
            " 3   weight       63433 non-null  float64\n",
            " 4   ap_hi        63433 non-null  float64\n",
            " 5   ap_lo        63433 non-null  float64\n",
            " 6   cholesterol  63433 non-null  object \n",
            " 7   gluc         63433 non-null  object \n",
            " 8   smoke        63433 non-null  object \n",
            " 9   alco         63433 non-null  object \n",
            " 10  active       63433 non-null  object \n",
            " 11  cardio       63433 non-null  int64  \n",
            " 12  IMC          63433 non-null  float64\n",
            "dtypes: float64(5), int64(2), object(6)\n",
            "memory usage: 6.8+ MB\n"
          ],
          "name": "stdout"
        }
      ]
    },
    {
      "cell_type": "code",
      "metadata": {
        "colab": {
          "base_uri": "https://localhost:8080/",
          "height": 354
        },
        "id": "onTqHkymWufg",
        "outputId": "ddd8fe91-42f3-4a64-e816-ee6c448e9247"
      },
      "source": [
        "#vizualização iniciall de quem tem problema cardiaco(1) e quem não tem no nosso conjunto de dados(0)\n",
        "sns.countplot('cardio',data=mlcardio)"
      ],
      "execution_count": null,
      "outputs": [
        {
          "output_type": "stream",
          "text": [
            "/usr/local/lib/python3.7/dist-packages/seaborn/_decorators.py:43: FutureWarning: Pass the following variable as a keyword arg: x. From version 0.12, the only valid positional argument will be `data`, and passing other arguments without an explicit keyword will result in an error or misinterpretation.\n",
            "  FutureWarning\n"
          ],
          "name": "stderr"
        },
        {
          "output_type": "execute_result",
          "data": {
            "text/plain": [
              "<matplotlib.axes._subplots.AxesSubplot at 0x7f37b7e9bf10>"
            ]
          },
          "metadata": {},
          "execution_count": 14
        },
        {
          "output_type": "display_data",
          "data": {
            "image/png": "[encoded data removed]",
            "text/plain": [
              "<Figure size 432x288 with 1 Axes>"
            ]
          },
          "metadata": {
            "needs_background": "light"
          }
        }
      ]
    },
    {
      "cell_type": "code",
      "metadata": {
        "id": "Q_972lxFOmsA"
      },
      "source": [
        "#pandas.get_dummies () é usado para manipulação de dados. Ele converte dados categóricos em variáveis ​​fictícias ou indicadoras\n",
        "mlcardio=pd.get_dummies(mlcardio)"
      ],
      "execution_count": null,
      "outputs": []
    },
    {
      "cell_type": "code",
      "metadata": {
        "colab": {
          "base_uri": "https://localhost:8080/",
          "height": 442
        },
        "id": "kXnNJgzROsbt",
        "outputId": "caad984c-1907-4c13-c1cd-6234e7638059"
      },
      "source": [
        "mlcardio"
      ],
      "execution_count": null,
      "outputs": [
        {
          "output_type": "execute_result",
          "data": {
            "text/html": [
              "<div>\n",
              "<style scoped>\n",
              "    .dataframe tbody tr th:only-of-type {\n",
              "        vertical-align: middle;\n",
              "    }\n",
              "\n",
              "    .dataframe tbody tr th {\n",
              "        vertical-align: top;\n",
              "    }\n",
              "\n",
              "    .dataframe thead th {\n",
              "        text-align: right;\n",
              "    }\n",
              "</style>\n",
              "<table border=\"1\" class=\"dataframe\">\n",
              "  <thead>\n",
              "    <tr style=\"text-align: right;\">\n",
              "      <th></th>\n",
              "      <th>age</th>\n",
              "      <th>height</th>\n",
              "      <th>weight</th>\n",
              "      <th>ap_hi</th>\n",
              "      <th>ap_lo</th>\n",
              "      <th>cardio</th>\n",
              "      <th>IMC</th>\n",
              "      <th>gender_1</th>\n",
              "      <th>gender_2</th>\n",
              "      <th>cholesterol_1</th>\n",
              "      <th>cholesterol_2</th>\n",
              "      <th>cholesterol_3</th>\n",
              "      <th>gluc_1</th>\n",
              "      <th>gluc_2</th>\n",
              "      <th>gluc_3</th>\n",
              "      <th>smoke_0</th>\n",
              "      <th>smoke_1</th>\n",
              "      <th>alco_0</th>\n",
              "      <th>alco_1</th>\n",
              "      <th>active_0</th>\n",
              "      <th>active_1</th>\n",
              "    </tr>\n",
              "  </thead>\n",
              "  <tbody>\n",
              "    <tr>\n",
              "      <th>0</th>\n",
              "      <td>50</td>\n",
              "      <td>168.0</td>\n",
              "      <td>62.0</td>\n",
              "      <td>110.0</td>\n",
              "      <td>80.0</td>\n",
              "      <td>0</td>\n",
              "      <td>22.0</td>\n",
              "      <td>0</td>\n",
              "      <td>1</td>\n",
              "      <td>1</td>\n",
              "      <td>0</td>\n",
              "      <td>0</td>\n",
              "      <td>1</td>\n",
              "      <td>0</td>\n",
              "      <td>0</td>\n",
              "      <td>1</td>\n",
              "      <td>0</td>\n",
              "      <td>1</td>\n",
              "      <td>0</td>\n",
              "      <td>0</td>\n",
              "      <td>1</td>\n",
              "    </tr>\n",
              "    <tr>\n",
              "      <th>1</th>\n",
              "      <td>55</td>\n",
              "      <td>156.0</td>\n",
              "      <td>85.0</td>\n",
              "      <td>140.0</td>\n",
              "      <td>90.0</td>\n",
              "      <td>1</td>\n",
              "      <td>35.0</td>\n",
              "      <td>1</td>\n",
              "      <td>0</td>\n",
              "      <td>0</td>\n",
              "      <td>0</td>\n",
              "      <td>1</td>\n",
              "      <td>1</td>\n",
              "      <td>0</td>\n",
              "      <td>0</td>\n",
              "      <td>1</td>\n",
              "      <td>0</td>\n",
              "      <td>1</td>\n",
              "      <td>0</td>\n",
              "      <td>0</td>\n",
              "      <td>1</td>\n",
              "    </tr>\n",
              "    <tr>\n",
              "      <th>2</th>\n",
              "      <td>52</td>\n",
              "      <td>165.0</td>\n",
              "      <td>64.0</td>\n",
              "      <td>130.0</td>\n",
              "      <td>70.0</td>\n",
              "      <td>1</td>\n",
              "      <td>24.0</td>\n",
              "      <td>1</td>\n",
              "      <td>0</td>\n",
              "      <td>0</td>\n",
              "      <td>0</td>\n",
              "      <td>1</td>\n",
              "      <td>1</td>\n",
              "      <td>0</td>\n",
              "      <td>0</td>\n",
              "      <td>1</td>\n",
              "      <td>0</td>\n",
              "      <td>1</td>\n",
              "      <td>0</td>\n",
              "      <td>1</td>\n",
              "      <td>0</td>\n",
              "    </tr>\n",
              "    <tr>\n",
              "      <th>3</th>\n",
              "      <td>48</td>\n",
              "      <td>169.0</td>\n",
              "      <td>82.0</td>\n",
              "      <td>150.0</td>\n",
              "      <td>100.0</td>\n",
              "      <td>1</td>\n",
              "      <td>29.0</td>\n",
              "      <td>0</td>\n",
              "      <td>1</td>\n",
              "      <td>1</td>\n",
              "      <td>0</td>\n",
              "      <td>0</td>\n",
              "      <td>1</td>\n",
              "      <td>0</td>\n",
              "      <td>0</td>\n",
              "      <td>1</td>\n",
              "      <td>0</td>\n",
              "      <td>1</td>\n",
              "      <td>0</td>\n",
              "      <td>0</td>\n",
              "      <td>1</td>\n",
              "    </tr>\n",
              "    <tr>\n",
              "      <th>4</th>\n",
              "      <td>48</td>\n",
              "      <td>156.0</td>\n",
              "      <td>56.0</td>\n",
              "      <td>100.0</td>\n",
              "      <td>60.0</td>\n",
              "      <td>0</td>\n",
              "      <td>23.0</td>\n",
              "      <td>1</td>\n",
              "      <td>0</td>\n",
              "      <td>1</td>\n",
              "      <td>0</td>\n",
              "      <td>0</td>\n",
              "      <td>1</td>\n",
              "      <td>0</td>\n",
              "      <td>0</td>\n",
              "      <td>1</td>\n",
              "      <td>0</td>\n",
              "      <td>1</td>\n",
              "      <td>0</td>\n",
              "      <td>1</td>\n",
              "      <td>0</td>\n",
              "    </tr>\n",
              "    <tr>\n",
              "      <th>...</th>\n",
              "      <td>...</td>\n",
              "      <td>...</td>\n",
              "      <td>...</td>\n",
              "      <td>...</td>\n",
              "      <td>...</td>\n",
              "      <td>...</td>\n",
              "      <td>...</td>\n",
              "      <td>...</td>\n",
              "      <td>...</td>\n",
              "      <td>...</td>\n",
              "      <td>...</td>\n",
              "      <td>...</td>\n",
              "      <td>...</td>\n",
              "      <td>...</td>\n",
              "      <td>...</td>\n",
              "      <td>...</td>\n",
              "      <td>...</td>\n",
              "      <td>...</td>\n",
              "      <td>...</td>\n",
              "      <td>...</td>\n",
              "      <td>...</td>\n",
              "    </tr>\n",
              "    <tr>\n",
              "      <th>69993</th>\n",
              "      <td>54</td>\n",
              "      <td>172.0</td>\n",
              "      <td>70.0</td>\n",
              "      <td>130.0</td>\n",
              "      <td>90.0</td>\n",
              "      <td>1</td>\n",
              "      <td>24.0</td>\n",
              "      <td>1</td>\n",
              "      <td>0</td>\n",
              "      <td>1</td>\n",
              "      <td>0</td>\n",
              "      <td>0</td>\n",
              "      <td>1</td>\n",
              "      <td>0</td>\n",
              "      <td>0</td>\n",
              "      <td>1</td>\n",
              "      <td>0</td>\n",
              "      <td>1</td>\n",
              "      <td>0</td>\n",
              "      <td>0</td>\n",
              "      <td>1</td>\n",
              "    </tr>\n",
              "    <tr>\n",
              "      <th>69994</th>\n",
              "      <td>58</td>\n",
              "      <td>165.0</td>\n",
              "      <td>80.0</td>\n",
              "      <td>150.0</td>\n",
              "      <td>80.0</td>\n",
              "      <td>1</td>\n",
              "      <td>29.0</td>\n",
              "      <td>1</td>\n",
              "      <td>0</td>\n",
              "      <td>1</td>\n",
              "      <td>0</td>\n",
              "      <td>0</td>\n",
              "      <td>1</td>\n",
              "      <td>0</td>\n",
              "      <td>0</td>\n",
              "      <td>1</td>\n",
              "      <td>0</td>\n",
              "      <td>1</td>\n",
              "      <td>0</td>\n",
              "      <td>0</td>\n",
              "      <td>1</td>\n",
              "    </tr>\n",
              "    <tr>\n",
              "      <th>69995</th>\n",
              "      <td>53</td>\n",
              "      <td>168.0</td>\n",
              "      <td>76.0</td>\n",
              "      <td>120.0</td>\n",
              "      <td>80.0</td>\n",
              "      <td>0</td>\n",
              "      <td>27.0</td>\n",
              "      <td>0</td>\n",
              "      <td>1</td>\n",
              "      <td>1</td>\n",
              "      <td>0</td>\n",
              "      <td>0</td>\n",
              "      <td>1</td>\n",
              "      <td>0</td>\n",
              "      <td>0</td>\n",
              "      <td>0</td>\n",
              "      <td>1</td>\n",
              "      <td>1</td>\n",
              "      <td>0</td>\n",
              "      <td>0</td>\n",
              "      <td>1</td>\n",
              "    </tr>\n",
              "    <tr>\n",
              "      <th>69998</th>\n",
              "      <td>61</td>\n",
              "      <td>163.0</td>\n",
              "      <td>72.0</td>\n",
              "      <td>135.0</td>\n",
              "      <td>80.0</td>\n",
              "      <td>1</td>\n",
              "      <td>27.0</td>\n",
              "      <td>1</td>\n",
              "      <td>0</td>\n",
              "      <td>1</td>\n",
              "      <td>0</td>\n",
              "      <td>0</td>\n",
              "      <td>0</td>\n",
              "      <td>1</td>\n",
              "      <td>0</td>\n",
              "      <td>1</td>\n",
              "      <td>0</td>\n",
              "      <td>1</td>\n",
              "      <td>0</td>\n",
              "      <td>1</td>\n",
              "      <td>0</td>\n",
              "    </tr>\n",
              "    <tr>\n",
              "      <th>69999</th>\n",
              "      <td>56</td>\n",
              "      <td>170.0</td>\n",
              "      <td>72.0</td>\n",
              "      <td>120.0</td>\n",
              "      <td>80.0</td>\n",
              "      <td>0</td>\n",
              "      <td>25.0</td>\n",
              "      <td>1</td>\n",
              "      <td>0</td>\n",
              "      <td>0</td>\n",
              "      <td>1</td>\n",
              "      <td>0</td>\n",
              "      <td>1</td>\n",
              "      <td>0</td>\n",
              "      <td>0</td>\n",
              "      <td>1</td>\n",
              "      <td>0</td>\n",
              "      <td>1</td>\n",
              "      <td>0</td>\n",
              "      <td>0</td>\n",
              "      <td>1</td>\n",
              "    </tr>\n",
              "  </tbody>\n",
              "</table>\n",
              "<p>63433 rows × 21 columns</p>\n",
              "</div>"
            ],
            "text/plain": [
              "       age  height  weight  ap_hi  ...  alco_0  alco_1  active_0  active_1\n",
              "0       50   168.0    62.0  110.0  ...       1       0         0         1\n",
              "1       55   156.0    85.0  140.0  ...       1       0         0         1\n",
              "2       52   165.0    64.0  130.0  ...       1       0         1         0\n",
              "3       48   169.0    82.0  150.0  ...       1       0         0         1\n",
              "4       48   156.0    56.0  100.0  ...       1       0         1         0\n",
              "...    ...     ...     ...    ...  ...     ...     ...       ...       ...\n",
              "69993   54   172.0    70.0  130.0  ...       1       0         0         1\n",
              "69994   58   165.0    80.0  150.0  ...       1       0         0         1\n",
              "69995   53   168.0    76.0  120.0  ...       1       0         0         1\n",
              "69998   61   163.0    72.0  135.0  ...       1       0         1         0\n",
              "69999   56   170.0    72.0  120.0  ...       1       0         0         1\n",
              "\n",
              "[63433 rows x 21 columns]"
            ]
          },
          "metadata": {},
          "execution_count": 16
        }
      ]
    },
    {
      "cell_type": "code",
      "metadata": {
        "id": "mUrUzdXZJRTv"
      },
      "source": [
        "mlcardio = mlcardio.drop(['cholesterol_3','gluc_3','smoke_0','alco_0','active_0'],axis = 1)"
      ],
      "execution_count": null,
      "outputs": []
    },
    {
      "cell_type": "code",
      "metadata": {
        "id": "t1QkSQpvO7Ed"
      },
      "source": [
        "X = mlcardio.drop(['cardio'], axis=1)\n",
        "y = mlcardio.cardio"
      ],
      "execution_count": null,
      "outputs": []
    },
    {
      "cell_type": "code",
      "metadata": {
        "colab": {
          "base_uri": "https://localhost:8080/",
          "height": 205
        },
        "id": "8L-FabclQB_L",
        "outputId": "f8627943-ab45-456a-dfd2-84774bd29512"
      },
      "source": [
        "X.head()"
      ],
      "execution_count": null,
      "outputs": [
        {
          "output_type": "execute_result",
          "data": {
            "text/html": [
              "<div>\n",
              "<style scoped>\n",
              "    .dataframe tbody tr th:only-of-type {\n",
              "        vertical-align: middle;\n",
              "    }\n",
              "\n",
              "    .dataframe tbody tr th {\n",
              "        vertical-align: top;\n",
              "    }\n",
              "\n",
              "    .dataframe thead th {\n",
              "        text-align: right;\n",
              "    }\n",
              "</style>\n",
              "<table border=\"1\" class=\"dataframe\">\n",
              "  <thead>\n",
              "    <tr style=\"text-align: right;\">\n",
              "      <th></th>\n",
              "      <th>age</th>\n",
              "      <th>height</th>\n",
              "      <th>weight</th>\n",
              "      <th>ap_hi</th>\n",
              "      <th>ap_lo</th>\n",
              "      <th>IMC</th>\n",
              "      <th>gender_1</th>\n",
              "      <th>gender_2</th>\n",
              "      <th>cholesterol_1</th>\n",
              "      <th>cholesterol_2</th>\n",
              "      <th>gluc_1</th>\n",
              "      <th>gluc_2</th>\n",
              "      <th>smoke_1</th>\n",
              "      <th>alco_1</th>\n",
              "      <th>active_1</th>\n",
              "    </tr>\n",
              "  </thead>\n",
              "  <tbody>\n",
              "    <tr>\n",
              "      <th>0</th>\n",
              "      <td>50</td>\n",
              "      <td>168.0</td>\n",
              "      <td>62.0</td>\n",
              "      <td>110.0</td>\n",
              "      <td>80.0</td>\n",
              "      <td>22.0</td>\n",
              "      <td>0</td>\n",
              "      <td>1</td>\n",
              "      <td>1</td>\n",
              "      <td>0</td>\n",
              "      <td>1</td>\n",
              "      <td>0</td>\n",
              "      <td>0</td>\n",
              "      <td>0</td>\n",
              "      <td>1</td>\n",
              "    </tr>\n",
              "    <tr>\n",
              "      <th>1</th>\n",
              "      <td>55</td>\n",
              "      <td>156.0</td>\n",
              "      <td>85.0</td>\n",
              "      <td>140.0</td>\n",
              "      <td>90.0</td>\n",
              "      <td>35.0</td>\n",
              "      <td>1</td>\n",
              "      <td>0</td>\n",
              "      <td>0</td>\n",
              "      <td>0</td>\n",
              "      <td>1</td>\n",
              "      <td>0</td>\n",
              "      <td>0</td>\n",
              "      <td>0</td>\n",
              "      <td>1</td>\n",
              "    </tr>\n",
              "    <tr>\n",
              "      <th>2</th>\n",
              "      <td>52</td>\n",
              "      <td>165.0</td>\n",
              "      <td>64.0</td>\n",
              "      <td>130.0</td>\n",
              "      <td>70.0</td>\n",
              "      <td>24.0</td>\n",
              "      <td>1</td>\n",
              "      <td>0</td>\n",
              "      <td>0</td>\n",
              "      <td>0</td>\n",
              "      <td>1</td>\n",
              "      <td>0</td>\n",
              "      <td>0</td>\n",
              "      <td>0</td>\n",
              "      <td>0</td>\n",
              "    </tr>\n",
              "    <tr>\n",
              "      <th>3</th>\n",
              "      <td>48</td>\n",
              "      <td>169.0</td>\n",
              "      <td>82.0</td>\n",
              "      <td>150.0</td>\n",
              "      <td>100.0</td>\n",
              "      <td>29.0</td>\n",
              "      <td>0</td>\n",
              "      <td>1</td>\n",
              "      <td>1</td>\n",
              "      <td>0</td>\n",
              "      <td>1</td>\n",
              "      <td>0</td>\n",
              "      <td>0</td>\n",
              "      <td>0</td>\n",
              "      <td>1</td>\n",
              "    </tr>\n",
              "    <tr>\n",
              "      <th>4</th>\n",
              "      <td>48</td>\n",
              "      <td>156.0</td>\n",
              "      <td>56.0</td>\n",
              "      <td>100.0</td>\n",
              "      <td>60.0</td>\n",
              "      <td>23.0</td>\n",
              "      <td>1</td>\n",
              "      <td>0</td>\n",
              "      <td>1</td>\n",
              "      <td>0</td>\n",
              "      <td>1</td>\n",
              "      <td>0</td>\n",
              "      <td>0</td>\n",
              "      <td>0</td>\n",
              "      <td>0</td>\n",
              "    </tr>\n",
              "  </tbody>\n",
              "</table>\n",
              "</div>"
            ],
            "text/plain": [
              "   age  height  weight  ap_hi  ap_lo  ...  gluc_1  gluc_2  smoke_1  alco_1  active_1\n",
              "0   50   168.0    62.0  110.0   80.0  ...       1       0        0       0         1\n",
              "1   55   156.0    85.0  140.0   90.0  ...       1       0        0       0         1\n",
              "2   52   165.0    64.0  130.0   70.0  ...       1       0        0       0         0\n",
              "3   48   169.0    82.0  150.0  100.0  ...       1       0        0       0         1\n",
              "4   48   156.0    56.0  100.0   60.0  ...       1       0        0       0         0\n",
              "\n",
              "[5 rows x 15 columns]"
            ]
          },
          "metadata": {},
          "execution_count": 19
        }
      ]
    },
    {
      "cell_type": "code",
      "metadata": {
        "colab": {
          "base_uri": "https://localhost:8080/"
        },
        "id": "fQVjZNLyQDWi",
        "outputId": "19d849bf-4d21-4ac2-9824-e101ad167b71"
      },
      "source": [
        "y.head()"
      ],
      "execution_count": null,
      "outputs": [
        {
          "output_type": "execute_result",
          "data": {
            "text/plain": [
              "0    0\n",
              "1    1\n",
              "2    1\n",
              "3    1\n",
              "4    0\n",
              "Name: cardio, dtype: int64"
            ]
          },
          "metadata": {},
          "execution_count": 20
        }
      ]
    },
    {
      "cell_type": "code",
      "metadata": {
        "colab": {
          "base_uri": "https://localhost:8080/",
          "height": 382
        },
        "id": "F9ptrsIkQGpo",
        "outputId": "cb7c1b3a-7ba4-421e-87ed-520ecaeec39e"
      },
      "source": [
        "#normalizar os dados - colocar na mesma escala ou limitar os dados\n",
        "X = (X - X.min())/(X.max()-X.min())\n",
        "X.head(10)"
      ],
      "execution_count": null,
      "outputs": [
        {
          "output_type": "execute_result",
          "data": {
            "text/html": [
              "<div>\n",
              "<style scoped>\n",
              "    .dataframe tbody tr th:only-of-type {\n",
              "        vertical-align: middle;\n",
              "    }\n",
              "\n",
              "    .dataframe tbody tr th {\n",
              "        vertical-align: top;\n",
              "    }\n",
              "\n",
              "    .dataframe thead th {\n",
              "        text-align: right;\n",
              "    }\n",
              "</style>\n",
              "<table border=\"1\" class=\"dataframe\">\n",
              "  <thead>\n",
              "    <tr style=\"text-align: right;\">\n",
              "      <th></th>\n",
              "      <th>age</th>\n",
              "      <th>height</th>\n",
              "      <th>weight</th>\n",
              "      <th>ap_hi</th>\n",
              "      <th>ap_lo</th>\n",
              "      <th>IMC</th>\n",
              "      <th>gender_1</th>\n",
              "      <th>gender_2</th>\n",
              "      <th>cholesterol_1</th>\n",
              "      <th>cholesterol_2</th>\n",
              "      <th>gluc_1</th>\n",
              "      <th>gluc_2</th>\n",
              "      <th>smoke_1</th>\n",
              "      <th>alco_1</th>\n",
              "      <th>active_1</th>\n",
              "    </tr>\n",
              "  </thead>\n",
              "  <tbody>\n",
              "    <tr>\n",
              "      <th>0</th>\n",
              "      <td>0.571429</td>\n",
              "      <td>0.62500</td>\n",
              "      <td>0.288256</td>\n",
              "      <td>0.471869</td>\n",
              "      <td>0.576923</td>\n",
              "      <td>0.260870</td>\n",
              "      <td>0.0</td>\n",
              "      <td>1.0</td>\n",
              "      <td>1.0</td>\n",
              "      <td>0.0</td>\n",
              "      <td>1.0</td>\n",
              "      <td>0.0</td>\n",
              "      <td>0.0</td>\n",
              "      <td>0.0</td>\n",
              "      <td>1.0</td>\n",
              "    </tr>\n",
              "    <tr>\n",
              "      <th>1</th>\n",
              "      <td>0.714286</td>\n",
              "      <td>0.25000</td>\n",
              "      <td>0.697509</td>\n",
              "      <td>0.526316</td>\n",
              "      <td>0.615385</td>\n",
              "      <td>0.826087</td>\n",
              "      <td>1.0</td>\n",
              "      <td>0.0</td>\n",
              "      <td>0.0</td>\n",
              "      <td>0.0</td>\n",
              "      <td>1.0</td>\n",
              "      <td>0.0</td>\n",
              "      <td>0.0</td>\n",
              "      <td>0.0</td>\n",
              "      <td>1.0</td>\n",
              "    </tr>\n",
              "    <tr>\n",
              "      <th>2</th>\n",
              "      <td>0.628571</td>\n",
              "      <td>0.53125</td>\n",
              "      <td>0.323843</td>\n",
              "      <td>0.508167</td>\n",
              "      <td>0.538462</td>\n",
              "      <td>0.347826</td>\n",
              "      <td>1.0</td>\n",
              "      <td>0.0</td>\n",
              "      <td>0.0</td>\n",
              "      <td>0.0</td>\n",
              "      <td>1.0</td>\n",
              "      <td>0.0</td>\n",
              "      <td>0.0</td>\n",
              "      <td>0.0</td>\n",
              "      <td>0.0</td>\n",
              "    </tr>\n",
              "    <tr>\n",
              "      <th>3</th>\n",
              "      <td>0.514286</td>\n",
              "      <td>0.65625</td>\n",
              "      <td>0.644128</td>\n",
              "      <td>0.544465</td>\n",
              "      <td>0.653846</td>\n",
              "      <td>0.565217</td>\n",
              "      <td>0.0</td>\n",
              "      <td>1.0</td>\n",
              "      <td>1.0</td>\n",
              "      <td>0.0</td>\n",
              "      <td>1.0</td>\n",
              "      <td>0.0</td>\n",
              "      <td>0.0</td>\n",
              "      <td>0.0</td>\n",
              "      <td>1.0</td>\n",
              "    </tr>\n",
              "    <tr>\n",
              "      <th>4</th>\n",
              "      <td>0.514286</td>\n",
              "      <td>0.25000</td>\n",
              "      <td>0.181495</td>\n",
              "      <td>0.453721</td>\n",
              "      <td>0.500000</td>\n",
              "      <td>0.304348</td>\n",
              "      <td>1.0</td>\n",
              "      <td>0.0</td>\n",
              "      <td>1.0</td>\n",
              "      <td>0.0</td>\n",
              "      <td>1.0</td>\n",
              "      <td>0.0</td>\n",
              "      <td>0.0</td>\n",
              "      <td>0.0</td>\n",
              "      <td>0.0</td>\n",
              "    </tr>\n",
              "    <tr>\n",
              "      <th>5</th>\n",
              "      <td>0.857143</td>\n",
              "      <td>0.09375</td>\n",
              "      <td>0.377224</td>\n",
              "      <td>0.490018</td>\n",
              "      <td>0.576923</td>\n",
              "      <td>0.565217</td>\n",
              "      <td>1.0</td>\n",
              "      <td>0.0</td>\n",
              "      <td>0.0</td>\n",
              "      <td>1.0</td>\n",
              "      <td>0.0</td>\n",
              "      <td>1.0</td>\n",
              "      <td>0.0</td>\n",
              "      <td>0.0</td>\n",
              "      <td>0.0</td>\n",
              "    </tr>\n",
              "    <tr>\n",
              "      <th>6</th>\n",
              "      <td>0.885714</td>\n",
              "      <td>0.28125</td>\n",
              "      <td>0.839858</td>\n",
              "      <td>0.508167</td>\n",
              "      <td>0.576923</td>\n",
              "      <td>0.956522</td>\n",
              "      <td>1.0</td>\n",
              "      <td>0.0</td>\n",
              "      <td>0.0</td>\n",
              "      <td>0.0</td>\n",
              "      <td>1.0</td>\n",
              "      <td>0.0</td>\n",
              "      <td>0.0</td>\n",
              "      <td>0.0</td>\n",
              "      <td>1.0</td>\n",
              "    </tr>\n",
              "    <tr>\n",
              "      <th>7</th>\n",
              "      <td>0.914286</td>\n",
              "      <td>0.93750</td>\n",
              "      <td>0.875445</td>\n",
              "      <td>0.508167</td>\n",
              "      <td>0.615385</td>\n",
              "      <td>0.608696</td>\n",
              "      <td>0.0</td>\n",
              "      <td>1.0</td>\n",
              "      <td>0.0</td>\n",
              "      <td>0.0</td>\n",
              "      <td>0.0</td>\n",
              "      <td>0.0</td>\n",
              "      <td>0.0</td>\n",
              "      <td>0.0</td>\n",
              "      <td>1.0</td>\n",
              "    </tr>\n",
              "    <tr>\n",
              "      <th>8</th>\n",
              "      <td>0.514286</td>\n",
              "      <td>0.31250</td>\n",
              "      <td>0.448399</td>\n",
              "      <td>0.471869</td>\n",
              "      <td>0.538462</td>\n",
              "      <td>0.521739</td>\n",
              "      <td>1.0</td>\n",
              "      <td>0.0</td>\n",
              "      <td>1.0</td>\n",
              "      <td>0.0</td>\n",
              "      <td>1.0</td>\n",
              "      <td>0.0</td>\n",
              "      <td>0.0</td>\n",
              "      <td>0.0</td>\n",
              "      <td>1.0</td>\n",
              "    </tr>\n",
              "    <tr>\n",
              "      <th>9</th>\n",
              "      <td>0.685714</td>\n",
              "      <td>0.50000</td>\n",
              "      <td>0.395018</td>\n",
              "      <td>0.471869</td>\n",
              "      <td>0.500000</td>\n",
              "      <td>0.391304</td>\n",
              "      <td>1.0</td>\n",
              "      <td>0.0</td>\n",
              "      <td>1.0</td>\n",
              "      <td>0.0</td>\n",
              "      <td>1.0</td>\n",
              "      <td>0.0</td>\n",
              "      <td>0.0</td>\n",
              "      <td>0.0</td>\n",
              "      <td>0.0</td>\n",
              "    </tr>\n",
              "  </tbody>\n",
              "</table>\n",
              "</div>"
            ],
            "text/plain": [
              "        age   height    weight     ap_hi  ...  gluc_2  smoke_1  alco_1  active_1\n",
              "0  0.571429  0.62500  0.288256  0.471869  ...     0.0      0.0     0.0       1.0\n",
              "1  0.714286  0.25000  0.697509  0.526316  ...     0.0      0.0     0.0       1.0\n",
              "2  0.628571  0.53125  0.323843  0.508167  ...     0.0      0.0     0.0       0.0\n",
              "3  0.514286  0.65625  0.644128  0.544465  ...     0.0      0.0     0.0       1.0\n",
              "4  0.514286  0.25000  0.181495  0.453721  ...     0.0      0.0     0.0       0.0\n",
              "5  0.857143  0.09375  0.377224  0.490018  ...     1.0      0.0     0.0       0.0\n",
              "6  0.885714  0.28125  0.839858  0.508167  ...     0.0      0.0     0.0       1.0\n",
              "7  0.914286  0.93750  0.875445  0.508167  ...     0.0      0.0     0.0       1.0\n",
              "8  0.514286  0.31250  0.448399  0.471869  ...     0.0      0.0     0.0       1.0\n",
              "9  0.685714  0.50000  0.395018  0.471869  ...     0.0      0.0     0.0       0.0\n",
              "\n",
              "[10 rows x 15 columns]"
            ]
          },
          "metadata": {},
          "execution_count": 21
        }
      ]
    },
    {
      "cell_type": "code",
      "metadata": {
        "id": "67x24EMKQPNC"
      },
      "source": [
        "from sklearn.metrics import confusion_matrix,accuracy_score\n",
        "from sklearn.model_selection import train_test_split\n",
        "X_train, X_test, y_train, y_test = train_test_split(X, y, test_size=0.70, random_state=5)"
      ],
      "execution_count": null,
      "outputs": []
    },
    {
      "cell_type": "markdown",
      "metadata": {
        "id": "4_jwqASrKsXK"
      },
      "source": [
        "##Regressão logística"
      ]
    },
    {
      "cell_type": "code",
      "metadata": {
        "colab": {
          "base_uri": "https://localhost:8080/"
        },
        "id": "cBLxoZ2ZQXNA",
        "outputId": "29ef354d-8f56-4ac0-a7e6-bb0c178d32a5"
      },
      "source": [
        "from sklearn.linear_model import LogisticRegression\n",
        "lr = LogisticRegression()\n",
        "lr.fit(X_train,y_train)"
      ],
      "execution_count": null,
      "outputs": [
        {
          "output_type": "stream",
          "text": [
            "/usr/local/lib/python3.7/dist-packages/sklearn/linear_model/_logistic.py:940: ConvergenceWarning: lbfgs failed to converge (status=1):\n",
            "STOP: TOTAL NO. of ITERATIONS REACHED LIMIT.\n",
            "\n",
            "Increase the number of iterations (max_iter) or scale the data as shown in:\n",
            "    https://scikit-learn.org/stable/modules/preprocessing.html\n",
            "Please also refer to the documentation for alternative solver options:\n",
            "    https://scikit-learn.org/stable/modules/linear_model.html#logistic-regression\n",
            "  extra_warning_msg=_LOGISTIC_SOLVER_CONVERGENCE_MSG)\n"
          ],
          "name": "stderr"
        },
        {
          "output_type": "execute_result",
          "data": {
            "text/plain": [
              "LogisticRegression(C=1.0, class_weight=None, dual=False, fit_intercept=True,\n",
              "                   intercept_scaling=1, l1_ratio=None, max_iter=100,\n",
              "                   multi_class='auto', n_jobs=None, penalty='l2',\n",
              "                   random_state=None, solver='lbfgs', tol=0.0001, verbose=0,\n",
              "                   warm_start=False)"
            ]
          },
          "metadata": {},
          "execution_count": 23
        }
      ]
    },
    {
      "cell_type": "code",
      "metadata": {
        "id": "KxQSor-AQahR"
      },
      "source": [
        "y_pred = lr.predict(X_test)"
      ],
      "execution_count": null,
      "outputs": []
    },
    {
      "cell_type": "code",
      "metadata": {
        "colab": {
          "base_uri": "https://localhost:8080/"
        },
        "id": "Qp2afe1qQe0Q",
        "outputId": "cbad917a-8c12-4dc9-df94-c4535c389276"
      },
      "source": [
        "lr.predict_proba(X_test)"
      ],
      "execution_count": null,
      "outputs": [
        {
          "output_type": "execute_result",
          "data": {
            "text/plain": [
              "array([[0.64037718, 0.35962282],\n",
              "       [0.41523547, 0.58476453],\n",
              "       [0.57794793, 0.42205207],\n",
              "       ...,\n",
              "       [0.58257834, 0.41742166],\n",
              "       [0.42335861, 0.57664139],\n",
              "       [0.72703181, 0.27296819]])"
            ]
          },
          "metadata": {},
          "execution_count": 25
        }
      ]
    },
    {
      "cell_type": "code",
      "metadata": {
        "colab": {
          "base_uri": "https://localhost:8080/"
        },
        "id": "urDvFlKkQuZR",
        "outputId": "227b7bb8-caf7-40f3-ed29-5e87941314e4"
      },
      "source": [
        "y_pred"
      ],
      "execution_count": null,
      "outputs": [
        {
          "output_type": "execute_result",
          "data": {
            "text/plain": [
              "array([0, 1, 0, ..., 0, 1, 0])"
            ]
          },
          "metadata": {},
          "execution_count": 26
        }
      ]
    },
    {
      "cell_type": "code",
      "metadata": {
        "colab": {
          "base_uri": "https://localhost:8080/"
        },
        "id": "K0KBGMTAQzZO",
        "outputId": "ee2ee31a-09c2-4d11-a347-74e1e8199fb0"
      },
      "source": [
        "print(accuracy_score(y_test,y_pred)*100,'%')"
      ],
      "execution_count": null,
      "outputs": [
        {
          "output_type": "stream",
          "text": [
            "71.94847311053059 %\n"
          ],
          "name": "stdout"
        }
      ]
    },
    {
      "cell_type": "code",
      "metadata": {
        "id": "Ux_sMA-tJykc"
      },
      "source": [
        "dic = {1:'positivo',0:'negativo'}"
      ],
      "execution_count": null,
      "outputs": []
    },
    {
      "cell_type": "code",
      "metadata": {
        "colab": {
          "base_uri": "https://localhost:8080/",
          "height": 328
        },
        "id": "oSrSIi9FQ20d",
        "outputId": "e39547c3-b72b-4803-8c94-884abfe228fb"
      },
      "source": [
        "ax = sns.heatmap(confusion_matrix(y_test,y_pred)/1000, annot=True, cmap=\"RdPu\")\n",
        "plt.ylabel('Previsto')\n",
        "plt.xlabel('Valor Real')\n",
        "plt.title('Matriz de confusão na ordem de 10³ \\n')"
      ],
      "execution_count": null,
      "outputs": [
        {
          "output_type": "execute_result",
          "data": {
            "text/plain": [
              "Text(0.5, 1.0, 'Matriz de confusão na ordem de 10³ \\n')"
            ]
          },
          "metadata": {},
          "execution_count": 29
        },
        {
          "output_type": "display_data",
          "data": {
            "image/png": "[encoded data removed]",
            "text/plain": [
              "<Figure size 432x288 with 2 Axes>"
            ]
          },
          "metadata": {
            "needs_background": "light"
          }
        }
      ]
    },
    {
      "cell_type": "code",
      "metadata": {
        "colab": {
          "base_uri": "https://localhost:8080/"
        },
        "id": "r1hkAlEMRnQd",
        "outputId": "3b0df60b-1aec-44f3-932c-75d257e9e874"
      },
      "source": [
        "confusao = confusion_matrix(y_test,y_pred)\n",
        "confusao"
      ],
      "execution_count": null,
      "outputs": [
        {
          "output_type": "execute_result",
          "data": {
            "text/plain": [
              "array([[17592,  5248],\n",
              "       [ 7208, 14356]])"
            ]
          },
          "metadata": {},
          "execution_count": 30
        }
      ]
    },
    {
      "cell_type": "code",
      "metadata": {
        "id": "MruNB68AVjey"
      },
      "source": [
        "#calculando o odds ration\n",
        "odds = np.exp(lr.coef_)"
      ],
      "execution_count": null,
      "outputs": []
    },
    {
      "cell_type": "code",
      "metadata": {
        "colab": {
          "base_uri": "https://localhost:8080/"
        },
        "id": "1tU8sMZ3VmZQ",
        "outputId": "585d9241-eaab-43e5-de0d-b3967b0c3a90"
      },
      "source": [
        "for i in range(0, len(X.columns)):\n",
        "    print(X.columns[i],\":\",odds[0][i])"
      ],
      "execution_count": null,
      "outputs": [
        {
          "output_type": "stream",
          "text": [
            "age : 7.125339990386371\n",
            "height : 0.7455892767485288\n",
            "weight : 2.6659566869389923\n",
            "ap_hi : 14020426.500404831\n",
            "ap_lo : 1710.2013498359843\n",
            "IMC : 0.9749044861212912\n",
            "gender_1 : 0.9483068348259195\n",
            "gender_2 : 0.9902219902558347\n",
            "cholesterol_1 : 0.31843641950268414\n",
            "cholesterol_2 : 0.4874194713213166\n",
            "gluc_1 : 1.3569777715524856\n",
            "gluc_2 : 1.4206610129292279\n",
            "smoke_1 : 0.8493053647983937\n",
            "alco_1 : 0.7943396422212677\n",
            "active_1 : 0.7766302247393131\n"
          ],
          "name": "stdout"
        }
      ]
    },
    {
      "cell_type": "markdown",
      "metadata": {
        "id": "WxfDSGBWLE2Q"
      },
      "source": [
        "##Random Forest"
      ]
    },
    {
      "cell_type": "code",
      "metadata": {
        "colab": {
          "base_uri": "https://localhost:8080/"
        },
        "id": "lvl6LBvKUIgo",
        "outputId": "3a95ee3e-f926-438c-be0f-0a8dd4ad55ae"
      },
      "source": [
        "#Random Forest\n",
        "clf = RandomForestClassifier()\n",
        "clf.fit(X_train, y_train)"
      ],
      "execution_count": null,
      "outputs": [
        {
          "output_type": "execute_result",
          "data": {
            "text/plain": [
              "RandomForestClassifier(bootstrap=True, ccp_alpha=0.0, class_weight=None,\n",
              "                       criterion='gini', max_depth=None, max_features='auto',\n",
              "                       max_leaf_nodes=None, max_samples=None,\n",
              "                       min_impurity_decrease=0.0, min_impurity_split=None,\n",
              "                       min_samples_leaf=1, min_samples_split=2,\n",
              "                       min_weight_fraction_leaf=0.0, n_estimators=100,\n",
              "                       n_jobs=None, oob_score=False, random_state=None,\n",
              "                       verbose=0, warm_start=False)"
            ]
          },
          "metadata": {},
          "execution_count": 33
        }
      ]
    },
    {
      "cell_type": "code",
      "metadata": {
        "id": "OzXyCbhCmPFo"
      },
      "source": [
        "y_predic=clf.predict(X_test)\n"
      ],
      "execution_count": null,
      "outputs": []
    },
    {
      "cell_type": "code",
      "metadata": {
        "colab": {
          "base_uri": "https://localhost:8080/"
        },
        "id": "CYyRBWKKmWHD",
        "outputId": "9e1cad73-ad60-4a05-a1a6-0d13559ee335"
      },
      "source": [
        "print(accuracy_score(y_test,y_predic)*100)"
      ],
      "execution_count": null,
      "outputs": [
        {
          "output_type": "stream",
          "text": [
            "70.85397711917845\n"
          ],
          "name": "stdout"
        }
      ]
    },
    {
      "cell_type": "code",
      "metadata": {
        "colab": {
          "base_uri": "https://localhost:8080/",
          "height": 349
        },
        "id": "H8u1KH52m0Yc",
        "outputId": "af59a998-aa70-41ef-bbc2-fd42dfd17cd9"
      },
      "source": [
        "sns.barplot(x=X.columns, y=clf.feature_importances_,palette='cool')\n",
        "plt.xticks(rotation=50)"
      ],
      "execution_count": null,
      "outputs": [
        {
          "output_type": "execute_result",
          "data": {
            "text/plain": [
              "(array([ 0,  1,  2,  3,  4,  5,  6,  7,  8,  9, 10, 11, 12, 13, 14]),\n",
              " <a list of 15 Text major ticklabel objects>)"
            ]
          },
          "metadata": {},
          "execution_count": 36
        },
        {
          "output_type": "display_data",
          "data": {
            "image/png": "[encoded data removed]",
            "text/plain": [
              "<Figure size 432x288 with 1 Axes>"
            ]
          },
          "metadata": {
            "needs_background": "light"
          }
        }
      ]
    },
    {
      "cell_type": "code",
      "metadata": {
        "colab": {
          "base_uri": "https://localhost:8080/",
          "height": 297
        },
        "id": "er_6pR6iWIRB",
        "outputId": "9f08acbe-2bae-4110-ad4f-6b73d9e3e2e8"
      },
      "source": [
        "ax = sns.heatmap(confusion_matrix(y_test,y_predic)/1000, annot=True, cmap=\"YlGnBu\")\n",
        "plt.ylabel('Previsto')\n",
        "plt.xlabel('Valor Real')"
      ],
      "execution_count": null,
      "outputs": [
        {
          "output_type": "execute_result",
          "data": {
            "text/plain": [
              "Text(0.5, 15.0, 'Valor Real')"
            ]
          },
          "metadata": {},
          "execution_count": 37
        },
        {
          "output_type": "display_data",
          "data": {
            "image/png": "[encoded data removed]",
            "text/plain": [
              "<Figure size 432x288 with 2 Axes>"
            ]
          },
          "metadata": {
            "needs_background": "light"
          }
        }
      ]
    },
    {
      "cell_type": "markdown",
      "metadata": {
        "id": "r1QPKZvPLZtI"
      },
      "source": [
        "##SMV"
      ]
    },
    {
      "cell_type": "code",
      "metadata": {
        "scrolled": true,
        "id": "15watR4FJV5E",
        "colab": {
          "base_uri": "https://localhost:8080/"
        },
        "outputId": "26223923-c001-4edb-eda8-28c5447319f6"
      },
      "source": [
        "#SVM\n",
        "from sklearn.svm import SVC\n",
        "clf = SVC()\n",
        "clf.fit(X_train,y_train)\n"
      ],
      "execution_count": null,
      "outputs": [
        {
          "output_type": "execute_result",
          "data": {
            "text/plain": [
              "SVC(C=1.0, break_ties=False, cache_size=200, class_weight=None, coef0=0.0,\n",
              "    decision_function_shape='ovr', degree=3, gamma='scale', kernel='rbf',\n",
              "    max_iter=-1, probability=False, random_state=None, shrinking=True,\n",
              "    tol=0.001, verbose=False)"
            ]
          },
          "metadata": {},
          "execution_count": 38
        }
      ]
    },
    {
      "cell_type": "code",
      "metadata": {
        "id": "HBlGriCDJV5F"
      },
      "source": [
        "y_predicao=clf.predict(X_test)"
      ],
      "execution_count": null,
      "outputs": []
    },
    {
      "cell_type": "code",
      "metadata": {
        "id": "kMAqIl8OJV5G",
        "colab": {
          "base_uri": "https://localhost:8080/"
        },
        "outputId": "63a4e1c3-372a-45fa-94df-af522aaf0955"
      },
      "source": [
        "print(accuracy_score(y_test,y_predicao)*100)"
      ],
      "execution_count": null,
      "outputs": [
        {
          "output_type": "stream",
          "text": [
            "71.185028375822\n"
          ],
          "name": "stdout"
        }
      ]
    },
    {
      "cell_type": "code",
      "metadata": {
        "scrolled": false,
        "id": "8_EmUmsxJV5G",
        "colab": {
          "base_uri": "https://localhost:8080/",
          "height": 328
        },
        "outputId": "2eafbcb1-6cb4-44f2-8cef-dd6f4277a6fe"
      },
      "source": [
        "ax = sns.heatmap(confusion_matrix(y_test,y_predicao)/1000, annot=True, cmap=\"RdBu\")\n",
        "plt.ylabel('Previsto')\n",
        "plt.xlabel('Valor Real')\n",
        "plt.title('Matriz de confusão na ordem de 10³ \\n')"
      ],
      "execution_count": null,
      "outputs": [
        {
          "output_type": "execute_result",
          "data": {
            "text/plain": [
              "Text(0.5, 1.0, 'Matriz de confusão na ordem de 10³ \\n')"
            ]
          },
          "metadata": {},
          "execution_count": 41
        },
        {
          "output_type": "display_data",
          "data": {
            "image/png": "[encoded data removed]",
            "text/plain": [
              "<Figure size 432x288 with 2 Axes>"
            ]
          },
          "metadata": {
            "needs_background": "light"
          }
        }
      ]
    }
  ]
}